{
 "cells": [
  {
   "cell_type": "markdown",
   "metadata": {
    "id": "1oSIC1QFT4IY"
   },
   "source": [
    "#Task: DeepLense (Test 5)\n",
    "#Author: Archil Srivastava"
   ]
  },
  {
   "cell_type": "markdown",
   "metadata": {
    "id": "AUUYfqEET3Qp"
   },
   "source": [
    "### Table of Contents\n",
    "* [Imports](#imports)\n",
    "* [Prepare Dataset](#prepare-dataset)\n",
    "    * [Load Dataset](#load-dataset)\n",
    "    * [Analyse Dataset](#analyse-dataset)\n",
    "    * [Preprocess Dataset](#preprocess-dataset)\n",
    "* [Training Pipeline](#train-pipeline)\n",
    "* [Training](#training)\n",
    "* [Evaluation](#evaluation)\n",
    "    * [External Evaluation](#external-evaluation)\n",
    "* [Acknowledgements](#acknowledgements)"
   ]
  },
  {
   "cell_type": "markdown",
   "metadata": {
    "id": "Vb_59O5JXcW0"
   },
   "source": [
    "<a name=\"imports\"></a>\n",
    "# Imports"
   ]
  },
  {
   "cell_type": "code",
   "execution_count": 3,
   "metadata": {
    "id": "Kpc2631vXnfR"
   },
   "outputs": [],
   "source": [
    "import tensorflow as tf\n",
    "import tensorflow_addons as tfa\n",
    "from tensorflow import keras\n",
    "from keras.layers import (Layer, Input, Add, Flatten,\n",
    "                          Dense, MultiHeadAttention, Embedding,\n",
    "                          LayerNormalization, Dropout, LeakyReLU,\n",
    "                          RandomFlip, RandomRotation, RandomZoom)\n",
    "from PIL import Image\n",
    "import numpy as np\n",
    "import matplotlib.pyplot as plot\n",
    "\n",
    "import os\n",
    "import pdb"
   ]
  },
  {
   "cell_type": "code",
   "execution_count": 4,
   "metadata": {
    "id": "ODUJkpu8aO_D"
   },
   "outputs": [],
   "source": [
    "### Set Numpy Print Options ###\n",
    "np.set_printoptions(precision=3)\n",
    "np.set_printoptions(suppress=True)"
   ]
  },
  {
   "cell_type": "code",
   "execution_count": 5,
   "metadata": {
    "id": "QgVlxpVAFUev"
   },
   "outputs": [],
   "source": [
    "### Set random seed for reproducibility ###\n",
    "SEED = 0\n",
    "keras.utils.set_random_seed(SEED)\n",
    "tf.config.experimental.enable_op_determinism()"
   ]
  },
  {
   "cell_type": "code",
   "execution_count": 6,
   "metadata": {
    "id": "vfrxCI0JpgHT"
   },
   "outputs": [],
   "source": [
    "PERFORM_TRAINING = False # Set to False if only inference is to be done"
   ]
  },
  {
   "cell_type": "markdown",
   "metadata": {
    "id": "eVxx0yAxXHdV"
   },
   "source": [
    "<a name=\"prepare-dataset\"></a>\n",
    "# Prepare Dataset"
   ]
  },
  {
   "cell_type": "markdown",
   "metadata": {
    "id": "y612_0LfnMNt"
   },
   "source": [
    "<a name=\"load-dataset\"></a>\n",
    "### Load Dataset"
   ]
  },
  {
   "cell_type": "code",
   "execution_count": 7,
   "metadata": {
    "id": "ebbOopetErpT"
   },
   "outputs": [],
   "source": [
    "# Unzip data\n",
    "!tar zxf ./drive/MyDrive/test_5.tgz --transform s/lenses/data/"
   ]
  },
  {
   "cell_type": "code",
   "execution_count": 8,
   "metadata": {
    "colab": {
     "base_uri": "https://localhost:8080/"
    },
    "id": "KKc1Y0M9FWvE",
    "outputId": "937de92e-7a97-4c76-9f3c-9b591a29cd2f"
   },
   "outputs": [
    {
     "name": "stdout",
     "output_type": "stream",
     "text": [
      ".\n",
      "├── data\n",
      "│   ├── no_sub [5000 entries exceeds filelimit, not opening dir]\n",
      "│   └── sub [5000 entries exceeds filelimit, not opening dir]\n",
      "└── output\n",
      "    └── weights\n",
      "\n",
      "5 directories, 0 files\n"
     ]
    }
   ],
   "source": [
    "DATAPATH = './data' # Root path of data\n",
    "OUTPATH = './output' # Storing output\n",
    "os.makedirs(OUTPATH, exist_ok=True)\n",
    "SAVEPATH = os.path.join(OUTPATH, 'weights') # For storing model weights\n",
    "os.makedirs(SAVEPATH)\n",
    "CKP_PATH = os.path.join(SAVEPATH, 'ckp')\n",
    "\n",
    "CATEGORIES = ('no_sub', 'sub') # Labels: no_sub=0, sub=1\n",
    "\n",
    "# Print directory structure\n",
    "!tree --filelimit=10"
   ]
  },
  {
   "cell_type": "code",
   "execution_count": 29,
   "metadata": {
    "id": "qhRrqt9_tOp3"
   },
   "outputs": [],
   "source": [
    "# Unzip model weights (if available)\n",
    "!unzip -oq {os.path.join(OUTPATH, 'test_5_weights.zip')} -d {OUTPATH}"
   ]
  },
  {
   "cell_type": "code",
   "execution_count": 9,
   "metadata": {
    "id": "eoyLZTFKFYo2"
   },
   "outputs": [],
   "source": [
    "def load_data(root, categories):\n",
    "    '''Loads examples and labels into numpy arrays'''\n",
    "    x, y = [], []\n",
    "\n",
    "    for index, category in enumerate(categories):\n",
    "        for filename in os.scandir(os.path.join(root, category)):\n",
    "            filedata = np.asarray(Image.open(filename.path))\n",
    "            x.append(filedata)\n",
    "            y.append(index) # Labels: no_sub=0, sub=1\n",
    "  \n",
    "    x = np.expand_dims(np.array(x), axis=-1) # add channel axis\n",
    "    y = np.array(y)\n",
    "\n",
    "    return x, y"
   ]
  },
  {
   "cell_type": "code",
   "execution_count": 10,
   "metadata": {
    "colab": {
     "base_uri": "https://localhost:8080/"
    },
    "id": "jRk33OXqgmUK",
    "outputId": "6d0777cc-5402-4137-b620-f41490b96934"
   },
   "outputs": [
    {
     "name": "stdout",
     "output_type": "stream",
     "text": [
      "Shape of X: (10000, 150, 150, 1)\n",
      "Shape of Y: (10000,)\n"
     ]
    }
   ],
   "source": [
    "X, Y = load_data(DATAPATH, CATEGORIES)\n",
    "\n",
    "print(f'Shape of X: {X.shape}')\n",
    "print(f'Shape of Y: {Y.shape}')"
   ]
  },
  {
   "cell_type": "code",
   "execution_count": 11,
   "metadata": {
    "colab": {
     "base_uri": "https://localhost:8080/"
    },
    "id": "qN1-fXVnoK5q",
    "outputId": "f9334f4c-e51e-486c-c7a6-4ee3339c603d"
   },
   "outputs": [
    {
     "name": "stdout",
     "output_type": "stream",
     "text": [
      "X_TRAIN shape: (9000, 150, 150, 1)\n",
      "X_VAL shape: (1000, 150, 150, 1)\n"
     ]
    }
   ],
   "source": [
    "# Shuffle train data\n",
    "perm = np.random.permutation(len(X))\n",
    "X, Y = X[perm], Y[perm]\n",
    "\n",
    "# Train / Val split\n",
    "val_size = len(X) // 10\n",
    "X_TRAIN, Y_TRAIN = X[val_size:], Y[val_size:]\n",
    "X_VAL, Y_VAL = X[:val_size], Y[:val_size]\n",
    "\n",
    "print(f'X_TRAIN shape: {X_TRAIN.shape}')\n",
    "print(f'X_VAL shape: {X_VAL.shape}')"
   ]
  },
  {
   "cell_type": "markdown",
   "metadata": {
    "id": "_pQhhQbxmo1b"
   },
   "source": [
    "<a name=\"analyse-dataset\"></a>\n",
    "### Analyse Dataset"
   ]
  },
  {
   "cell_type": "code",
   "execution_count": 12,
   "metadata": {
    "colab": {
     "base_uri": "https://localhost:8080/",
     "height": 281
    },
    "id": "poKdaVGSFfM1",
    "outputId": "c4e6a865-fe2e-45a8-ac97-2b5d92136e09"
   },
   "outputs": [
    {
     "data": {
      "image/png": "[encoded data removed]",
      "text/plain": [
       "<Figure size 432x288 with 1 Axes>"
      ]
     },
     "metadata": {
      "needs_background": "light"
     },
     "output_type": "display_data"
    }
   ],
   "source": [
    "# Display random instance of data (This won't affect original SEED progression)\n",
    "idx = np.random.default_rng().integers(0, len(X_TRAIN))\n",
    "_ = plot.imshow(X_TRAIN[idx].squeeze(), cmap='gray')\n",
    "_ = plot.title(f'Label: {Y_TRAIN[idx]} {CATEGORIES[Y_TRAIN[idx]]}')"
   ]
  },
  {
   "cell_type": "code",
   "execution_count": 13,
   "metadata": {
    "colab": {
     "base_uri": "https://localhost:8080/"
    },
    "id": "9ETiYJrNnbVc",
    "outputId": "dac7adf9-2195-4389-a526-88ee7e7cd9a1"
   },
   "outputs": [
    {
     "name": "stdout",
     "output_type": "stream",
     "text": [
      "Positive/Negative class ratio in train set: 0.9933554817275747\n",
      "No class imbalance found.\n"
     ]
    }
   ],
   "source": [
    "# Check for class imbalance in train set\n",
    "pos_neg_ratio = len(Y_TRAIN[Y_TRAIN == 1]) / len(Y_TRAIN[Y_TRAIN == 0])\n",
    "print(f'Positive/Negative class ratio in train set: {pos_neg_ratio}')\n",
    "if abs(pos_neg_ratio - 1) < 0.01:\n",
    "    print('No class imbalance found.')\n",
    "else:\n",
    "    print('Class imbalance found!')"
   ]
  },
  {
   "cell_type": "markdown",
   "metadata": {
    "id": "Rdt-8yzpnjQ9"
   },
   "source": [
    "<a name=\"preprocess-dataset\"></a>\n",
    "### Preprocess Dataset"
   ]
  },
  {
   "cell_type": "code",
   "execution_count": 14,
   "metadata": {
    "id": "9QkLX0IqiptB"
   },
   "outputs": [],
   "source": [
    "def standardize(x, datatype, root):\n",
    "    '''Standardize image examples'''\n",
    "    # Make image contrast similar across all images\n",
    "    x = x - np.mean(x, axis=(1, 2), keepdims=True)\n",
    "  \n",
    "    if datatype == 'train':\n",
    "        # Center around origin\n",
    "        mean = np.mean(x, axis=(0, 1, 2), keepdims=True)\n",
    "        std = np.std(x, axis=(0, 1, 2), keepdims=True)\n",
    "\n",
    "        # Save mean and std for validation/test data\n",
    "        np.save(os.path.join(root, 'mean'), mean)\n",
    "        np.save(os.path.join(root, 'std'), std)\n",
    "    else:\n",
    "        try:\n",
    "            mean = np.load(os.path.join(root, 'mean.npy'))\n",
    "            std = np.load(os.path.join(root, 'std.npy'))\n",
    "        except FileNotFoundError as _:\n",
    "            raise FileNotFoundError('Standardizing info files (mean.npy and std.npy) not found')\n",
    "  \n",
    "    x = (x - mean) / std\n",
    "    return x"
   ]
  },
  {
   "cell_type": "code",
   "execution_count": 15,
   "metadata": {
    "id": "JpUck7ynFatu"
   },
   "outputs": [],
   "source": [
    "### Preprocess data ###\n",
    "\n",
    "# Standardize data\n",
    "X_TRAIN = standardize(X_TRAIN, 'train', OUTPATH)\n",
    "X_VAL = standardize(X_VAL, 'val', OUTPATH)"
   ]
  },
  {
   "cell_type": "markdown",
   "metadata": {
    "id": "Jsbd1JUnpml0"
   },
   "source": [
    "<a name=\"train-pipeline\"></a>\n",
    "# Training Pipeline"
   ]
  },
  {
   "cell_type": "code",
   "execution_count": 16,
   "metadata": {
    "id": "RVgSfnxEpz1n"
   },
   "outputs": [],
   "source": [
    "class Patches(Layer):\n",
    "    '''\n",
    "    Custom layer to split images into patches\n",
    "    Input shape: (batch_size, image_size, image_size, channels)\n",
    "    Output shape: (batch_size, num_patches, patch_size * patch_size * channels)\n",
    "    '''\n",
    "    def __init__(self, patch_size, num_channels=1, **kwargs):\n",
    "        super().__init__(**kwargs)\n",
    "        self.patch_size = patch_size\n",
    "        self.num_channels = num_channels\n",
    "\n",
    "    def call(self, images, training=None):\n",
    "        patches = tf.image.extract_patches(\n",
    "            images=images,\n",
    "            sizes=[1, self.patch_size, self.patch_size, self.num_channels],\n",
    "            strides=[1, self.patch_size, self.patch_size, self.num_channels],\n",
    "            rates=[1, 1, 1, 1],\n",
    "            padding=\"VALID\"\n",
    "        )\n",
    "        patches = tf.reshape(patches,\n",
    "                             [tf.shape(patches)[0], -1, tf.shape(patches)[-1]])\n",
    "        return patches"
   ]
  },
  {
   "cell_type": "code",
   "execution_count": 17,
   "metadata": {
    "id": "WJXX8oL9G5EX"
   },
   "outputs": [],
   "source": [
    "class PatchEncoder(Layer):\n",
    "    '''\n",
    "    Custom Layer to encode patches and positions\n",
    "    Input Shape: (batch_size, num_patches, patch_size * patch_size * channels)\n",
    "    Output Shape: (batch_size, num_patches, projection_dim)\n",
    "    '''\n",
    "    def __init__(self, num_patches, projection_dim, **kwargs):\n",
    "        super().__init__(**kwargs)\n",
    "        self.num_patches = num_patches\n",
    "        self.projection = Dense(units=projection_dim)\n",
    "        self.position_embedding = Embedding(input_dim=num_patches,\n",
    "                                            output_dim=projection_dim)\n",
    "\n",
    "    def call(self, patch, training=None):\n",
    "        positions = tf.range(0, self.num_patches)\n",
    "        # Add patch embeddings and position embeddings\n",
    "        encoded = (self.projection(patch, training=training) +\n",
    "                   self.position_embedding(positions, training=training))\n",
    "        return encoded"
   ]
  },
  {
   "cell_type": "code",
   "execution_count": 18,
   "metadata": {
    "id": "xQ-AUzU8XjOX"
   },
   "outputs": [],
   "source": [
    "class FFN(Layer):\n",
    "    '''\n",
    "    Custom Feedforward Network with dropout after every layer\n",
    "    '''\n",
    "    def __init__(self, hidden_units, dropout_rate, **kwargs):\n",
    "        super().__init__(**kwargs)\n",
    "        self.layers = [Dense(units, activation=tf.nn.gelu) for units in hidden_units]\n",
    "        self.dropout_rate = dropout_rate\n",
    "  \n",
    "    def call(self, x, training=None):\n",
    "        for layer in self.layers:\n",
    "            x = layer(x, training=training)\n",
    "            x = Dropout(self.dropout_rate)(x, training=training)\n",
    "        return x"
   ]
  },
  {
   "cell_type": "code",
   "execution_count": 19,
   "metadata": {
    "id": "2CDHZCx7IGBy"
   },
   "outputs": [],
   "source": [
    "class Transformer(Layer):\n",
    "    '''\n",
    "    Transformer Block\n",
    "    Input shape: (batch_size, num_patches, projection_dim)\n",
    "    Output shape: (batch_size, num_patches, projection_dim)\n",
    "    '''\n",
    "    def __init__(self, transformer_units, num_heads, projection_dim,\n",
    "                 epsilon=1e-6, dropout_rate=0.1, **kwargs):\n",
    "        super().__init__(**kwargs)\n",
    "        self.norm1 = LayerNormalization(epsilon=epsilon)\n",
    "        self.attention = MultiHeadAttention(num_heads=num_heads,\n",
    "                                            key_dim=projection_dim,\n",
    "                                            dropout=dropout_rate)\n",
    "        self.norm2 = LayerNormalization(epsilon=epsilon)\n",
    "        self.ffn = FFN(transformer_units, dropout_rate)\n",
    "  \n",
    "    def call(self, encoded_patch, training=None):\n",
    "        x1 = self.norm1(encoded_patch, training=training)\n",
    "        attention_output = self.attention(x1, x1, training=training)\n",
    "        x2 = Add()([attention_output, encoded_patch])\n",
    "        x3 = self.norm2(x2, training=training)\n",
    "        x3 = self.ffn(x3, training=training)\n",
    "        output = Add()([x3, x2])\n",
    "        return output"
   ]
  },
  {
   "cell_type": "code",
   "execution_count": 20,
   "metadata": {
    "id": "M9k8LlWZL0sr"
   },
   "outputs": [],
   "source": [
    "class ViTClassifier(keras.Model):\n",
    "    '''\n",
    "    Classifier Model\n",
    "    Input shape: (batch_size, image_size, image_size, num_channels)\n",
    "    Output shape: (batch_size, 1)\n",
    "    '''\n",
    "    def __init__(self, patch_size, num_patches, projection_dim, mlp_head_units,\n",
    "                 num_transformer_layers, transformer_units, num_heads,\n",
    "                 dropout_rate=0.5, transformer_dropout_rate=0.1, epsilon=1e-6,\n",
    "                 **kwargs):\n",
    "        super().__init__(**kwargs)\n",
    "        self.augment = keras.Sequential(\n",
    "            [RandomFlip(),\n",
    "             RandomRotation(0.5),\n",
    "             RandomZoom(height_factor=0.2, width_factor=0.2)],\n",
    "            name='augment'\n",
    "        )\n",
    "\n",
    "        self.patch = Patches(patch_size)\n",
    "        self.patch_encoder = PatchEncoder(num_patches, projection_dim)\n",
    "        self.transformers = keras.Sequential(\n",
    "            [Transformer(transformer_units, num_heads, projection_dim,\n",
    "                         epsilon=epsilon, dropout_rate=transformer_dropout_rate)\n",
    "            for _ in range(num_transformer_layers)],\n",
    "            name='transformers'\n",
    "        )\n",
    "        self.norm = LayerNormalization(epsilon=epsilon)\n",
    "        self.dropout_rate = dropout_rate\n",
    "        self.mlp_head = FFN(mlp_head_units, dropout_rate, name='mlp_head')\n",
    "        self.classify = Dense(1, activation='sigmoid', name='classifier')\n",
    "  \n",
    "    def call(self, image, training=None):\n",
    "        image = self.augment(image, training=training)\n",
    "\n",
    "        # Patch encoding\n",
    "        patches = self.patch(image, training=training)\n",
    "        patches = self.patch_encoder(patches, training=training)\n",
    "\n",
    "        # Transformer blocks\n",
    "        patches = self.transformers(patches, training=training)\n",
    "\n",
    "        # FeedForward Network\n",
    "        representation = self.norm(patches, training=training)\n",
    "        representation = Flatten()(representation)\n",
    "        representation = Dropout(self.dropout_rate)(representation, training=training)\n",
    "        representation = self.mlp_head(representation, training=training)\n",
    "        output = self.classify(representation, training=training)\n",
    "\n",
    "        return output"
   ]
  },
  {
   "cell_type": "markdown",
   "metadata": {
    "id": "ITRQzxoWxeEQ"
   },
   "source": [
    "<a name=\"training\"></a>\n",
    "# Training"
   ]
  },
  {
   "cell_type": "code",
   "execution_count": 21,
   "metadata": {
    "id": "D7ro-Vm84Nzn"
   },
   "outputs": [],
   "source": [
    "class RandomSampleGenerator(keras.utils.Sequence):\n",
    "    '''\n",
    "    Generates batches containing equal number of positive and negative examples\n",
    "    to rectify any class imbalance in data\n",
    "    '''\n",
    "    def __init__(self, x, y, batch_size, seed=None):\n",
    "        self.x_positive = x[y == 1]\n",
    "        self.y_positive = y[y == 1]\n",
    "\n",
    "        self.x_negative = x[y == 0]\n",
    "        self.y_negative = y[y == 0]\n",
    "\n",
    "        self.epoch_length = len(x) // batch_size\n",
    "        self.batch_size = batch_size\n",
    "        self.seed = seed\n",
    "        self.reset()\n",
    "\n",
    "    def reset(self):\n",
    "        # Reset random number generator\n",
    "        self.rng = np.random.default_rng(self.seed)\n",
    "\n",
    "    def __len__(self):\n",
    "        return self.epoch_length\n",
    "\n",
    "    def __getitem__(self, idx):\n",
    "        # Positive samples\n",
    "        batch_positive_indices = self.rng.choice(self.x_positive.shape[0],\n",
    "                                                 self.batch_size // 2,\n",
    "                                                 replace=False)\n",
    "        batch_x_positive = self.x_positive[batch_positive_indices]\n",
    "        batch_y_positive = self.y_positive[batch_positive_indices]\n",
    "\n",
    "        # Negative samples\n",
    "        batch_negative_indices = self.rng.choice(self.x_negative.shape[0],\n",
    "                                                 int(np.ceil(self.batch_size / 2)),\n",
    "                                                 replace=False)\n",
    "        batch_x_negative = self.x_negative[batch_negative_indices]\n",
    "        batch_y_negative = self.y_negative[batch_negative_indices]\n",
    "\n",
    "        # Concat both samples\n",
    "        batch_x = np.concatenate((batch_x_positive, batch_x_negative))\n",
    "        batch_y = np.concatenate((batch_y_positive, batch_y_negative))\n",
    "\n",
    "        return batch_x, batch_y\n"
   ]
  },
  {
   "cell_type": "code",
   "execution_count": 22,
   "metadata": {
    "id": "w8YSJEi2Qvl1"
   },
   "outputs": [],
   "source": [
    "class TrackBestPerformance(keras.callbacks.Callback):\n",
    "    '''\n",
    "    Callback to keep track of model weights which give best val_auc\n",
    "    After training completes, the model is assigned with the best model weights\n",
    "    '''\n",
    "    def __init__(self, ckp_path, save_every=15, **kwargs):\n",
    "        super().__init__(**kwargs)\n",
    "        self.best_auc = 0\n",
    "        self.best_epoch = -1\n",
    "        self.best_weights = None\n",
    "        self.ckp_path = ckp_path\n",
    "        self.save_every = save_every\n",
    "  \n",
    "    def on_epoch_end(self, epoch, logs=None):\n",
    "        '''Track best val_auc and corresponding weights'''\n",
    "        current_auc = logs['val_auc']\n",
    "        if current_auc >= self.best_auc:\n",
    "            self.best_auc = current_auc\n",
    "            self.best_epoch = epoch\n",
    "            self.best_weights = self.model.get_weights()\n",
    "        if epoch % self.save_every == 0:\n",
    "            self.model.save_weights(self.ckp_path)\n",
    "  \n",
    "    def on_train_end(self, logs=None):\n",
    "        '''Reassign model weights to the one with the best val_auc'''\n",
    "        self.model.set_weights(self.best_weights)\n",
    "        self.model.save_weights(self.ckp_path)\n",
    "        print(f'\\nBest validation AUC is {self.best_auc} '\n",
    "              f'on epoch #{self.best_epoch + 1}')\n"
   ]
  },
  {
   "cell_type": "code",
   "execution_count": 23,
   "metadata": {
    "id": "CgAL17YjFurs"
   },
   "outputs": [],
   "source": [
    "BATCH_SIZE = 256\n",
    "EPOCHS = 200\n",
    "LEARNING_RATE = 1e-3\n",
    "WEIGHT_DECAY = 1e-4\n",
    "\n",
    "IMAGE_SIZE = X_TRAIN.shape[1]\n",
    "PATCH_SIZE = 15\n",
    "NUM_PATCHES = (IMAGE_SIZE // PATCH_SIZE) ** 2\n",
    "\n",
    "PROJECTION_DIM = 64                                         # Dimensionality of patch encodings\n",
    "NUM_HEADS=4                                                 # Number of heads in transformer\n",
    "\n",
    "TRANSFORMER_UNITS = [PROJECTION_DIM * 2, PROJECTION_DIM]    # Dense layers in transformer block\n",
    "NUM_TRANSFORMER_LAYERS = 8                                  # Number of transformer blocks\n",
    "MLP_HEAD_UNITS = [2048, 1024]                               # Dense layers at the end of the network (after transformer layers)\n",
    "\n",
    "# Pick a pre-saved model\n",
    "USE_SAVED_MODEL = False\n",
    "\n",
    "# Run eagerly for debugging\n",
    "RUN_EAGERLY = False"
   ]
  },
  {
   "cell_type": "code",
   "execution_count": 24,
   "metadata": {
    "id": "qKKVextEQHTS"
   },
   "outputs": [],
   "source": [
    "# Instantiate new model\n",
    "model = ViTClassifier(\n",
    "    patch_size=PATCH_SIZE, num_patches=NUM_PATCHES,\n",
    "    projection_dim=PROJECTION_DIM, mlp_head_units=MLP_HEAD_UNITS,\n",
    "    num_transformer_layers=NUM_TRANSFORMER_LAYERS,\n",
    "    transformer_units=TRANSFORMER_UNITS, num_heads=NUM_HEADS\n",
    ")\n",
    "\n",
    "model.compile(loss=tf.keras.losses.BinaryCrossentropy(),\n",
    "              optimizer=tfa.optimizers.AdamW(learning_rate=LEARNING_RATE,\n",
    "                                             weight_decay=WEIGHT_DECAY),\n",
    "              metrics=keras.metrics.AUC(name='auc'),\n",
    "              run_eagerly=RUN_EAGERLY)\n",
    "\n",
    "if USE_SAVED_MODEL:\n",
    "    # Pick a pre-trained model to finetune\n",
    "    model.load_weights(CKP_PATH)"
   ]
  },
  {
   "cell_type": "code",
   "execution_count": 25,
   "metadata": {
    "colab": {
     "base_uri": "https://localhost:8080/"
    },
    "id": "cPbf9Lx6ue2S",
    "outputId": "803f42a6-7ab7-48ea-8cab-5ae26b990784"
   },
   "outputs": [
    {
     "name": "stdout",
     "output_type": "stream",
     "text": [
      "Epoch 1/200\n",
      "35/35 - 23s - loss: 1.4430 - auc: 0.5099 - val_loss: 0.6913 - val_auc: 0.5813 - 23s/epoch - 670ms/step\n",
      "Epoch 2/200\n",
      "35/35 - 9s - loss: 0.7312 - auc: 0.5169 - val_loss: 0.6913 - val_auc: 0.6071 - 9s/epoch - 266ms/step\n",
      "Epoch 3/200\n",
      "35/35 - 9s - loss: 0.7208 - auc: 0.5029 - val_loss: 0.6920 - val_auc: 0.5370 - 9s/epoch - 266ms/step\n",
      "Epoch 4/200\n",
      "35/35 - 9s - loss: 0.7028 - auc: 0.5281 - val_loss: 0.6909 - val_auc: 0.6380 - 9s/epoch - 269ms/step\n",
      "Epoch 5/200\n",
      "35/35 - 9s - loss: 0.7024 - auc: 0.5161 - val_loss: 0.6894 - val_auc: 0.6493 - 9s/epoch - 268ms/step\n",
      "Epoch 6/200\n",
      "35/35 - 9s - loss: 0.6974 - auc: 0.5349 - val_loss: 0.6851 - val_auc: 0.6707 - 9s/epoch - 269ms/step\n",
      "Epoch 7/200\n",
      "35/35 - 10s - loss: 0.6931 - auc: 0.5442 - val_loss: 0.6808 - val_auc: 0.6998 - 10s/epoch - 272ms/step\n",
      "Epoch 8/200\n",
      "35/35 - 9s - loss: 0.6868 - auc: 0.5616 - val_loss: 0.6683 - val_auc: 0.7447 - 9s/epoch - 271ms/step\n",
      "Epoch 9/200\n",
      "35/35 - 10s - loss: 0.6782 - auc: 0.5875 - val_loss: 0.6266 - val_auc: 0.7455 - 10s/epoch - 273ms/step\n",
      "Epoch 10/200\n",
      "35/35 - 10s - loss: 0.6640 - auc: 0.6154 - val_loss: 0.5859 - val_auc: 0.8181 - 10s/epoch - 274ms/step\n",
      "Epoch 11/200\n",
      "35/35 - 10s - loss: 0.6438 - auc: 0.6546 - val_loss: 0.6296 - val_auc: 0.6648 - 10s/epoch - 272ms/step\n",
      "Epoch 12/200\n",
      "35/35 - 10s - loss: 0.6172 - auc: 0.6904 - val_loss: 0.4982 - val_auc: 0.8776 - 10s/epoch - 273ms/step\n",
      "Epoch 13/200\n",
      "35/35 - 10s - loss: 0.5795 - auc: 0.7394 - val_loss: 0.4736 - val_auc: 0.8642 - 10s/epoch - 272ms/step\n",
      "Epoch 14/200\n",
      "35/35 - 9s - loss: 0.5309 - auc: 0.7886 - val_loss: 0.4469 - val_auc: 0.8607 - 9s/epoch - 271ms/step\n",
      "Epoch 15/200\n",
      "35/35 - 9s - loss: 0.6536 - auc: 0.6455 - val_loss: 0.6198 - val_auc: 0.8273 - 9s/epoch - 271ms/step\n",
      "Epoch 16/200\n",
      "35/35 - 10s - loss: 0.6432 - auc: 0.6463 - val_loss: 0.5679 - val_auc: 0.8429 - 10s/epoch - 289ms/step\n",
      "Epoch 17/200\n",
      "35/35 - 9s - loss: 0.5467 - auc: 0.7679 - val_loss: 0.4843 - val_auc: 0.8084 - 9s/epoch - 271ms/step\n",
      "Epoch 18/200\n",
      "35/35 - 9s - loss: 0.4847 - auc: 0.8230 - val_loss: 0.9370 - val_auc: 0.6283 - 9s/epoch - 271ms/step\n",
      "Epoch 19/200\n",
      "35/35 - 10s - loss: 0.4925 - auc: 0.8194 - val_loss: 0.3574 - val_auc: 0.9050 - 10s/epoch - 272ms/step\n",
      "Epoch 20/200\n",
      "35/35 - 10s - loss: 0.4733 - auc: 0.8349 - val_loss: 0.4044 - val_auc: 0.8956 - 10s/epoch - 272ms/step\n",
      "Epoch 21/200\n",
      "35/35 - 10s - loss: 0.4250 - auc: 0.8652 - val_loss: 0.3795 - val_auc: 0.8784 - 10s/epoch - 273ms/step\n",
      "Epoch 22/200\n",
      "35/35 - 10s - loss: 0.4070 - auc: 0.8799 - val_loss: 0.3725 - val_auc: 0.9169 - 10s/epoch - 274ms/step\n",
      "Epoch 23/200\n",
      "35/35 - 10s - loss: 0.4118 - auc: 0.8773 - val_loss: 0.3117 - val_auc: 0.9365 - 10s/epoch - 274ms/step\n",
      "Epoch 24/200\n",
      "35/35 - 10s - loss: 0.3632 - auc: 0.9071 - val_loss: 0.2877 - val_auc: 0.9548 - 10s/epoch - 273ms/step\n",
      "Epoch 25/200\n",
      "35/35 - 9s - loss: 0.3448 - auc: 0.9160 - val_loss: 0.4052 - val_auc: 0.8895 - 9s/epoch - 271ms/step\n",
      "Epoch 26/200\n",
      "35/35 - 9s - loss: 0.3424 - auc: 0.9188 - val_loss: 0.3227 - val_auc: 0.9242 - 9s/epoch - 271ms/step\n",
      "Epoch 27/200\n",
      "35/35 - 9s - loss: 0.3151 - auc: 0.9332 - val_loss: 0.4033 - val_auc: 0.9211 - 9s/epoch - 270ms/step\n",
      "Epoch 28/200\n",
      "35/35 - 10s - loss: 0.3210 - auc: 0.9306 - val_loss: 0.4054 - val_auc: 0.9302 - 10s/epoch - 272ms/step\n",
      "Epoch 29/200\n",
      "35/35 - 9s - loss: 0.3307 - auc: 0.9316 - val_loss: 0.4164 - val_auc: 0.9027 - 9s/epoch - 271ms/step\n",
      "Epoch 30/200\n",
      "35/35 - 10s - loss: 0.3621 - auc: 0.9157 - val_loss: 0.2393 - val_auc: 0.9684 - 10s/epoch - 273ms/step\n",
      "Epoch 31/200\n",
      "35/35 - 10s - loss: 0.3060 - auc: 0.9384 - val_loss: 0.2436 - val_auc: 0.9808 - 10s/epoch - 288ms/step\n",
      "Epoch 32/200\n",
      "35/35 - 9s - loss: 0.3100 - auc: 0.9378 - val_loss: 0.2329 - val_auc: 0.9778 - 9s/epoch - 271ms/step\n",
      "Epoch 33/200\n",
      "35/35 - 9s - loss: 0.2767 - auc: 0.9513 - val_loss: 0.2224 - val_auc: 0.9784 - 9s/epoch - 271ms/step\n",
      "Epoch 34/200\n",
      "35/35 - 9s - loss: 0.2843 - auc: 0.9474 - val_loss: 0.2713 - val_auc: 0.9642 - 9s/epoch - 271ms/step\n",
      "Epoch 35/200\n",
      "35/35 - 9s - loss: 0.2536 - auc: 0.9592 - val_loss: 0.2997 - val_auc: 0.9579 - 9s/epoch - 271ms/step\n",
      "Epoch 36/200\n",
      "35/35 - 10s - loss: 0.2472 - auc: 0.9614 - val_loss: 0.1980 - val_auc: 0.9858 - 10s/epoch - 273ms/step\n",
      "Epoch 37/200\n",
      "35/35 - 10s - loss: 0.2415 - auc: 0.9632 - val_loss: 0.1724 - val_auc: 0.9902 - 10s/epoch - 273ms/step\n",
      "Epoch 38/200\n",
      "35/35 - 10s - loss: 0.2538 - auc: 0.9594 - val_loss: 0.3123 - val_auc: 0.9754 - 10s/epoch - 272ms/step\n",
      "Epoch 39/200\n",
      "35/35 - 10s - loss: 0.2547 - auc: 0.9594 - val_loss: 0.1934 - val_auc: 0.9857 - 10s/epoch - 272ms/step\n",
      "Epoch 40/200\n",
      "35/35 - 10s - loss: 0.2135 - auc: 0.9714 - val_loss: 0.2396 - val_auc: 0.9798 - 10s/epoch - 273ms/step\n",
      "Epoch 41/200\n",
      "35/35 - 10s - loss: 0.2192 - auc: 0.9702 - val_loss: 0.1906 - val_auc: 0.9896 - 10s/epoch - 273ms/step\n",
      "Epoch 42/200\n",
      "35/35 - 10s - loss: 0.1905 - auc: 0.9774 - val_loss: 0.2185 - val_auc: 0.9784 - 10s/epoch - 273ms/step\n",
      "Epoch 43/200\n",
      "35/35 - 10s - loss: 0.2101 - auc: 0.9731 - val_loss: 0.2537 - val_auc: 0.9765 - 10s/epoch - 272ms/step\n",
      "Epoch 44/200\n",
      "35/35 - 9s - loss: 0.2387 - auc: 0.9647 - val_loss: 0.1760 - val_auc: 0.9902 - 9s/epoch - 271ms/step\n",
      "Epoch 45/200\n",
      "35/35 - 10s - loss: 0.2033 - auc: 0.9745 - val_loss: 0.1806 - val_auc: 0.9916 - 10s/epoch - 273ms/step\n",
      "Epoch 46/200\n",
      "35/35 - 10s - loss: 0.1850 - auc: 0.9789 - val_loss: 0.1839 - val_auc: 0.9842 - 10s/epoch - 286ms/step\n",
      "Epoch 47/200\n",
      "35/35 - 10s - loss: 0.2328 - auc: 0.9668 - val_loss: 0.2700 - val_auc: 0.9695 - 10s/epoch - 272ms/step\n",
      "Epoch 48/200\n",
      "35/35 - 10s - loss: 0.2109 - auc: 0.9726 - val_loss: 0.3936 - val_auc: 0.9500 - 10s/epoch - 272ms/step\n",
      "Epoch 49/200\n",
      "35/35 - 10s - loss: 0.1949 - auc: 0.9765 - val_loss: 0.5763 - val_auc: 0.9264 - 10s/epoch - 272ms/step\n",
      "Epoch 50/200\n",
      "35/35 - 10s - loss: 0.2210 - auc: 0.9701 - val_loss: 0.2278 - val_auc: 0.9797 - 10s/epoch - 273ms/step\n",
      "Epoch 51/200\n",
      "35/35 - 10s - loss: 0.1625 - auc: 0.9839 - val_loss: 0.1756 - val_auc: 0.9928 - 10s/epoch - 275ms/step\n",
      "Epoch 52/200\n",
      "35/35 - 10s - loss: 0.1764 - auc: 0.9809 - val_loss: 0.1345 - val_auc: 0.9968 - 10s/epoch - 274ms/step\n",
      "Epoch 53/200\n",
      "35/35 - 10s - loss: 0.1734 - auc: 0.9814 - val_loss: 0.1838 - val_auc: 0.9870 - 10s/epoch - 274ms/step\n",
      "Epoch 54/200\n",
      "35/35 - 10s - loss: 0.1879 - auc: 0.9783 - val_loss: 0.1966 - val_auc: 0.9858 - 10s/epoch - 272ms/step\n",
      "Epoch 55/200\n",
      "35/35 - 10s - loss: 0.3001 - auc: 0.9450 - val_loss: 0.1654 - val_auc: 0.9856 - 10s/epoch - 272ms/step\n",
      "Epoch 56/200\n",
      "35/35 - 10s - loss: 0.1712 - auc: 0.9820 - val_loss: 0.2108 - val_auc: 0.9864 - 10s/epoch - 272ms/step\n",
      "Epoch 57/200\n",
      "35/35 - 10s - loss: 0.1938 - auc: 0.9769 - val_loss: 0.3830 - val_auc: 0.9708 - 10s/epoch - 272ms/step\n",
      "Epoch 58/200\n",
      "35/35 - 10s - loss: 0.2107 - auc: 0.9727 - val_loss: 0.1287 - val_auc: 0.9953 - 10s/epoch - 274ms/step\n",
      "Epoch 59/200\n",
      "35/35 - 10s - loss: 0.1547 - auc: 0.9851 - val_loss: 0.1460 - val_auc: 0.9946 - 10s/epoch - 273ms/step\n",
      "Epoch 60/200\n",
      "35/35 - 10s - loss: 0.1526 - auc: 0.9857 - val_loss: 0.1525 - val_auc: 0.9924 - 10s/epoch - 272ms/step\n",
      "Epoch 61/200\n",
      "35/35 - 10s - loss: 0.1707 - auc: 0.9821 - val_loss: 0.1468 - val_auc: 0.9966 - 10s/epoch - 286ms/step\n",
      "Epoch 62/200\n",
      "35/35 - 10s - loss: 0.1404 - auc: 0.9879 - val_loss: 0.1074 - val_auc: 0.9950 - 10s/epoch - 273ms/step\n",
      "Epoch 63/200\n",
      "35/35 - 10s - loss: 0.1459 - auc: 0.9868 - val_loss: 0.0939 - val_auc: 0.9975 - 10s/epoch - 273ms/step\n",
      "Epoch 64/200\n",
      "35/35 - 10s - loss: 0.1373 - auc: 0.9883 - val_loss: 0.1747 - val_auc: 0.9855 - 10s/epoch - 272ms/step\n",
      "Epoch 65/200\n",
      "35/35 - 10s - loss: 0.1565 - auc: 0.9850 - val_loss: 0.1405 - val_auc: 0.9919 - 10s/epoch - 272ms/step\n",
      "Epoch 66/200\n",
      "35/35 - 9s - loss: 0.1586 - auc: 0.9845 - val_loss: 0.1036 - val_auc: 0.9966 - 9s/epoch - 271ms/step\n",
      "Epoch 67/200\n",
      "35/35 - 10s - loss: 0.1508 - auc: 0.9861 - val_loss: 0.0962 - val_auc: 0.9972 - 10s/epoch - 272ms/step\n",
      "Epoch 68/200\n",
      "35/35 - 10s - loss: 0.1410 - auc: 0.9878 - val_loss: 0.1226 - val_auc: 0.9952 - 10s/epoch - 272ms/step\n",
      "Epoch 69/200\n",
      "35/35 - 10s - loss: 0.1697 - auc: 0.9823 - val_loss: 0.1454 - val_auc: 0.9972 - 10s/epoch - 272ms/step\n",
      "Epoch 70/200\n",
      "35/35 - 9s - loss: 0.1881 - auc: 0.9783 - val_loss: 0.1567 - val_auc: 0.9963 - 9s/epoch - 271ms/step\n",
      "Epoch 71/200\n",
      "35/35 - 9s - loss: 0.1409 - auc: 0.9877 - val_loss: 0.1215 - val_auc: 0.9962 - 9s/epoch - 271ms/step\n",
      "Epoch 72/200\n",
      "35/35 - 10s - loss: 0.1293 - auc: 0.9896 - val_loss: 0.1303 - val_auc: 0.9974 - 10s/epoch - 272ms/step\n",
      "Epoch 73/200\n",
      "35/35 - 10s - loss: 0.1318 - auc: 0.9891 - val_loss: 0.0797 - val_auc: 0.9986 - 10s/epoch - 273ms/step\n",
      "Epoch 74/200\n",
      "35/35 - 10s - loss: 0.1140 - auc: 0.9920 - val_loss: 0.1620 - val_auc: 0.9967 - 10s/epoch - 273ms/step\n",
      "Epoch 75/200\n",
      "35/35 - 10s - loss: 0.1648 - auc: 0.9834 - val_loss: 0.2323 - val_auc: 0.9968 - 10s/epoch - 274ms/step\n",
      "Epoch 76/200\n",
      "35/35 - 10s - loss: 0.1453 - auc: 0.9871 - val_loss: 0.1024 - val_auc: 0.9978 - 10s/epoch - 288ms/step\n",
      "Epoch 77/200\n",
      "35/35 - 10s - loss: 0.1159 - auc: 0.9917 - val_loss: 0.0815 - val_auc: 0.9987 - 10s/epoch - 274ms/step\n",
      "Epoch 78/200\n",
      "35/35 - 10s - loss: 0.1359 - auc: 0.9885 - val_loss: 0.0999 - val_auc: 0.9963 - 10s/epoch - 272ms/step\n",
      "Epoch 79/200\n",
      "35/35 - 10s - loss: 0.1227 - auc: 0.9908 - val_loss: 0.0852 - val_auc: 0.9970 - 10s/epoch - 272ms/step\n",
      "Epoch 80/200\n",
      "35/35 - 10s - loss: 0.1196 - auc: 0.9911 - val_loss: 0.0945 - val_auc: 0.9982 - 10s/epoch - 272ms/step\n",
      "Epoch 81/200\n",
      "35/35 - 9s - loss: 0.1206 - auc: 0.9910 - val_loss: 0.0895 - val_auc: 0.9973 - 9s/epoch - 271ms/step\n",
      "Epoch 82/200\n",
      "35/35 - 9s - loss: 0.1199 - auc: 0.9911 - val_loss: 0.1065 - val_auc: 0.9981 - 9s/epoch - 271ms/step\n",
      "Epoch 83/200\n",
      "35/35 - 9s - loss: 0.1255 - auc: 0.9901 - val_loss: 0.0793 - val_auc: 0.9973 - 9s/epoch - 270ms/step\n",
      "Epoch 84/200\n",
      "35/35 - 9s - loss: 0.2316 - auc: 0.9683 - val_loss: 0.1129 - val_auc: 0.9945 - 9s/epoch - 271ms/step\n",
      "Epoch 85/200\n",
      "35/35 - 9s - loss: 0.1445 - auc: 0.9871 - val_loss: 0.0900 - val_auc: 0.9974 - 9s/epoch - 271ms/step\n",
      "Epoch 86/200\n",
      "35/35 - 10s - loss: 0.1256 - auc: 0.9899 - val_loss: 0.1058 - val_auc: 0.9977 - 10s/epoch - 272ms/step\n",
      "Epoch 87/200\n",
      "35/35 - 9s - loss: 0.1194 - auc: 0.9912 - val_loss: 0.2220 - val_auc: 0.9859 - 9s/epoch - 271ms/step\n",
      "Epoch 88/200\n",
      "35/35 - 9s - loss: 0.1628 - auc: 0.9837 - val_loss: 0.2103 - val_auc: 0.9934 - 9s/epoch - 271ms/step\n",
      "Epoch 89/200\n",
      "35/35 - 10s - loss: 0.1105 - auc: 0.9925 - val_loss: 0.1312 - val_auc: 0.9973 - 10s/epoch - 272ms/step\n",
      "Epoch 90/200\n",
      "35/35 - 10s - loss: 0.1080 - auc: 0.9927 - val_loss: 0.0908 - val_auc: 0.9970 - 10s/epoch - 272ms/step\n",
      "Epoch 91/200\n",
      "35/35 - 10s - loss: 0.1167 - auc: 0.9915 - val_loss: 0.0875 - val_auc: 0.9967 - 10s/epoch - 286ms/step\n",
      "Epoch 92/200\n",
      "35/35 - 9s - loss: 0.1378 - auc: 0.9884 - val_loss: 0.1548 - val_auc: 0.9960 - 9s/epoch - 271ms/step\n",
      "Epoch 93/200\n",
      "35/35 - 9s - loss: 0.1207 - auc: 0.9911 - val_loss: 0.0884 - val_auc: 0.9981 - 9s/epoch - 271ms/step\n",
      "Epoch 94/200\n",
      "35/35 - 9s - loss: 0.2431 - auc: 0.9660 - val_loss: 0.4752 - val_auc: 0.9708 - 9s/epoch - 271ms/step\n",
      "Epoch 95/200\n",
      "35/35 - 9s - loss: 0.2156 - auc: 0.9719 - val_loss: 0.0879 - val_auc: 0.9975 - 9s/epoch - 271ms/step\n",
      "Epoch 96/200\n",
      "35/35 - 10s - loss: 0.1386 - auc: 0.9881 - val_loss: 0.8474 - val_auc: 0.9141 - 10s/epoch - 273ms/step\n",
      "Epoch 97/200\n",
      "35/35 - 10s - loss: 0.1814 - auc: 0.9798 - val_loss: 0.1758 - val_auc: 0.9979 - 10s/epoch - 272ms/step\n",
      "Epoch 98/200\n",
      "35/35 - 10s - loss: 0.1121 - auc: 0.9921 - val_loss: 0.1202 - val_auc: 0.9980 - 10s/epoch - 272ms/step\n",
      "Epoch 99/200\n",
      "35/35 - 10s - loss: 0.1306 - auc: 0.9895 - val_loss: 0.0648 - val_auc: 0.9986 - 10s/epoch - 273ms/step\n",
      "Epoch 100/200\n",
      "35/35 - 9s - loss: 0.1349 - auc: 0.9887 - val_loss: 0.1168 - val_auc: 0.9976 - 9s/epoch - 271ms/step\n",
      "Epoch 101/200\n",
      "35/35 - 9s - loss: 0.1089 - auc: 0.9926 - val_loss: 0.0763 - val_auc: 0.9986 - 9s/epoch - 271ms/step\n",
      "Epoch 102/200\n",
      "35/35 - 9s - loss: 0.1012 - auc: 0.9933 - val_loss: 0.0783 - val_auc: 0.9982 - 9s/epoch - 270ms/step\n",
      "Epoch 103/200\n",
      "35/35 - 10s - loss: 0.1278 - auc: 0.9899 - val_loss: 0.0636 - val_auc: 0.9988 - 10s/epoch - 273ms/step\n",
      "Epoch 104/200\n",
      "35/35 - 10s - loss: 0.1321 - auc: 0.9892 - val_loss: 0.0665 - val_auc: 0.9981 - 10s/epoch - 273ms/step\n",
      "Epoch 105/200\n",
      "35/35 - 10s - loss: 0.1105 - auc: 0.9923 - val_loss: 0.0821 - val_auc: 0.9981 - 10s/epoch - 273ms/step\n",
      "Epoch 106/200\n",
      "35/35 - 10s - loss: 0.1182 - auc: 0.9912 - val_loss: 0.1085 - val_auc: 0.9958 - 10s/epoch - 287ms/step\n",
      "Epoch 107/200\n",
      "35/35 - 10s - loss: 0.1030 - auc: 0.9932 - val_loss: 0.0846 - val_auc: 0.9982 - 10s/epoch - 273ms/step\n",
      "Epoch 108/200\n",
      "35/35 - 10s - loss: 0.1072 - auc: 0.9929 - val_loss: 0.0931 - val_auc: 0.9967 - 10s/epoch - 272ms/step\n",
      "Epoch 109/200\n",
      "35/35 - 10s - loss: 0.1420 - auc: 0.9874 - val_loss: 0.0879 - val_auc: 0.9970 - 10s/epoch - 272ms/step\n",
      "Epoch 110/200\n",
      "35/35 - 10s - loss: 0.1116 - auc: 0.9923 - val_loss: 0.0912 - val_auc: 0.9976 - 10s/epoch - 273ms/step\n",
      "Epoch 111/200\n",
      "35/35 - 10s - loss: 0.1340 - auc: 0.9890 - val_loss: 0.1705 - val_auc: 0.9979 - 10s/epoch - 272ms/step\n",
      "Epoch 112/200\n",
      "35/35 - 10s - loss: 0.1165 - auc: 0.9917 - val_loss: 0.1176 - val_auc: 0.9990 - 10s/epoch - 273ms/step\n",
      "Epoch 113/200\n",
      "35/35 - 9s - loss: 0.1020 - auc: 0.9935 - val_loss: 0.1515 - val_auc: 0.9974 - 9s/epoch - 271ms/step\n",
      "Epoch 114/200\n",
      "35/35 - 10s - loss: 0.1164 - auc: 0.9915 - val_loss: 0.0709 - val_auc: 0.9973 - 10s/epoch - 272ms/step\n",
      "Epoch 115/200\n",
      "35/35 - 10s - loss: 0.1035 - auc: 0.9930 - val_loss: 0.0718 - val_auc: 0.9982 - 10s/epoch - 272ms/step\n",
      "Epoch 116/200\n",
      "35/35 - 9s - loss: 0.1776 - auc: 0.9818 - val_loss: 0.7753 - val_auc: 0.8816 - 9s/epoch - 271ms/step\n",
      "Epoch 117/200\n",
      "35/35 - 9s - loss: 0.3090 - auc: 0.9414 - val_loss: 0.0845 - val_auc: 0.9973 - 9s/epoch - 271ms/step\n",
      "Epoch 118/200\n",
      "35/35 - 10s - loss: 0.1364 - auc: 0.9887 - val_loss: 0.0991 - val_auc: 0.9957 - 10s/epoch - 272ms/step\n",
      "Epoch 119/200\n",
      "35/35 - 9s - loss: 0.1136 - auc: 0.9918 - val_loss: 0.0868 - val_auc: 0.9979 - 9s/epoch - 271ms/step\n",
      "Epoch 120/200\n",
      "35/35 - 9s - loss: 0.1234 - auc: 0.9904 - val_loss: 0.0749 - val_auc: 0.9982 - 9s/epoch - 271ms/step\n",
      "Epoch 121/200\n",
      "35/35 - 10s - loss: 0.1112 - auc: 0.9922 - val_loss: 0.0697 - val_auc: 0.9982 - 10s/epoch - 286ms/step\n",
      "Epoch 122/200\n",
      "35/35 - 10s - loss: 0.1287 - auc: 0.9896 - val_loss: 0.1180 - val_auc: 0.9981 - 10s/epoch - 272ms/step\n",
      "Epoch 123/200\n",
      "35/35 - 9s - loss: 0.1281 - auc: 0.9898 - val_loss: 0.1202 - val_auc: 0.9972 - 9s/epoch - 271ms/step\n",
      "Epoch 124/200\n",
      "35/35 - 9s - loss: 0.1104 - auc: 0.9921 - val_loss: 0.1722 - val_auc: 0.9944 - 9s/epoch - 271ms/step\n",
      "Epoch 125/200\n",
      "35/35 - 9s - loss: 0.0954 - auc: 0.9943 - val_loss: 0.0965 - val_auc: 0.9970 - 9s/epoch - 271ms/step\n",
      "Epoch 126/200\n",
      "35/35 - 10s - loss: 0.1099 - auc: 0.9925 - val_loss: 0.0874 - val_auc: 0.9983 - 10s/epoch - 272ms/step\n",
      "Epoch 127/200\n",
      "35/35 - 10s - loss: 0.1120 - auc: 0.9920 - val_loss: 0.2701 - val_auc: 0.9845 - 10s/epoch - 272ms/step\n",
      "Epoch 128/200\n",
      "35/35 - 9s - loss: 0.1077 - auc: 0.9926 - val_loss: 0.0736 - val_auc: 0.9980 - 9s/epoch - 270ms/step\n",
      "Epoch 129/200\n",
      "35/35 - 10s - loss: 0.1011 - auc: 0.9935 - val_loss: 0.1058 - val_auc: 0.9985 - 10s/epoch - 272ms/step\n",
      "Epoch 130/200\n",
      "35/35 - 10s - loss: 0.2796 - auc: 0.9566 - val_loss: 0.5273 - val_auc: 0.8829 - 10s/epoch - 272ms/step\n",
      "Epoch 131/200\n",
      "35/35 - 10s - loss: 0.2200 - auc: 0.9708 - val_loss: 0.1087 - val_auc: 0.9962 - 10s/epoch - 272ms/step\n",
      "Epoch 132/200\n",
      "35/35 - 10s - loss: 0.1124 - auc: 0.9916 - val_loss: 0.1108 - val_auc: 0.9946 - 10s/epoch - 272ms/step\n",
      "Epoch 133/200\n",
      "35/35 - 10s - loss: 0.1007 - auc: 0.9936 - val_loss: 0.1155 - val_auc: 0.9983 - 10s/epoch - 272ms/step\n",
      "Epoch 134/200\n",
      "35/35 - 9s - loss: 0.0901 - auc: 0.9950 - val_loss: 0.0711 - val_auc: 0.9987 - 9s/epoch - 271ms/step\n",
      "Epoch 135/200\n",
      "35/35 - 9s - loss: 0.1019 - auc: 0.9935 - val_loss: 0.1518 - val_auc: 0.9965 - 9s/epoch - 271ms/step\n",
      "Epoch 136/200\n",
      "35/35 - 10s - loss: 0.0822 - auc: 0.9956 - val_loss: 0.0729 - val_auc: 0.9986 - 10s/epoch - 286ms/step\n",
      "Epoch 137/200\n",
      "35/35 - 10s - loss: 0.1036 - auc: 0.9932 - val_loss: 0.1262 - val_auc: 0.9981 - 10s/epoch - 271ms/step\n",
      "Epoch 138/200\n",
      "35/35 - 10s - loss: 0.1168 - auc: 0.9914 - val_loss: 0.2291 - val_auc: 0.9957 - 10s/epoch - 272ms/step\n",
      "Epoch 139/200\n",
      "35/35 - 10s - loss: 0.1013 - auc: 0.9935 - val_loss: 0.0990 - val_auc: 0.9971 - 10s/epoch - 272ms/step\n",
      "Epoch 140/200\n",
      "35/35 - 10s - loss: 0.1122 - auc: 0.9919 - val_loss: 0.0828 - val_auc: 0.9997 - 10s/epoch - 274ms/step\n",
      "Epoch 141/200\n",
      "35/35 - 9s - loss: 0.0953 - auc: 0.9937 - val_loss: 0.1051 - val_auc: 0.9970 - 9s/epoch - 271ms/step\n",
      "Epoch 142/200\n",
      "35/35 - 10s - loss: 0.0911 - auc: 0.9948 - val_loss: 0.0859 - val_auc: 0.9991 - 10s/epoch - 272ms/step\n",
      "Epoch 143/200\n",
      "35/35 - 10s - loss: 0.0881 - auc: 0.9951 - val_loss: 0.1489 - val_auc: 0.9988 - 10s/epoch - 272ms/step\n",
      "Epoch 144/200\n",
      "35/35 - 9s - loss: 0.0830 - auc: 0.9956 - val_loss: 0.0555 - val_auc: 0.9986 - 9s/epoch - 270ms/step\n",
      "Epoch 145/200\n",
      "35/35 - 9s - loss: 0.1095 - auc: 0.9926 - val_loss: 0.1665 - val_auc: 0.9992 - 9s/epoch - 271ms/step\n",
      "Epoch 146/200\n",
      "35/35 - 9s - loss: 0.0906 - auc: 0.9945 - val_loss: 0.0956 - val_auc: 0.9974 - 9s/epoch - 271ms/step\n",
      "Epoch 147/200\n",
      "35/35 - 10s - loss: 0.1070 - auc: 0.9929 - val_loss: 0.0803 - val_auc: 0.9977 - 10s/epoch - 272ms/step\n",
      "Epoch 148/200\n",
      "35/35 - 9s - loss: 0.1077 - auc: 0.9927 - val_loss: 0.0735 - val_auc: 0.9991 - 9s/epoch - 271ms/step\n",
      "Epoch 149/200\n",
      "35/35 - 10s - loss: 0.0825 - auc: 0.9958 - val_loss: 0.1146 - val_auc: 0.9987 - 10s/epoch - 271ms/step\n",
      "Epoch 150/200\n",
      "35/35 - 10s - loss: 0.0956 - auc: 0.9942 - val_loss: 0.1765 - val_auc: 0.9915 - 10s/epoch - 272ms/step\n",
      "Epoch 151/200\n",
      "35/35 - 10s - loss: 0.1013 - auc: 0.9935 - val_loss: 0.0772 - val_auc: 0.9991 - 10s/epoch - 286ms/step\n",
      "Epoch 152/200\n",
      "35/35 - 10s - loss: 0.0960 - auc: 0.9943 - val_loss: 0.1111 - val_auc: 0.9978 - 10s/epoch - 273ms/step\n",
      "Epoch 153/200\n",
      "35/35 - 10s - loss: 0.0832 - auc: 0.9955 - val_loss: 0.0680 - val_auc: 0.9990 - 10s/epoch - 272ms/step\n",
      "Epoch 154/200\n",
      "35/35 - 10s - loss: 0.0853 - auc: 0.9952 - val_loss: 0.0600 - val_auc: 0.9991 - 10s/epoch - 272ms/step\n",
      "Epoch 155/200\n",
      "35/35 - 9s - loss: 0.1387 - auc: 0.9879 - val_loss: 0.0566 - val_auc: 0.9984 - 9s/epoch - 271ms/step\n",
      "Epoch 156/200\n",
      "35/35 - 9s - loss: 0.1096 - auc: 0.9923 - val_loss: 0.0828 - val_auc: 0.9978 - 9s/epoch - 271ms/step\n",
      "Epoch 157/200\n",
      "35/35 - 9s - loss: 0.0884 - auc: 0.9949 - val_loss: 0.0574 - val_auc: 0.9985 - 9s/epoch - 271ms/step\n",
      "Epoch 158/200\n",
      "35/35 - 9s - loss: 0.0915 - auc: 0.9946 - val_loss: 0.0434 - val_auc: 0.9995 - 9s/epoch - 271ms/step\n",
      "Epoch 159/200\n",
      "35/35 - 9s - loss: 0.0779 - auc: 0.9962 - val_loss: 0.0573 - val_auc: 0.9987 - 9s/epoch - 271ms/step\n",
      "Epoch 160/200\n",
      "35/35 - 9s - loss: 0.0772 - auc: 0.9961 - val_loss: 0.0962 - val_auc: 0.9993 - 9s/epoch - 270ms/step\n",
      "Epoch 161/200\n",
      "35/35 - 9s - loss: 0.0925 - auc: 0.9945 - val_loss: 0.0554 - val_auc: 0.9983 - 9s/epoch - 271ms/step\n",
      "Epoch 162/200\n",
      "35/35 - 9s - loss: 0.1872 - auc: 0.9791 - val_loss: 0.1004 - val_auc: 0.9954 - 9s/epoch - 271ms/step\n",
      "Epoch 163/200\n",
      "35/35 - 9s - loss: 0.1093 - auc: 0.9925 - val_loss: 0.1004 - val_auc: 0.9973 - 9s/epoch - 271ms/step\n",
      "Epoch 164/200\n",
      "35/35 - 10s - loss: 0.0902 - auc: 0.9947 - val_loss: 0.2337 - val_auc: 0.9916 - 10s/epoch - 272ms/step\n",
      "Epoch 165/200\n",
      "35/35 - 9s - loss: 0.0963 - auc: 0.9938 - val_loss: 0.0839 - val_auc: 0.9993 - 9s/epoch - 271ms/step\n",
      "Epoch 166/200\n",
      "35/35 - 10s - loss: 0.0819 - auc: 0.9956 - val_loss: 0.1611 - val_auc: 0.9975 - 10s/epoch - 286ms/step\n",
      "Epoch 167/200\n",
      "35/35 - 10s - loss: 0.0802 - auc: 0.9956 - val_loss: 0.1061 - val_auc: 0.9979 - 10s/epoch - 271ms/step\n",
      "Epoch 168/200\n",
      "35/35 - 10s - loss: 0.0842 - auc: 0.9952 - val_loss: 0.0815 - val_auc: 0.9985 - 10s/epoch - 272ms/step\n",
      "Epoch 169/200\n",
      "35/35 - 10s - loss: 0.1282 - auc: 0.9900 - val_loss: 0.1140 - val_auc: 0.9970 - 10s/epoch - 272ms/step\n",
      "Epoch 170/200\n",
      "35/35 - 9s - loss: 0.1462 - auc: 0.9870 - val_loss: 0.0639 - val_auc: 0.9985 - 9s/epoch - 271ms/step\n",
      "Epoch 171/200\n",
      "35/35 - 10s - loss: 0.0872 - auc: 0.9951 - val_loss: 0.1006 - val_auc: 0.9986 - 10s/epoch - 271ms/step\n",
      "Epoch 172/200\n",
      "35/35 - 10s - loss: 0.1159 - auc: 0.9913 - val_loss: 0.0472 - val_auc: 0.9994 - 10s/epoch - 274ms/step\n",
      "Epoch 173/200\n",
      "35/35 - 10s - loss: 0.0838 - auc: 0.9954 - val_loss: 0.0661 - val_auc: 0.9992 - 10s/epoch - 272ms/step\n",
      "Epoch 174/200\n",
      "35/35 - 10s - loss: 0.1262 - auc: 0.9901 - val_loss: 0.0564 - val_auc: 0.9983 - 10s/epoch - 272ms/step\n",
      "Epoch 175/200\n",
      "35/35 - 10s - loss: 0.0782 - auc: 0.9959 - val_loss: 0.1114 - val_auc: 0.9965 - 10s/epoch - 272ms/step\n",
      "Epoch 176/200\n",
      "35/35 - 9s - loss: 0.0797 - auc: 0.9959 - val_loss: 0.1240 - val_auc: 0.9990 - 9s/epoch - 271ms/step\n",
      "Epoch 177/200\n",
      "35/35 - 9s - loss: 0.0841 - auc: 0.9955 - val_loss: 0.0673 - val_auc: 0.9979 - 9s/epoch - 271ms/step\n",
      "Epoch 178/200\n",
      "35/35 - 9s - loss: 0.0736 - auc: 0.9966 - val_loss: 0.0821 - val_auc: 0.9980 - 9s/epoch - 271ms/step\n",
      "Epoch 179/200\n",
      "35/35 - 10s - loss: 0.0824 - auc: 0.9955 - val_loss: 0.0883 - val_auc: 0.9991 - 10s/epoch - 271ms/step\n",
      "Epoch 180/200\n",
      "35/35 - 10s - loss: 0.0970 - auc: 0.9940 - val_loss: 0.0889 - val_auc: 0.9995 - 10s/epoch - 272ms/step\n",
      "Epoch 181/200\n",
      "35/35 - 10s - loss: 0.0752 - auc: 0.9963 - val_loss: 0.0462 - val_auc: 0.9995 - 10s/epoch - 287ms/step\n",
      "Epoch 182/200\n",
      "35/35 - 9s - loss: 0.0758 - auc: 0.9960 - val_loss: 0.3840 - val_auc: 0.9798 - 9s/epoch - 271ms/step\n",
      "Epoch 183/200\n",
      "35/35 - 9s - loss: 0.0879 - auc: 0.9949 - val_loss: 0.0752 - val_auc: 0.9988 - 9s/epoch - 271ms/step\n",
      "Epoch 184/200\n",
      "35/35 - 9s - loss: 0.0988 - auc: 0.9938 - val_loss: 0.0585 - val_auc: 0.9985 - 9s/epoch - 271ms/step\n",
      "Epoch 185/200\n",
      "35/35 - 9s - loss: 0.0724 - auc: 0.9965 - val_loss: 0.0648 - val_auc: 0.9991 - 9s/epoch - 271ms/step\n",
      "Epoch 186/200\n",
      "35/35 - 9s - loss: 0.1082 - auc: 0.9925 - val_loss: 0.0708 - val_auc: 0.9993 - 9s/epoch - 271ms/step\n",
      "Epoch 187/200\n",
      "35/35 - 9s - loss: 0.0921 - auc: 0.9945 - val_loss: 0.1207 - val_auc: 0.9981 - 9s/epoch - 271ms/step\n",
      "Epoch 188/200\n",
      "35/35 - 9s - loss: 0.0914 - auc: 0.9944 - val_loss: 0.0487 - val_auc: 0.9987 - 9s/epoch - 271ms/step\n",
      "Epoch 189/200\n",
      "35/35 - 9s - loss: 0.0931 - auc: 0.9943 - val_loss: 0.0586 - val_auc: 0.9995 - 9s/epoch - 271ms/step\n",
      "Epoch 190/200\n",
      "35/35 - 9s - loss: 0.1091 - auc: 0.9924 - val_loss: 0.1298 - val_auc: 0.9993 - 9s/epoch - 271ms/step\n",
      "Epoch 191/200\n",
      "35/35 - 9s - loss: 0.0992 - auc: 0.9937 - val_loss: 0.0503 - val_auc: 0.9987 - 9s/epoch - 271ms/step\n",
      "Epoch 192/200\n",
      "35/35 - 9s - loss: 0.5448 - auc: 0.8396 - val_loss: 0.2522 - val_auc: 0.9850 - 9s/epoch - 271ms/step\n",
      "Epoch 193/200\n",
      "35/35 - 9s - loss: 0.1755 - auc: 0.9814 - val_loss: 0.0752 - val_auc: 0.9960 - 9s/epoch - 271ms/step\n",
      "Epoch 194/200\n",
      "35/35 - 9s - loss: 0.1343 - auc: 0.9886 - val_loss: 0.0422 - val_auc: 0.9995 - 9s/epoch - 271ms/step\n",
      "Epoch 195/200\n",
      "35/35 - 9s - loss: 0.1053 - auc: 0.9931 - val_loss: 0.0658 - val_auc: 0.9989 - 9s/epoch - 271ms/step\n",
      "Epoch 196/200\n",
      "35/35 - 10s - loss: 0.1271 - auc: 0.9900 - val_loss: 0.0986 - val_auc: 0.9990 - 10s/epoch - 285ms/step\n",
      "Epoch 197/200\n",
      "35/35 - 10s - loss: 0.1044 - auc: 0.9932 - val_loss: 0.0435 - val_auc: 0.9993 - 10s/epoch - 272ms/step\n",
      "Epoch 198/200\n",
      "35/35 - 10s - loss: 0.0952 - auc: 0.9940 - val_loss: 0.0470 - val_auc: 0.9995 - 10s/epoch - 272ms/step\n",
      "Epoch 199/200\n",
      "35/35 - 10s - loss: 0.0795 - auc: 0.9958 - val_loss: 0.0678 - val_auc: 0.9994 - 10s/epoch - 272ms/step\n",
      "Epoch 200/200\n",
      "35/35 - 10s - loss: 0.0888 - auc: 0.9949 - val_loss: 0.0856 - val_auc: 0.9960 - 10s/epoch - 272ms/step\n",
      "\n",
      "Best validation AUC is 0.9996616840362549 on epoch #140\n"
     ]
    }
   ],
   "source": [
    "if PERFORM_TRAINING:\n",
    "    train_generator = RandomSampleGenerator(X_TRAIN, Y_TRAIN, BATCH_SIZE, seed=SEED)\n",
    "    callbacks = [TrackBestPerformance(CKP_PATH)]\n",
    "\n",
    "    history = model.fit(train_generator, validation_data=(X_VAL, Y_VAL),\n",
    "                        epochs=EPOCHS, callbacks=callbacks,\n",
    "                        verbose=2)\n",
    "else:\n",
    "    model.load_weights(CKP_PATH)"
   ]
  },
  {
   "cell_type": "code",
   "execution_count": 26,
   "metadata": {
    "colab": {
     "base_uri": "https://localhost:8080/"
    },
    "id": "qguHcVxK9h7t",
    "outputId": "d27767d4-1aa6-4ca7-ce80-896de4808ac9"
   },
   "outputs": [
    {
     "name": "stdout",
     "output_type": "stream",
     "text": [
      "Best validation AUC: 99.97%\n",
      "Corresponding train AUC: 99.19%\n"
     ]
    }
   ],
   "source": [
    "if PERFORM_TRAINING:\n",
    "    best_epoch_idx = np.argmax(history.history['val_auc'])\n",
    "\n",
    "    print('Best validation AUC: {:.2%}'.format(history.history['val_auc'][best_epoch_idx]))\n",
    "    print('Corresponding train AUC: {:.2%}'.format(history.history['auc'][best_epoch_idx]))"
   ]
  },
  {
   "cell_type": "code",
   "execution_count": 27,
   "metadata": {
    "colab": {
     "base_uri": "https://localhost:8080/",
     "height": 350
    },
    "id": "jt9JjLNz9Hfz",
    "outputId": "409599c5-a4d3-41d6-fe8f-8c0df53e11e3"
   },
   "outputs": [
    {
     "data": {
      "image/png": "[encoded data removed]",
      "text/plain": [
       "<Figure size 1080x360 with 2 Axes>"
      ]
     },
     "metadata": {
      "needs_background": "light"
     },
     "output_type": "display_data"
    }
   ],
   "source": [
    "if PERFORM_TRAINING:\n",
    "    _, axes = plot.subplots(nrows=1, ncols=2, figsize=(15, 5))\n",
    "\n",
    "    # Loss vs Epoch plot\n",
    "    _ = axes[0].plot(range(1, best_epoch_idx + 2),\n",
    "                     history.history['loss'][:best_epoch_idx + 1],\n",
    "                     label='Train data')\n",
    "    _ = axes[0].plot(range(1, best_epoch_idx + 2),\n",
    "                     history.history['val_loss'][:best_epoch_idx + 1],\n",
    "                     label='Validation data')\n",
    "    _ = axes[0].set(xlabel='Epoch', ylabel='Loss', title='Loss vs Epoch')\n",
    "\n",
    "    # AUC vs Epoch plot\n",
    "    _ = axes[1].plot(range(1, best_epoch_idx + 2),\n",
    "                     history.history['auc'][:best_epoch_idx + 1],\n",
    "                     label='Train data')\n",
    "    _ = axes[1].plot(range(1, best_epoch_idx + 2),\n",
    "                     history.history['val_auc'][:best_epoch_idx + 1],\n",
    "                     label='Validation data')\n",
    "    _ = axes[1].set(xlabel='Epoch', ylabel='AUC', title='AUC vs Epoch')\n",
    "\n",
    "    _ = plot.legend()"
   ]
  },
  {
   "cell_type": "code",
   "execution_count": 28,
   "metadata": {
    "colab": {
     "base_uri": "https://localhost:8080/"
    },
    "id": "KSFvGKeTf7xd",
    "outputId": "fae2ba9c-5236-4b67-a8b6-dd8e0b198942"
   },
   "outputs": [
    {
     "name": "stdout",
     "output_type": "stream",
     "text": [
      "/content/output /content\n",
      "/content\n"
     ]
    }
   ],
   "source": [
    "# Zip model weights for download\n",
    "!pushd {OUTPATH}; zip -rq test_5_weights.zip weights; popd"
   ]
  },
  {
   "cell_type": "markdown",
   "metadata": {
    "id": "iob-mRbH_BHw"
   },
   "source": [
    "<a name=\"evaluation\"><a/>\n",
    "# Evaluation"
   ]
  },
  {
   "cell_type": "code",
   "execution_count": 29,
   "metadata": {
    "id": "xEjuUJSY7OFQ"
   },
   "outputs": [],
   "source": [
    "def split_and_predict(x, num_batches=50):\n",
    "    '''\n",
    "    Utility function to do a forward pass with large data\n",
    "    Splits data into batches and does forward pass through the model\n",
    "    '''\n",
    "    x_batches = np.array_split(x, num_batches)\n",
    "    y_pred = np.concatenate([model(x_batch).numpy() for x_batch in x_batches], axis=0)[:, 0]\n",
    "    return y_pred"
   ]
  },
  {
   "cell_type": "code",
   "execution_count": 30,
   "metadata": {
    "id": "kxCATjS-9rWI"
   },
   "outputs": [],
   "source": [
    "# Get predictions (needed for plotting ROC curve)\n",
    "Y_PRED_TRAIN = split_and_predict(X_TRAIN)\n",
    "Y_PRED_VAL = split_and_predict(X_VAL)"
   ]
  },
  {
   "cell_type": "code",
   "execution_count": 31,
   "metadata": {
    "id": "so1RrER191_d"
   },
   "outputs": [],
   "source": [
    "def plot_roc_curve(y, y_pred, axis, label=None, num_thresholds=200):\n",
    "    thresholds = np.linspace(0., 1., num_thresholds)\n",
    "\n",
    "    tp, fp, tn, fn = [], [], [], []\n",
    "\n",
    "    for threshold in thresholds:\n",
    "        y_pred_label = (y_pred > threshold).astype(int)\n",
    "        tp.append(np.count_nonzero(((y_pred_label == 1) & (y == 1)), axis=0))\n",
    "        fp.append(np.count_nonzero(((y_pred_label == 1) & (y == 0)), axis=0))\n",
    "        tn.append(np.count_nonzero(((y_pred_label == 0) & (y == 0)), axis=0))\n",
    "        fn.append(np.count_nonzero(((y_pred_label == 0) & (y == 1)), axis=0))\n",
    "\n",
    "    tp, fp, tn, fn = np.array(tp), np.array(fp), np.array(tn), np.array(fn)\n",
    "\n",
    "    tp_rate = tp / (tp + fn)\n",
    "    fp_rate = fp / (fp + tn)\n",
    "\n",
    "    _ = axis.plot(fp_rate, tp_rate, label=label)"
   ]
  },
  {
   "cell_type": "code",
   "execution_count": 32,
   "metadata": {
    "colab": {
     "base_uri": "https://localhost:8080/",
     "height": 336
    },
    "id": "IirtalAw-6T0",
    "outputId": "ee665030-5b54-46a0-f56b-a7209e1dfb9d"
   },
   "outputs": [
    {
     "data": {
      "image/png": "[encoded data removed]",
      "text/plain": [
       "<Figure size 1080x360 with 1 Axes>"
      ]
     },
     "metadata": {
      "needs_background": "light"
     },
     "output_type": "display_data"
    }
   ],
   "source": [
    "fig, axis = plot.subplots(figsize=(15, 5))\n",
    "\n",
    "# ROC curve on train data\n",
    "plot_roc_curve(Y_TRAIN, Y_PRED_TRAIN, axis, 'Train data')\n",
    "\n",
    "# ROC curve on validation data\n",
    "plot_roc_curve(Y_VAL, Y_PRED_VAL, axis, 'Val data')\n",
    "\n",
    "_ = axis.set(title='ROC curve')\n",
    "_ = plot.legend()"
   ]
  },
  {
   "cell_type": "markdown",
   "metadata": {
    "id": "RCki010u67TY"
   },
   "source": [
    "<a name=\"external-evaluation\"><a/>\n",
    "### External Evaluation"
   ]
  },
  {
   "cell_type": "code",
   "execution_count": null,
   "metadata": {
    "id": "hDqP9_Bs_SDP"
   },
   "outputs": [],
   "source": [
    "# Load test data | Shape: (None, 150, 150, 1)\n",
    "X_TEST, Y_TEST = None, None"
   ]
  },
  {
   "cell_type": "code",
   "execution_count": null,
   "metadata": {
    "id": "QqRtQQa0_NY8"
   },
   "outputs": [],
   "source": [
    "# Standardize test data\n",
    "X_TEST = standardize(X_TEST, 'test', OUTPATH)\n",
    "\n",
    "# Calculate AUC\n",
    "test_auc = model.evaluate(X_TEST, Y_TEST, verbose=0)[1]\n",
    "\n",
    "print(f'AUC on test data is {test_auc}')"
   ]
  },
  {
   "cell_type": "code",
   "execution_count": null,
   "metadata": {
    "id": "RkDTJM2b8nxt"
   },
   "outputs": [],
   "source": [
    "# Get predictions (needed to plot ROC curve)\n",
    "Y_PRED_TEST = split_and_predict(X_TEST)"
   ]
  },
  {
   "cell_type": "code",
   "execution_count": null,
   "metadata": {
    "id": "CtNLr3fC8YdE"
   },
   "outputs": [],
   "source": [
    "# Plot ROC curve\n",
    "fig, axis = plot.subplots(figsize=(15, 5))\n",
    "\n",
    "# ROC curve on train data\n",
    "plot_roc_curve(Y_TEST, Y_PRED_TEST, axis, 'Test data')\n",
    "\n",
    "_ = axis.set(title='ROC curve')\n",
    "_ = plot.legend()"
   ]
  },
  {
   "cell_type": "markdown",
   "metadata": {
    "id": "DpfP4x-fKaGE"
   },
   "source": [
    "<a name=\"acknowledgements\"></a>\n",
    "\n",
    "# Acknowledgements\n",
    "\n",
    "The model ViTClassifier is partially inspired from https://keras.io/examples/vision/image_classification_with_vision_transformer/."
   ]
  }
 ],
 "metadata": {
  "accelerator": "GPU",
  "colab": {
   "collapsed_sections": [],
   "machine_shape": "hm",
   "name": "gsoc_deeplense_test_5.ipynb",
   "provenance": []
  },
  "kernelspec": {
   "display_name": "Python 3 (ipykernel)",
   "language": "python",
   "name": "python3"
  },
  "language_info": {
   "codemirror_mode": {
    "name": "ipython",
    "version": 3
   },
   "file_extension": ".py",
   "mimetype": "text/x-python",
   "name": "python",
   "nbconvert_exporter": "python",
   "pygments_lexer": "ipython3",
   "version": "3.8.12"
  }
 },
 "nbformat": 4,
 "nbformat_minor": 1
}
