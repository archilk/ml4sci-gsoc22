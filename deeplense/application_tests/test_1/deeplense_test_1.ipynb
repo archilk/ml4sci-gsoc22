{
 "cells": [
  {
   "cell_type": "markdown",
   "metadata": {
    "id": "m97rcIJa-Tn4"
   },
   "source": [
    "#Task: DeepLense (Test 1)\n",
    "#Author: Archil Srivastava"
   ]
  },
  {
   "cell_type": "markdown",
   "metadata": {
    "id": "s0v6TQRG-WXz"
   },
   "source": [
    "### Table of Contents\n",
    "* [Imports](#imports)\n",
    "* [Prepare Dataset](#prepare-dataset)\n",
    "    * [Load Dataset](#load-dataset)\n",
    "    * [Analyse Dataset](#analyse-dataset)\n",
    "    * [Preprocess Dataset](#preprocess-dataset)\n",
    "* [Training Pipeline](#train-pipeline)\n",
    "* [Training](#training)\n",
    "* [Evaluation](#evaluation)\n",
    "    * [External Evaluation](#external-evaluation)\n",
    "* [Acknowledgements](#acknowledgements)"
   ]
  },
  {
   "cell_type": "markdown",
   "metadata": {
    "id": "e8cTIKnRU1U0"
   },
   "source": [
    "<a name=\"imports\"></a>\n",
    "# Imports"
   ]
  },
  {
   "cell_type": "code",
   "execution_count": 2,
   "metadata": {
    "id": "_ncu6JFqN8Pm"
   },
   "outputs": [],
   "source": [
    "import tensorflow as tf\n",
    "from tensorflow import keras\n",
    "from keras.layers import (Layer, Input, Flatten,\n",
    "                          Conv2D, MaxPool2D,\n",
    "                          BatchNormalization, Dense, Dropout,\n",
    "                          RandomFlip, RandomRotation, RandomZoom)\n",
    "from keras import layers\n",
    "\n",
    "import numpy as np\n",
    "import matplotlib.pyplot as plot\n",
    "\n",
    "import os\n",
    "import warnings\n",
    "import pdb"
   ]
  },
  {
   "cell_type": "code",
   "execution_count": 3,
   "metadata": {
    "id": "us48vH1sOI_E"
   },
   "outputs": [],
   "source": [
    "### Set Numpy Print Options ###\n",
    "np.set_printoptions(precision=3)\n",
    "np.set_printoptions(suppress=True)"
   ]
  },
  {
   "cell_type": "code",
   "execution_count": 4,
   "metadata": {
    "id": "jbhn9IZjOMPw"
   },
   "outputs": [],
   "source": [
    "### Set random seed for reproducibility ###\n",
    "SEED = 1\n",
    "keras.utils.set_random_seed(SEED)\n",
    "tf.config.experimental.enable_op_determinism()"
   ]
  },
  {
   "cell_type": "code",
   "execution_count": 5,
   "metadata": {
    "id": "SV4lDdPjwCvM"
   },
   "outputs": [],
   "source": [
    "PERFORM_TRAINING = False # Set to False if only inference is to be done"
   ]
  },
  {
   "cell_type": "markdown",
   "metadata": {
    "id": "WA3WdEs8WBfb"
   },
   "source": [
    "<a name=\"prepare-dataset\"></a>\n",
    "# Prepare Dataset"
   ]
  },
  {
   "cell_type": "markdown",
   "metadata": {
    "id": "K_HHXqdqWCd7"
   },
   "source": [
    "<a name=\"load-dataset\"></a>\n",
    "### Load Dataset"
   ]
  },
  {
   "cell_type": "code",
   "execution_count": 6,
   "metadata": {
    "id": "Kpj-F-PZPzhL"
   },
   "outputs": [],
   "source": [
    "DATAPATH = './data'\n",
    "OUTPATH = './output' # Storing output\n",
    "os.makedirs(OUTPATH, exist_ok=True)\n",
    "SAVEPATH = os.path.join(OUTPATH, 'weights') # For storing model weights\n",
    "os.makedirs(SAVEPATH)\n",
    "CKP_PATH = os.path.join(SAVEPATH, 'ckp')\n",
    "\n",
    "CATEGORIES = ('no', 'sphere', 'vort') # Labels: no=0, sphere=1, vort=2"
   ]
  },
  {
   "cell_type": "code",
   "execution_count": 7,
   "metadata": {
    "id": "PDb3PUZ5BuU_"
   },
   "outputs": [],
   "source": [
    "# Unzip data\n",
    "!unzip -oq ./drive/MyDrive/test_1 -d {DATAPATH}; mv {DATAPATH}/dataset/* {DATAPATH}; rm -rf {DATAPATH}/dataset"
   ]
  },
  {
   "cell_type": "code",
   "execution_count": null,
   "metadata": {
    "id": "4o4qaBv4v71s"
   },
   "outputs": [],
   "source": [
    "# Unzip model weights (if available)\n",
    "!unzip -oq {os.path.join(OUTPATH, 'test_1_weights.zip')} -d {OUTPATH}"
   ]
  },
  {
   "cell_type": "code",
   "execution_count": 8,
   "metadata": {
    "colab": {
     "base_uri": "https://localhost:8080/"
    },
    "id": "kaoXvw1-TkNT",
    "outputId": "3e848a0c-e6a8-4e11-92d8-dff54a8e7a53"
   },
   "outputs": [
    {
     "name": "stdout",
     "output_type": "stream",
     "text": [
      ".\n",
      "├── data\n",
      "│   ├── __MACOSX\n",
      "│   │   └── dataset\n",
      "│   │       ├── train\n",
      "│   │       └── val\n",
      "│   ├── train\n",
      "│   │   ├── no [10000 entries exceeds filelimit, not opening dir]\n",
      "│   │   ├── sphere [10000 entries exceeds filelimit, not opening dir]\n",
      "│   │   └── vort [10000 entries exceeds filelimit, not opening dir]\n",
      "│   └── val\n",
      "│       ├── no [2500 entries exceeds filelimit, not opening dir]\n",
      "│       ├── sphere [2500 entries exceeds filelimit, not opening dir]\n",
      "│       └── vort [2500 entries exceeds filelimit, not opening dir]\n",
      "└── output\n",
      "    └── weights\n",
      "\n",
      "15 directories, 0 files\n"
     ]
    }
   ],
   "source": [
    "# Print directory structure\n",
    "!tree --filelimit=10"
   ]
  },
  {
   "cell_type": "code",
   "execution_count": 9,
   "metadata": {
    "id": "4I3VbARRT7TI"
   },
   "outputs": [],
   "source": [
    "def load_data(root, datatype, categories, use_cached=True):\n",
    "    if use_cached:\n",
    "        try:\n",
    "            x = np.load(os.path.join(root, f'X_{datatype}.npy'))\n",
    "            y = np.load(os.path.join(root, f'Y_{datatype}.npy'))\n",
    "            return x, y\n",
    "        except FileNotFoundError as _:\n",
    "            warnings.warn('Cached data does not exist! Loading from raw data.')\n",
    "\n",
    "    x, y = [], []\n",
    "    num_classes = len(categories)\n",
    "    for index, category in enumerate(categories):\n",
    "        category_path = os.path.join(root, datatype, category)\n",
    "        for filename in os.scandir(category_path):\n",
    "            # Load data\n",
    "            filedata = np.load(filename.path)\n",
    "            x.append(filedata)\n",
    "\n",
    "            # Load label (Convert into onehot)\n",
    "            label = np.stack([np.eye(num_classes)[index]\n",
    "                              for _ in range(len(filedata))], axis=0)\n",
    "            y.append(label)\n",
    "    x = np.expand_dims(np.concatenate(x, axis=0), axis=-1) # add channel axis\n",
    "    y = np.concatenate(y, axis=0)\n",
    "\n",
    "    # Save\n",
    "    np.save(os.path.join(root, f'X_{datatype}.npy'), x)\n",
    "    np.save(os.path.join(root, f'Y_{datatype}.npy'), y)\n",
    "\n",
    "    return x, y"
   ]
  },
  {
   "cell_type": "code",
   "execution_count": 10,
   "metadata": {
    "colab": {
     "base_uri": "https://localhost:8080/"
    },
    "id": "BlTA_obfYfdI",
    "outputId": "d5c654a5-fd03-429b-f463-2fb3b0711057"
   },
   "outputs": [
    {
     "name": "stderr",
     "output_type": "stream",
     "text": [
      "/usr/local/lib/python3.7/dist-packages/ipykernel_launcher.py:8: UserWarning: Cached data does not exist! Loading from raw data.\n",
      "  \n"
     ]
    },
    {
     "name": "stdout",
     "output_type": "stream",
     "text": [
      "Shape of X_TRAIN: (30000, 150, 150, 1)\n",
      "Shape of Y_TRAIN: (30000, 3)\n",
      "Shape of X_VAL: (7500, 150, 150, 1)\n",
      "Shape of Y_VAL: (7500, 3)\n"
     ]
    }
   ],
   "source": [
    "X_TRAIN, Y_TRAIN = load_data(DATAPATH, 'train', CATEGORIES, use_cached=True)\n",
    "print(f'Shape of X_TRAIN: {X_TRAIN.shape}')\n",
    "print(f'Shape of Y_TRAIN: {Y_TRAIN.shape}')\n",
    "\n",
    "X_VAL, Y_VAL = load_data(DATAPATH, 'val', CATEGORIES, use_cached=True)\n",
    "print(f'Shape of X_VAL: {X_VAL.shape}')\n",
    "print(f'Shape of Y_VAL: {Y_VAL.shape}')"
   ]
  },
  {
   "cell_type": "markdown",
   "metadata": {
    "id": "_pQhhQbxmo1b"
   },
   "source": [
    "<a name=\"analyse-dataset\"></a>\n",
    "### Analyse Dataset"
   ]
  },
  {
   "cell_type": "code",
   "execution_count": 11,
   "metadata": {
    "colab": {
     "base_uri": "https://localhost:8080/",
     "height": 281
    },
    "id": "NnhSDTPpaHdB",
    "outputId": "2b3a394d-5d89-4604-c48d-d4e0745b25e5"
   },
   "outputs": [
    {
     "data": {
      "image/png": "[encoded data removed]",
      "text/plain": [
       "<Figure size 432x288 with 1 Axes>"
      ]
     },
     "metadata": {
      "needs_background": "light"
     },
     "output_type": "display_data"
    }
   ],
   "source": [
    "# Display random instance of data (This won't affect original SEED progression)\n",
    "idx = np.random.default_rng().integers(0, len(X_TRAIN))\n",
    "_ = plot.imshow(X_TRAIN[idx].squeeze(), cmap='gray')\n",
    "label = np.argmax(Y_TRAIN[idx])\n",
    "_ = plot.title(f'Label: {label} {CATEGORIES[label]}')"
   ]
  },
  {
   "cell_type": "code",
   "execution_count": 12,
   "metadata": {
    "colab": {
     "base_uri": "https://localhost:8080/",
     "height": 265
    },
    "id": "21uoMjvWas8r",
    "outputId": "393b61a6-97a5-4696-b690-cafb73400705"
   },
   "outputs": [
    {
     "data": {
      "image/png": "[encoded data removed]",
      "text/plain": [
       "<Figure size 432x288 with 1 Axes>"
      ]
     },
     "metadata": {
      "needs_background": "light"
     },
     "output_type": "display_data"
    }
   ],
   "source": [
    "# Check for class imbalance in train set\n",
    "labels = np.argmax(Y_TRAIN, axis=1)\n",
    "class_sizes = [len(labels[labels == idx]) for idx in range(len(CATEGORIES))]\n",
    "\n",
    "fig, axis = plot.subplots()\n",
    "_ = axis.bar(range(len(CATEGORIES)), class_sizes, tick_label=CATEGORIES)"
   ]
  },
  {
   "cell_type": "markdown",
   "metadata": {
    "id": "Rdt-8yzpnjQ9"
   },
   "source": [
    "<a name=\"preprocess-dataset\"></a>\n",
    "### Preprocess Dataset"
   ]
  },
  {
   "cell_type": "code",
   "execution_count": 13,
   "metadata": {
    "id": "yp79aQHZfqaV"
   },
   "outputs": [],
   "source": [
    "def standardize(x, datatype, root):\n",
    "    '''Standardize image examples'''\n",
    "    # Make image contrast similar across all images\n",
    "    x = ((x - np.mean(x, axis=(1, 2), keepdims=True)) /\n",
    "         np.std(x, axis=(1, 2), keepdims=True))\n",
    "    return x"
   ]
  },
  {
   "cell_type": "code",
   "execution_count": 14,
   "metadata": {
    "id": "7JWGqdU3ftbN"
   },
   "outputs": [],
   "source": [
    "### Preprocess data ###\n",
    "\n",
    "# Shuffle train data\n",
    "perm = np.random.permutation(len(X_TRAIN))\n",
    "X_TRAIN, Y_TRAIN = X_TRAIN[perm], Y_TRAIN[perm]\n",
    "\n",
    "# Standardize data\n",
    "X_TRAIN = standardize(X_TRAIN, 'train', OUTPATH)\n",
    "X_VAL = standardize(X_VAL, 'val', OUTPATH)"
   ]
  },
  {
   "cell_type": "markdown",
   "metadata": {
    "id": "Jsbd1JUnpml0"
   },
   "source": [
    "<a name=\"train-pipeline\"></a>\n",
    "# Training Pipeline"
   ]
  },
  {
   "cell_type": "code",
   "execution_count": 15,
   "metadata": {
    "id": "Rh61he1UCpks"
   },
   "outputs": [],
   "source": [
    "def make_model(input_shape, num_classes):\n",
    "    inputs = keras.Input(shape=input_shape)\n",
    "\n",
    "    # Augmentation\n",
    "    x = keras.Sequential([layers.RandomFlip(),\n",
    "                          layers.RandomRotation(0.5),\n",
    "                          RandomZoom(height_factor=0.2, width_factor=0.2)\n",
    "                        ], name='augment')(inputs)\n",
    "\n",
    "    # Conv Block 1\n",
    "    x = layers.Conv2D(16, 5)(x)\n",
    "    x = layers.BatchNormalization()(x)\n",
    "    x = layers.Activation('relu')(x)\n",
    "\n",
    "    # Conv Block 2, 3, 4\n",
    "    for _ in range(3):\n",
    "        x = layers.Conv2D(32, 3)(x)\n",
    "        x = layers.BatchNormalization()(x)\n",
    "        x = layers.Activation('relu')(x)\n",
    "        x = layers.MaxPool2D()(x)\n",
    "\n",
    "    # Conv Block 5, 6\n",
    "    for _ in range(2):\n",
    "        residual = layers.Conv2D(64, 1)(x)\n",
    "        x = layers.Conv2D(64, 3, padding='same')(x)\n",
    "        x = layers.BatchNormalization()(x)\n",
    "        x = layers.Activation('relu')(x)\n",
    "        x = layers.add([x, residual]) # Residual connection\n",
    "\n",
    "\n",
    "    # Conv Block 7\n",
    "    x = layers.Conv2D(128, 3)(x)\n",
    "    x = layers.BatchNormalization()(x)\n",
    "    x = layers.Activation('relu')(x)\n",
    "\n",
    "    x = layers.Flatten()(x)\n",
    "\n",
    "    # Feed Forward Network\n",
    "    x = layers.Dense(256, activation='relu')(x)\n",
    "    x = layers.Dense(32, activation='relu')(x)\n",
    "\n",
    "    # Classifier\n",
    "    outputs = layers.Dense(num_classes, activation='softmax')(x)\n",
    "\n",
    "    return keras.Model(inputs, outputs)"
   ]
  },
  {
   "cell_type": "markdown",
   "metadata": {
    "id": "cptpm6SfrdfF"
   },
   "source": [
    "<a name=\"training\"></a>\n",
    "# Training"
   ]
  },
  {
   "cell_type": "code",
   "execution_count": 16,
   "metadata": {
    "id": "zh-Xv3obhRQM"
   },
   "outputs": [],
   "source": [
    "class RandomSampleGenerator(keras.utils.Sequence):\n",
    "    '''\n",
    "    Generates batches containing equal number of positive and negative examples\n",
    "    to rectify any class imbalance in data\n",
    "    '''\n",
    "    def __init__(self, x, y, batch_size, seed=None):\n",
    "        self.labels = np.argmax(y, axis=1)\n",
    "        self.classes = np.unique(labels)\n",
    "        self.x = [x[labels == class_] for class_ in self.classes]\n",
    "        self.y = [y[labels == class_] for class_ in self.classes]\n",
    "\n",
    "        self.epoch_length = len(x) // batch_size\n",
    "        self.batch_size = batch_size\n",
    "        self.seed = seed\n",
    "        self.reset()\n",
    "\n",
    "    def reset(self):\n",
    "        # Reset random number generator\n",
    "        self.rng = np.random.default_rng(self.seed)\n",
    "\n",
    "    def __len__(self):\n",
    "        return self.epoch_length\n",
    "\n",
    "    def __getitem__(self, idx):\n",
    "        batch_x, batch_y = [], []\n",
    "        num_classes = len(self.classes)\n",
    "        for class_ in range(num_classes):\n",
    "            indices = self.rng.choice(self.x[class_].shape[0],\n",
    "                                      self.batch_size // num_classes,\n",
    "                                      replace=False)\n",
    "            batch_x.append(self.x[class_][indices])\n",
    "            batch_y.append(self.y[class_][indices])\n",
    "\n",
    "        # Concat all samples\n",
    "        batch_x = np.concatenate(batch_x)\n",
    "        batch_y = np.concatenate(batch_y)\n",
    "\n",
    "        return batch_x, batch_y\n"
   ]
  },
  {
   "cell_type": "code",
   "execution_count": 17,
   "metadata": {
    "id": "N9eVHntMj7vg"
   },
   "outputs": [],
   "source": [
    "class TrackBestPerformance(keras.callbacks.Callback):\n",
    "    '''\n",
    "    Callback to keep track of model weights which give best val_auc\n",
    "    After training completes, the model is assigned with the best model weights\n",
    "    '''\n",
    "    def __init__(self, ckp_path, save_every=15, **kwargs):\n",
    "        super().__init__(**kwargs)\n",
    "        self.best_auc = 0\n",
    "        self.best_epoch = -1\n",
    "        self.best_weights = None\n",
    "        self.ckp_path = ckp_path\n",
    "        self.save_every = save_every\n",
    "  \n",
    "    def on_epoch_end(self, epoch, logs=None):\n",
    "        '''Track best val_auc and corresponding weights'''\n",
    "        current_auc = logs['val_auc']\n",
    "        if current_auc >= self.best_auc:\n",
    "            self.best_auc = current_auc\n",
    "            self.best_epoch = epoch\n",
    "            self.best_weights = self.model.get_weights()\n",
    "        if epoch % self.save_every == 0:\n",
    "            self.model.save_weights(self.ckp_path)\n",
    "  \n",
    "    def on_train_end(self, logs=None):\n",
    "        '''Reassign model weights to the one with the best val_auc'''\n",
    "        self.model.set_weights(self.best_weights)\n",
    "        self.model.save_weights(self.ckp_path)\n",
    "        print(f'\\nBest validation AUC is {self.best_auc} '\n",
    "              f'on epoch #{self.best_epoch + 1}')\n"
   ]
  },
  {
   "cell_type": "code",
   "execution_count": 18,
   "metadata": {
    "id": "7Yp90Plgj8_F"
   },
   "outputs": [],
   "source": [
    "BATCH_SIZE = 256\n",
    "EPOCHS = 300\n",
    "LEARNING_RATE = 5e-4\n",
    "\n",
    "# Pick a pre-saved model to finetune further\n",
    "USE_SAVED_MODEL = False\n",
    "\n",
    "# Run eagerly for debugging\n",
    "RUN_EAGERLY = False"
   ]
  },
  {
   "cell_type": "code",
   "execution_count": 19,
   "metadata": {
    "id": "ljUcOBWok9Zm"
   },
   "outputs": [],
   "source": [
    "# Instantiate new model\n",
    "model = make_model(X_TRAIN.shape[1:], len(CATEGORIES))\n",
    "\n",
    "model.compile(loss=keras.losses.CategoricalCrossentropy(),\n",
    "              optimizer=keras.optimizers.Adam(learning_rate=LEARNING_RATE),\n",
    "              metrics=keras.metrics.AUC(multi_label=True, num_labels=3, name='auc'), # AUC is average of the AUCs from the multiclass labels\n",
    "              run_eagerly=RUN_EAGERLY)\n",
    "\n",
    "if USE_SAVED_MODEL:\n",
    "    # Pick a pre-trained model to finetune\n",
    "    model.load_weights(CKP_PATH)"
   ]
  },
  {
   "cell_type": "code",
   "execution_count": 20,
   "metadata": {
    "colab": {
     "base_uri": "https://localhost:8080/"
    },
    "id": "dwa8g9rDlSpA",
    "outputId": "ccf15b42-096e-447e-b016-67343f108926"
   },
   "outputs": [
    {
     "name": "stdout",
     "output_type": "stream",
     "text": [
      "Model: \"model\"\n",
      "__________________________________________________________________________________________________\n",
      " Layer (type)                   Output Shape         Param #     Connected to                     \n",
      "==================================================================================================\n",
      " input_1 (InputLayer)           [(None, 150, 150, 1  0           []                               \n",
      "                                )]                                                                \n",
      "                                                                                                  \n",
      " augment (Sequential)           (None, 150, 150, 1)  0           ['input_1[0][0]']                \n",
      "                                                                                                  \n",
      " conv2d (Conv2D)                (None, 146, 146, 16  416         ['augment[0][0]']                \n",
      "                                )                                                                 \n",
      "                                                                                                  \n",
      " batch_normalization (BatchNorm  (None, 146, 146, 16  64         ['conv2d[0][0]']                 \n",
      " alization)                     )                                                                 \n",
      "                                                                                                  \n",
      " activation (Activation)        (None, 146, 146, 16  0           ['batch_normalization[0][0]']    \n",
      "                                )                                                                 \n",
      "                                                                                                  \n",
      " conv2d_1 (Conv2D)              (None, 144, 144, 32  4640        ['activation[0][0]']             \n",
      "                                )                                                                 \n",
      "                                                                                                  \n",
      " batch_normalization_1 (BatchNo  (None, 144, 144, 32  128        ['conv2d_1[0][0]']               \n",
      " rmalization)                   )                                                                 \n",
      "                                                                                                  \n",
      " activation_1 (Activation)      (None, 144, 144, 32  0           ['batch_normalization_1[0][0]']  \n",
      "                                )                                                                 \n",
      "                                                                                                  \n",
      " max_pooling2d (MaxPooling2D)   (None, 72, 72, 32)   0           ['activation_1[0][0]']           \n",
      "                                                                                                  \n",
      " conv2d_2 (Conv2D)              (None, 70, 70, 32)   9248        ['max_pooling2d[0][0]']          \n",
      "                                                                                                  \n",
      " batch_normalization_2 (BatchNo  (None, 70, 70, 32)  128         ['conv2d_2[0][0]']               \n",
      " rmalization)                                                                                     \n",
      "                                                                                                  \n",
      " activation_2 (Activation)      (None, 70, 70, 32)   0           ['batch_normalization_2[0][0]']  \n",
      "                                                                                                  \n",
      " max_pooling2d_1 (MaxPooling2D)  (None, 35, 35, 32)  0           ['activation_2[0][0]']           \n",
      "                                                                                                  \n",
      " conv2d_3 (Conv2D)              (None, 33, 33, 32)   9248        ['max_pooling2d_1[0][0]']        \n",
      "                                                                                                  \n",
      " batch_normalization_3 (BatchNo  (None, 33, 33, 32)  128         ['conv2d_3[0][0]']               \n",
      " rmalization)                                                                                     \n",
      "                                                                                                  \n",
      " activation_3 (Activation)      (None, 33, 33, 32)   0           ['batch_normalization_3[0][0]']  \n",
      "                                                                                                  \n",
      " max_pooling2d_2 (MaxPooling2D)  (None, 16, 16, 32)  0           ['activation_3[0][0]']           \n",
      "                                                                                                  \n",
      " conv2d_5 (Conv2D)              (None, 16, 16, 64)   18496       ['max_pooling2d_2[0][0]']        \n",
      "                                                                                                  \n",
      " batch_normalization_4 (BatchNo  (None, 16, 16, 64)  256         ['conv2d_5[0][0]']               \n",
      " rmalization)                                                                                     \n",
      "                                                                                                  \n",
      " activation_4 (Activation)      (None, 16, 16, 64)   0           ['batch_normalization_4[0][0]']  \n",
      "                                                                                                  \n",
      " conv2d_4 (Conv2D)              (None, 16, 16, 64)   2112        ['max_pooling2d_2[0][0]']        \n",
      "                                                                                                  \n",
      " add (Add)                      (None, 16, 16, 64)   0           ['activation_4[0][0]',           \n",
      "                                                                  'conv2d_4[0][0]']               \n",
      "                                                                                                  \n",
      " conv2d_7 (Conv2D)              (None, 16, 16, 64)   36928       ['add[0][0]']                    \n",
      "                                                                                                  \n",
      " batch_normalization_5 (BatchNo  (None, 16, 16, 64)  256         ['conv2d_7[0][0]']               \n",
      " rmalization)                                                                                     \n",
      "                                                                                                  \n",
      " activation_5 (Activation)      (None, 16, 16, 64)   0           ['batch_normalization_5[0][0]']  \n",
      "                                                                                                  \n",
      " conv2d_6 (Conv2D)              (None, 16, 16, 64)   4160        ['add[0][0]']                    \n",
      "                                                                                                  \n",
      " add_1 (Add)                    (None, 16, 16, 64)   0           ['activation_5[0][0]',           \n",
      "                                                                  'conv2d_6[0][0]']               \n",
      "                                                                                                  \n",
      " conv2d_8 (Conv2D)              (None, 14, 14, 128)  73856       ['add_1[0][0]']                  \n",
      "                                                                                                  \n",
      " batch_normalization_6 (BatchNo  (None, 14, 14, 128)  512        ['conv2d_8[0][0]']               \n",
      " rmalization)                                                                                     \n",
      "                                                                                                  \n",
      " activation_6 (Activation)      (None, 14, 14, 128)  0           ['batch_normalization_6[0][0]']  \n",
      "                                                                                                  \n",
      " flatten (Flatten)              (None, 25088)        0           ['activation_6[0][0]']           \n",
      "                                                                                                  \n",
      " dense (Dense)                  (None, 256)          6422784     ['flatten[0][0]']                \n",
      "                                                                                                  \n",
      " dense_1 (Dense)                (None, 32)           8224        ['dense[0][0]']                  \n",
      "                                                                                                  \n",
      " dense_2 (Dense)                (None, 3)            99          ['dense_1[0][0]']                \n",
      "                                                                                                  \n",
      "==================================================================================================\n",
      "Total params: 6,591,683\n",
      "Trainable params: 6,590,947\n",
      "Non-trainable params: 736\n",
      "__________________________________________________________________________________________________\n"
     ]
    }
   ],
   "source": [
    "model.summary()"
   ]
  },
  {
   "cell_type": "code",
   "execution_count": 21,
   "metadata": {
    "colab": {
     "base_uri": "https://localhost:8080/"
    },
    "id": "zkS2sQLNl2Dc",
    "outputId": "bfab1d4a-62b0-41d6-9031-4af2dfe0fc02"
   },
   "outputs": [
    {
     "name": "stdout",
     "output_type": "stream",
     "text": [
      "Epoch 1/300\n",
      "117/117 - 59s - loss: 1.2363 - auc: 0.5060 - val_loss: 1.1002 - val_auc: 0.5053 - 59s/epoch - 505ms/step\n",
      "Epoch 2/300\n",
      "117/117 - 43s - loss: 1.1266 - auc: 0.5119 - val_loss: 1.1093 - val_auc: 0.5089 - 43s/epoch - 368ms/step\n",
      "Epoch 3/300\n",
      "117/117 - 44s - loss: 1.1170 - auc: 0.5151 - val_loss: 1.1060 - val_auc: 0.5241 - 44s/epoch - 378ms/step\n",
      "Epoch 4/300\n",
      "117/117 - 45s - loss: 1.0993 - auc: 0.5308 - val_loss: 1.1210 - val_auc: 0.5481 - 45s/epoch - 387ms/step\n",
      "Epoch 5/300\n",
      "117/117 - 46s - loss: 1.0875 - auc: 0.5638 - val_loss: 1.1213 - val_auc: 0.5937 - 46s/epoch - 394ms/step\n",
      "Epoch 6/300\n",
      "117/117 - 46s - loss: 1.0089 - auc: 0.6624 - val_loss: 1.2156 - val_auc: 0.6763 - 46s/epoch - 393ms/step\n",
      "Epoch 7/300\n",
      "117/117 - 46s - loss: 0.9350 - auc: 0.7174 - val_loss: 1.8872 - val_auc: 0.6412 - 46s/epoch - 394ms/step\n",
      "Epoch 8/300\n",
      "117/117 - 46s - loss: 0.8656 - auc: 0.7626 - val_loss: 1.3205 - val_auc: 0.6882 - 46s/epoch - 394ms/step\n",
      "Epoch 9/300\n",
      "117/117 - 46s - loss: 0.8328 - auc: 0.7816 - val_loss: 0.9967 - val_auc: 0.7877 - 46s/epoch - 395ms/step\n",
      "Epoch 10/300\n",
      "117/117 - 46s - loss: 0.7539 - auc: 0.8253 - val_loss: 0.9649 - val_auc: 0.8191 - 46s/epoch - 394ms/step\n",
      "Epoch 11/300\n",
      "117/117 - 46s - loss: 0.6958 - auc: 0.8536 - val_loss: 0.8015 - val_auc: 0.8498 - 46s/epoch - 395ms/step\n",
      "Epoch 12/300\n",
      "117/117 - 46s - loss: 0.6581 - auc: 0.8714 - val_loss: 0.6993 - val_auc: 0.8801 - 46s/epoch - 394ms/step\n",
      "Epoch 13/300\n",
      "117/117 - 46s - loss: 0.5861 - auc: 0.8982 - val_loss: 0.7540 - val_auc: 0.8951 - 46s/epoch - 395ms/step\n",
      "Epoch 14/300\n",
      "117/117 - 46s - loss: 0.5248 - auc: 0.9187 - val_loss: 0.5577 - val_auc: 0.9219 - 46s/epoch - 395ms/step\n",
      "Epoch 15/300\n",
      "117/117 - 46s - loss: 0.4932 - auc: 0.9282 - val_loss: 0.6919 - val_auc: 0.9186 - 46s/epoch - 394ms/step\n",
      "Epoch 16/300\n",
      "117/117 - 46s - loss: 0.4619 - auc: 0.9372 - val_loss: 0.5128 - val_auc: 0.9362 - 46s/epoch - 397ms/step\n",
      "Epoch 17/300\n",
      "117/117 - 46s - loss: 0.4427 - auc: 0.9421 - val_loss: 0.4300 - val_auc: 0.9498 - 46s/epoch - 395ms/step\n",
      "Epoch 18/300\n",
      "117/117 - 46s - loss: 0.4135 - auc: 0.9496 - val_loss: 0.4344 - val_auc: 0.9506 - 46s/epoch - 395ms/step\n",
      "Epoch 19/300\n",
      "117/117 - 46s - loss: 0.3963 - auc: 0.9533 - val_loss: 0.5193 - val_auc: 0.9382 - 46s/epoch - 395ms/step\n",
      "Epoch 20/300\n",
      "117/117 - 46s - loss: 0.4075 - auc: 0.9506 - val_loss: 0.6945 - val_auc: 0.9391 - 46s/epoch - 394ms/step\n",
      "Epoch 21/300\n",
      "117/117 - 46s - loss: 0.3881 - auc: 0.9551 - val_loss: 2.0748 - val_auc: 0.8030 - 46s/epoch - 395ms/step\n",
      "Epoch 22/300\n",
      "117/117 - 46s - loss: 0.3734 - auc: 0.9583 - val_loss: 0.4489 - val_auc: 0.9585 - 46s/epoch - 395ms/step\n",
      "Epoch 23/300\n",
      "117/117 - 46s - loss: 0.3500 - auc: 0.9627 - val_loss: 0.3660 - val_auc: 0.9638 - 46s/epoch - 394ms/step\n",
      "Epoch 24/300\n",
      "117/117 - 46s - loss: 0.3528 - auc: 0.9625 - val_loss: 0.3421 - val_auc: 0.9670 - 46s/epoch - 395ms/step\n",
      "Epoch 25/300\n",
      "117/117 - 46s - loss: 0.3463 - auc: 0.9640 - val_loss: 0.3476 - val_auc: 0.9649 - 46s/epoch - 395ms/step\n",
      "Epoch 26/300\n",
      "117/117 - 46s - loss: 0.3244 - auc: 0.9683 - val_loss: 0.3264 - val_auc: 0.9672 - 46s/epoch - 394ms/step\n",
      "Epoch 27/300\n",
      "117/117 - 46s - loss: 0.3359 - auc: 0.9659 - val_loss: 0.3169 - val_auc: 0.9696 - 46s/epoch - 395ms/step\n",
      "Epoch 28/300\n",
      "117/117 - 46s - loss: 0.3277 - auc: 0.9675 - val_loss: 0.4707 - val_auc: 0.9639 - 46s/epoch - 395ms/step\n",
      "Epoch 29/300\n",
      "117/117 - 46s - loss: 0.3114 - auc: 0.9707 - val_loss: 0.4269 - val_auc: 0.9663 - 46s/epoch - 394ms/step\n",
      "Epoch 30/300\n",
      "117/117 - 46s - loss: 0.3113 - auc: 0.9703 - val_loss: 0.5122 - val_auc: 0.9615 - 46s/epoch - 395ms/step\n",
      "Epoch 31/300\n",
      "117/117 - 46s - loss: 0.3119 - auc: 0.9704 - val_loss: 0.3180 - val_auc: 0.9697 - 46s/epoch - 397ms/step\n",
      "Epoch 32/300\n",
      "117/117 - 46s - loss: 0.3047 - auc: 0.9716 - val_loss: 0.3218 - val_auc: 0.9698 - 46s/epoch - 395ms/step\n",
      "Epoch 33/300\n",
      "117/117 - 46s - loss: 0.3000 - auc: 0.9725 - val_loss: 0.3666 - val_auc: 0.9664 - 46s/epoch - 395ms/step\n",
      "Epoch 34/300\n",
      "117/117 - 46s - loss: 0.2975 - auc: 0.9729 - val_loss: 0.3128 - val_auc: 0.9710 - 46s/epoch - 395ms/step\n",
      "Epoch 35/300\n",
      "117/117 - 46s - loss: 0.2946 - auc: 0.9733 - val_loss: 0.3865 - val_auc: 0.9627 - 46s/epoch - 394ms/step\n",
      "Epoch 36/300\n",
      "117/117 - 46s - loss: 0.2885 - auc: 0.9742 - val_loss: 0.4615 - val_auc: 0.9671 - 46s/epoch - 395ms/step\n",
      "Epoch 37/300\n",
      "117/117 - 46s - loss: 0.2851 - auc: 0.9747 - val_loss: 0.2740 - val_auc: 0.9768 - 46s/epoch - 395ms/step\n",
      "Epoch 38/300\n",
      "117/117 - 46s - loss: 0.2874 - auc: 0.9742 - val_loss: 0.3377 - val_auc: 0.9740 - 46s/epoch - 395ms/step\n",
      "Epoch 39/300\n",
      "117/117 - 46s - loss: 0.2801 - auc: 0.9758 - val_loss: 0.3163 - val_auc: 0.9733 - 46s/epoch - 395ms/step\n",
      "Epoch 40/300\n",
      "117/117 - 46s - loss: 0.2751 - auc: 0.9762 - val_loss: 0.2775 - val_auc: 0.9776 - 46s/epoch - 396ms/step\n",
      "Epoch 41/300\n",
      "117/117 - 46s - loss: 0.2734 - auc: 0.9766 - val_loss: 0.3278 - val_auc: 0.9764 - 46s/epoch - 395ms/step\n",
      "Epoch 42/300\n",
      "117/117 - 46s - loss: 0.2659 - auc: 0.9781 - val_loss: 0.3178 - val_auc: 0.9721 - 46s/epoch - 395ms/step\n",
      "Epoch 43/300\n",
      "117/117 - 46s - loss: 0.2648 - auc: 0.9780 - val_loss: 0.2575 - val_auc: 0.9786 - 46s/epoch - 394ms/step\n",
      "Epoch 44/300\n",
      "117/117 - 46s - loss: 0.2622 - auc: 0.9786 - val_loss: 0.4255 - val_auc: 0.9628 - 46s/epoch - 395ms/step\n",
      "Epoch 45/300\n",
      "117/117 - 46s - loss: 0.2622 - auc: 0.9785 - val_loss: 0.2649 - val_auc: 0.9783 - 46s/epoch - 395ms/step\n",
      "Epoch 46/300\n",
      "117/117 - 46s - loss: 0.2632 - auc: 0.9782 - val_loss: 0.2578 - val_auc: 0.9795 - 46s/epoch - 396ms/step\n",
      "Epoch 47/300\n",
      "117/117 - 46s - loss: 0.2557 - auc: 0.9795 - val_loss: 0.4491 - val_auc: 0.9714 - 46s/epoch - 395ms/step\n",
      "Epoch 48/300\n",
      "117/117 - 46s - loss: 0.2641 - auc: 0.9779 - val_loss: 0.2628 - val_auc: 0.9795 - 46s/epoch - 395ms/step\n",
      "Epoch 49/300\n",
      "117/117 - 46s - loss: 0.2570 - auc: 0.9793 - val_loss: 0.2912 - val_auc: 0.9758 - 46s/epoch - 395ms/step\n",
      "Epoch 50/300\n",
      "117/117 - 46s - loss: 0.2489 - auc: 0.9804 - val_loss: 0.3699 - val_auc: 0.9741 - 46s/epoch - 395ms/step\n",
      "Epoch 51/300\n",
      "117/117 - 46s - loss: 0.2524 - auc: 0.9797 - val_loss: 0.5354 - val_auc: 0.9680 - 46s/epoch - 395ms/step\n",
      "Epoch 52/300\n",
      "117/117 - 46s - loss: 0.2490 - auc: 0.9803 - val_loss: 0.3284 - val_auc: 0.9769 - 46s/epoch - 395ms/step\n",
      "Epoch 53/300\n",
      "117/117 - 46s - loss: 0.2374 - auc: 0.9817 - val_loss: 0.2633 - val_auc: 0.9801 - 46s/epoch - 395ms/step\n",
      "Epoch 54/300\n",
      "117/117 - 46s - loss: 0.2452 - auc: 0.9810 - val_loss: 0.2451 - val_auc: 0.9820 - 46s/epoch - 395ms/step\n",
      "Epoch 55/300\n",
      "117/117 - 46s - loss: 0.2432 - auc: 0.9809 - val_loss: 0.2525 - val_auc: 0.9807 - 46s/epoch - 395ms/step\n",
      "Epoch 56/300\n",
      "117/117 - 46s - loss: 0.2379 - auc: 0.9816 - val_loss: 0.2677 - val_auc: 0.9786 - 46s/epoch - 395ms/step\n",
      "Epoch 57/300\n",
      "117/117 - 46s - loss: 0.2415 - auc: 0.9816 - val_loss: 0.6143 - val_auc: 0.9573 - 46s/epoch - 394ms/step\n",
      "Epoch 58/300\n",
      "117/117 - 46s - loss: 0.2381 - auc: 0.9821 - val_loss: 0.2451 - val_auc: 0.9820 - 46s/epoch - 395ms/step\n",
      "Epoch 59/300\n",
      "117/117 - 46s - loss: 0.2357 - auc: 0.9823 - val_loss: 0.2737 - val_auc: 0.9787 - 46s/epoch - 395ms/step\n",
      "Epoch 60/300\n",
      "117/117 - 46s - loss: 0.2323 - auc: 0.9828 - val_loss: 0.2854 - val_auc: 0.9784 - 46s/epoch - 395ms/step\n",
      "Epoch 61/300\n",
      "117/117 - 46s - loss: 0.2347 - auc: 0.9825 - val_loss: 0.2411 - val_auc: 0.9820 - 46s/epoch - 397ms/step\n",
      "Epoch 62/300\n",
      "117/117 - 46s - loss: 0.2324 - auc: 0.9827 - val_loss: 0.2579 - val_auc: 0.9805 - 46s/epoch - 395ms/step\n",
      "Epoch 63/300\n",
      "117/117 - 46s - loss: 0.2217 - auc: 0.9841 - val_loss: 0.2850 - val_auc: 0.9789 - 46s/epoch - 394ms/step\n",
      "Epoch 64/300\n",
      "117/117 - 46s - loss: 0.2253 - auc: 0.9837 - val_loss: 0.4213 - val_auc: 0.9684 - 46s/epoch - 395ms/step\n",
      "Epoch 65/300\n",
      "117/117 - 46s - loss: 0.2268 - auc: 0.9834 - val_loss: 0.2501 - val_auc: 0.9832 - 46s/epoch - 394ms/step\n",
      "Epoch 66/300\n",
      "117/117 - 46s - loss: 0.2237 - auc: 0.9836 - val_loss: 0.2222 - val_auc: 0.9837 - 46s/epoch - 395ms/step\n",
      "Epoch 67/300\n",
      "117/117 - 46s - loss: 0.2321 - auc: 0.9825 - val_loss: 0.2664 - val_auc: 0.9785 - 46s/epoch - 395ms/step\n",
      "Epoch 68/300\n",
      "117/117 - 46s - loss: 0.2196 - auc: 0.9845 - val_loss: 0.2640 - val_auc: 0.9818 - 46s/epoch - 395ms/step\n",
      "Epoch 69/300\n",
      "117/117 - 46s - loss: 0.2201 - auc: 0.9844 - val_loss: 0.2734 - val_auc: 0.9815 - 46s/epoch - 394ms/step\n",
      "Epoch 70/300\n",
      "117/117 - 46s - loss: 0.2140 - auc: 0.9851 - val_loss: 0.3580 - val_auc: 0.9722 - 46s/epoch - 395ms/step\n",
      "Epoch 71/300\n",
      "117/117 - 46s - loss: 0.2121 - auc: 0.9853 - val_loss: 0.3072 - val_auc: 0.9785 - 46s/epoch - 395ms/step\n",
      "Epoch 72/300\n",
      "117/117 - 46s - loss: 0.2155 - auc: 0.9847 - val_loss: 0.3973 - val_auc: 0.9770 - 46s/epoch - 395ms/step\n",
      "Epoch 73/300\n",
      "117/117 - 46s - loss: 0.2162 - auc: 0.9849 - val_loss: 0.2439 - val_auc: 0.9832 - 46s/epoch - 394ms/step\n",
      "Epoch 74/300\n",
      "117/117 - 46s - loss: 0.2119 - auc: 0.9853 - val_loss: 0.2024 - val_auc: 0.9864 - 46s/epoch - 395ms/step\n",
      "Epoch 75/300\n",
      "117/117 - 46s - loss: 0.2120 - auc: 0.9852 - val_loss: 0.2252 - val_auc: 0.9834 - 46s/epoch - 395ms/step\n",
      "Epoch 76/300\n",
      "117/117 - 46s - loss: 0.2135 - auc: 0.9852 - val_loss: 0.6672 - val_auc: 0.9517 - 46s/epoch - 397ms/step\n",
      "Epoch 77/300\n",
      "117/117 - 46s - loss: 0.2155 - auc: 0.9849 - val_loss: 0.2207 - val_auc: 0.9845 - 46s/epoch - 395ms/step\n",
      "Epoch 78/300\n",
      "117/117 - 46s - loss: 0.2111 - auc: 0.9853 - val_loss: 0.2210 - val_auc: 0.9850 - 46s/epoch - 395ms/step\n",
      "Epoch 79/300\n",
      "117/117 - 46s - loss: 0.2041 - auc: 0.9863 - val_loss: 0.3357 - val_auc: 0.9779 - 46s/epoch - 395ms/step\n",
      "Epoch 80/300\n",
      "117/117 - 46s - loss: 0.2104 - auc: 0.9855 - val_loss: 0.2027 - val_auc: 0.9859 - 46s/epoch - 395ms/step\n",
      "Epoch 81/300\n",
      "117/117 - 46s - loss: 0.2070 - auc: 0.9859 - val_loss: 0.2427 - val_auc: 0.9817 - 46s/epoch - 395ms/step\n",
      "Epoch 82/300\n",
      "117/117 - 46s - loss: 0.2055 - auc: 0.9859 - val_loss: 0.2266 - val_auc: 0.9831 - 46s/epoch - 395ms/step\n",
      "Epoch 83/300\n",
      "117/117 - 46s - loss: 0.2082 - auc: 0.9858 - val_loss: 0.2634 - val_auc: 0.9816 - 46s/epoch - 395ms/step\n",
      "Epoch 84/300\n",
      "117/117 - 46s - loss: 0.2023 - auc: 0.9866 - val_loss: 0.2795 - val_auc: 0.9831 - 46s/epoch - 395ms/step\n",
      "Epoch 85/300\n",
      "117/117 - 46s - loss: 0.2095 - auc: 0.9855 - val_loss: 0.2044 - val_auc: 0.9868 - 46s/epoch - 395ms/step\n",
      "Epoch 86/300\n",
      "117/117 - 46s - loss: 0.2067 - auc: 0.9857 - val_loss: 0.3979 - val_auc: 0.9744 - 46s/epoch - 394ms/step\n",
      "Epoch 87/300\n",
      "117/117 - 46s - loss: 0.1960 - auc: 0.9873 - val_loss: 0.2109 - val_auc: 0.9846 - 46s/epoch - 395ms/step\n",
      "Epoch 88/300\n",
      "117/117 - 46s - loss: 0.2000 - auc: 0.9870 - val_loss: 0.3504 - val_auc: 0.9795 - 46s/epoch - 394ms/step\n",
      "Epoch 89/300\n",
      "117/117 - 46s - loss: 0.2020 - auc: 0.9864 - val_loss: 0.2214 - val_auc: 0.9846 - 46s/epoch - 395ms/step\n",
      "Epoch 90/300\n",
      "117/117 - 46s - loss: 0.1978 - auc: 0.9870 - val_loss: 0.2448 - val_auc: 0.9843 - 46s/epoch - 394ms/step\n",
      "Epoch 91/300\n",
      "117/117 - 46s - loss: 0.1989 - auc: 0.9869 - val_loss: 0.2820 - val_auc: 0.9837 - 46s/epoch - 397ms/step\n",
      "Epoch 92/300\n",
      "117/117 - 46s - loss: 0.1902 - auc: 0.9881 - val_loss: 0.3488 - val_auc: 0.9778 - 46s/epoch - 395ms/step\n",
      "Epoch 93/300\n",
      "117/117 - 46s - loss: 0.1946 - auc: 0.9876 - val_loss: 0.2028 - val_auc: 0.9854 - 46s/epoch - 395ms/step\n",
      "Epoch 94/300\n",
      "117/117 - 46s - loss: 0.1961 - auc: 0.9872 - val_loss: 0.1960 - val_auc: 0.9867 - 46s/epoch - 395ms/step\n",
      "Epoch 95/300\n",
      "117/117 - 46s - loss: 0.1911 - auc: 0.9878 - val_loss: 0.2067 - val_auc: 0.9874 - 46s/epoch - 395ms/step\n",
      "Epoch 96/300\n",
      "117/117 - 46s - loss: 0.1982 - auc: 0.9871 - val_loss: 0.2377 - val_auc: 0.9835 - 46s/epoch - 395ms/step\n",
      "Epoch 97/300\n",
      "117/117 - 46s - loss: 0.1914 - auc: 0.9878 - val_loss: 0.6397 - val_auc: 0.9605 - 46s/epoch - 395ms/step\n",
      "Epoch 98/300\n",
      "117/117 - 46s - loss: 0.1906 - auc: 0.9879 - val_loss: 0.3628 - val_auc: 0.9724 - 46s/epoch - 395ms/step\n",
      "Epoch 99/300\n",
      "117/117 - 46s - loss: 0.1922 - auc: 0.9873 - val_loss: 0.2868 - val_auc: 0.9804 - 46s/epoch - 395ms/step\n",
      "Epoch 100/300\n",
      "117/117 - 46s - loss: 0.1888 - auc: 0.9881 - val_loss: 0.4199 - val_auc: 0.9758 - 46s/epoch - 395ms/step\n",
      "Epoch 101/300\n",
      "117/117 - 46s - loss: 0.1909 - auc: 0.9876 - val_loss: 0.8161 - val_auc: 0.9648 - 46s/epoch - 395ms/step\n",
      "Epoch 102/300\n",
      "117/117 - 46s - loss: 0.1979 - auc: 0.9870 - val_loss: 0.2125 - val_auc: 0.9862 - 46s/epoch - 395ms/step\n",
      "Epoch 103/300\n",
      "117/117 - 46s - loss: 0.1971 - auc: 0.9871 - val_loss: 0.2732 - val_auc: 0.9834 - 46s/epoch - 395ms/step\n",
      "Epoch 104/300\n",
      "117/117 - 46s - loss: 0.1890 - auc: 0.9880 - val_loss: 0.3995 - val_auc: 0.9785 - 46s/epoch - 395ms/step\n",
      "Epoch 105/300\n",
      "117/117 - 46s - loss: 0.1865 - auc: 0.9883 - val_loss: 0.2269 - val_auc: 0.9854 - 46s/epoch - 395ms/step\n",
      "Epoch 106/300\n",
      "117/117 - 46s - loss: 0.1909 - auc: 0.9879 - val_loss: 0.2277 - val_auc: 0.9872 - 46s/epoch - 397ms/step\n",
      "Epoch 107/300\n",
      "117/117 - 46s - loss: 0.1846 - auc: 0.9884 - val_loss: 0.2216 - val_auc: 0.9856 - 46s/epoch - 395ms/step\n",
      "Epoch 108/300\n",
      "117/117 - 46s - loss: 0.1764 - auc: 0.9893 - val_loss: 0.1937 - val_auc: 0.9870 - 46s/epoch - 395ms/step\n",
      "Epoch 109/300\n",
      "117/117 - 46s - loss: 0.1822 - auc: 0.9889 - val_loss: 0.2230 - val_auc: 0.9853 - 46s/epoch - 395ms/step\n",
      "Epoch 110/300\n",
      "117/117 - 46s - loss: 0.1800 - auc: 0.9890 - val_loss: 0.2515 - val_auc: 0.9838 - 46s/epoch - 395ms/step\n",
      "Epoch 111/300\n",
      "117/117 - 46s - loss: 0.1819 - auc: 0.9894 - val_loss: 0.2484 - val_auc: 0.9847 - 46s/epoch - 395ms/step\n",
      "Epoch 112/300\n",
      "117/117 - 46s - loss: 0.1821 - auc: 0.9887 - val_loss: 0.4761 - val_auc: 0.9714 - 46s/epoch - 395ms/step\n",
      "Epoch 113/300\n",
      "117/117 - 46s - loss: 0.1782 - auc: 0.9895 - val_loss: 0.5822 - val_auc: 0.9631 - 46s/epoch - 395ms/step\n",
      "Epoch 114/300\n",
      "117/117 - 46s - loss: 0.1764 - auc: 0.9894 - val_loss: 0.1939 - val_auc: 0.9873 - 46s/epoch - 395ms/step\n",
      "Epoch 115/300\n",
      "117/117 - 46s - loss: 0.1764 - auc: 0.9893 - val_loss: 0.2439 - val_auc: 0.9840 - 46s/epoch - 395ms/step\n",
      "Epoch 116/300\n",
      "117/117 - 46s - loss: 0.1845 - auc: 0.9883 - val_loss: 0.2710 - val_auc: 0.9856 - 46s/epoch - 396ms/step\n",
      "Epoch 117/300\n",
      "117/117 - 46s - loss: 0.1811 - auc: 0.9888 - val_loss: 0.2388 - val_auc: 0.9845 - 46s/epoch - 395ms/step\n",
      "Epoch 118/300\n",
      "117/117 - 46s - loss: 0.1811 - auc: 0.9890 - val_loss: 0.3466 - val_auc: 0.9825 - 46s/epoch - 396ms/step\n",
      "Epoch 119/300\n",
      "117/117 - 46s - loss: 0.1766 - auc: 0.9895 - val_loss: 0.5710 - val_auc: 0.9734 - 46s/epoch - 396ms/step\n",
      "Epoch 120/300\n",
      "117/117 - 46s - loss: 0.1724 - auc: 0.9897 - val_loss: 0.2139 - val_auc: 0.9853 - 46s/epoch - 395ms/step\n",
      "Epoch 121/300\n",
      "117/117 - 46s - loss: 0.1818 - auc: 0.9888 - val_loss: 0.1944 - val_auc: 0.9877 - 46s/epoch - 397ms/step\n",
      "Epoch 122/300\n",
      "117/117 - 46s - loss: 0.1749 - auc: 0.9896 - val_loss: 0.3966 - val_auc: 0.9813 - 46s/epoch - 395ms/step\n",
      "Epoch 123/300\n",
      "117/117 - 46s - loss: 0.1751 - auc: 0.9897 - val_loss: 0.1859 - val_auc: 0.9881 - 46s/epoch - 395ms/step\n",
      "Epoch 124/300\n",
      "117/117 - 46s - loss: 0.1757 - auc: 0.9896 - val_loss: 0.6530 - val_auc: 0.9597 - 46s/epoch - 395ms/step\n",
      "Epoch 125/300\n",
      "117/117 - 46s - loss: 0.1755 - auc: 0.9893 - val_loss: 0.3797 - val_auc: 0.9804 - 46s/epoch - 395ms/step\n",
      "Epoch 126/300\n",
      "117/117 - 46s - loss: 0.1735 - auc: 0.9899 - val_loss: 0.1779 - val_auc: 0.9884 - 46s/epoch - 395ms/step\n",
      "Epoch 127/300\n",
      "117/117 - 46s - loss: 0.1805 - auc: 0.9889 - val_loss: 0.5816 - val_auc: 0.9709 - 46s/epoch - 395ms/step\n",
      "Epoch 128/300\n",
      "117/117 - 46s - loss: 0.1750 - auc: 0.9894 - val_loss: 0.2001 - val_auc: 0.9874 - 46s/epoch - 395ms/step\n",
      "Epoch 129/300\n",
      "117/117 - 46s - loss: 0.1717 - auc: 0.9899 - val_loss: 0.1944 - val_auc: 0.9879 - 46s/epoch - 395ms/step\n",
      "Epoch 130/300\n",
      "117/117 - 46s - loss: 0.1693 - auc: 0.9902 - val_loss: 0.2264 - val_auc: 0.9864 - 46s/epoch - 395ms/step\n",
      "Epoch 131/300\n",
      "117/117 - 46s - loss: 0.1691 - auc: 0.9900 - val_loss: 0.2599 - val_auc: 0.9874 - 46s/epoch - 395ms/step\n",
      "Epoch 132/300\n",
      "117/117 - 46s - loss: 0.1727 - auc: 0.9897 - val_loss: 0.2551 - val_auc: 0.9823 - 46s/epoch - 394ms/step\n",
      "Epoch 133/300\n",
      "117/117 - 46s - loss: 0.1725 - auc: 0.9898 - val_loss: 0.3383 - val_auc: 0.9778 - 46s/epoch - 396ms/step\n",
      "Epoch 134/300\n",
      "117/117 - 46s - loss: 0.1649 - auc: 0.9906 - val_loss: 0.2368 - val_auc: 0.9866 - 46s/epoch - 394ms/step\n",
      "Epoch 135/300\n",
      "117/117 - 46s - loss: 0.1664 - auc: 0.9906 - val_loss: 0.8243 - val_auc: 0.9458 - 46s/epoch - 394ms/step\n",
      "Epoch 136/300\n",
      "117/117 - 46s - loss: 0.1619 - auc: 0.9910 - val_loss: 0.9425 - val_auc: 0.9393 - 46s/epoch - 397ms/step\n",
      "Epoch 137/300\n",
      "117/117 - 46s - loss: 0.1737 - auc: 0.9897 - val_loss: 0.2068 - val_auc: 0.9863 - 46s/epoch - 395ms/step\n",
      "Epoch 138/300\n",
      "117/117 - 46s - loss: 0.1654 - auc: 0.9905 - val_loss: 0.1968 - val_auc: 0.9869 - 46s/epoch - 395ms/step\n",
      "Epoch 139/300\n",
      "117/117 - 46s - loss: 0.1669 - auc: 0.9903 - val_loss: 0.2931 - val_auc: 0.9850 - 46s/epoch - 395ms/step\n",
      "Epoch 140/300\n",
      "117/117 - 46s - loss: 0.1700 - auc: 0.9900 - val_loss: 0.1769 - val_auc: 0.9893 - 46s/epoch - 395ms/step\n",
      "Epoch 141/300\n",
      "117/117 - 46s - loss: 0.1683 - auc: 0.9902 - val_loss: 0.1892 - val_auc: 0.9884 - 46s/epoch - 394ms/step\n",
      "Epoch 142/300\n",
      "117/117 - 46s - loss: 0.1660 - auc: 0.9907 - val_loss: 0.1804 - val_auc: 0.9888 - 46s/epoch - 395ms/step\n",
      "Epoch 143/300\n",
      "117/117 - 46s - loss: 0.1671 - auc: 0.9902 - val_loss: 0.2354 - val_auc: 0.9856 - 46s/epoch - 395ms/step\n",
      "Epoch 144/300\n",
      "117/117 - 46s - loss: 0.1628 - auc: 0.9909 - val_loss: 0.1776 - val_auc: 0.9895 - 46s/epoch - 395ms/step\n",
      "Epoch 145/300\n",
      "117/117 - 46s - loss: 0.1687 - auc: 0.9900 - val_loss: 0.4686 - val_auc: 0.9779 - 46s/epoch - 395ms/step\n",
      "Epoch 146/300\n",
      "117/117 - 46s - loss: 0.1642 - auc: 0.9905 - val_loss: 0.1619 - val_auc: 0.9901 - 46s/epoch - 395ms/step\n",
      "Epoch 147/300\n",
      "117/117 - 46s - loss: 0.1568 - auc: 0.9913 - val_loss: 0.2331 - val_auc: 0.9858 - 46s/epoch - 395ms/step\n",
      "Epoch 148/300\n",
      "117/117 - 46s - loss: 0.1659 - auc: 0.9907 - val_loss: 0.2460 - val_auc: 0.9869 - 46s/epoch - 395ms/step\n",
      "Epoch 149/300\n",
      "117/117 - 46s - loss: 0.1574 - auc: 0.9913 - val_loss: 0.2266 - val_auc: 0.9864 - 46s/epoch - 395ms/step\n",
      "Epoch 150/300\n",
      "117/117 - 46s - loss: 0.1672 - auc: 0.9903 - val_loss: 0.2720 - val_auc: 0.9825 - 46s/epoch - 395ms/step\n",
      "Epoch 151/300\n",
      "117/117 - 46s - loss: 0.1576 - auc: 0.9913 - val_loss: 0.2127 - val_auc: 0.9858 - 46s/epoch - 397ms/step\n",
      "Epoch 152/300\n",
      "117/117 - 46s - loss: 0.1646 - auc: 0.9903 - val_loss: 0.2010 - val_auc: 0.9864 - 46s/epoch - 396ms/step\n",
      "Epoch 153/300\n",
      "117/117 - 46s - loss: 0.1606 - auc: 0.9910 - val_loss: 0.6124 - val_auc: 0.9642 - 46s/epoch - 395ms/step\n",
      "Epoch 154/300\n",
      "117/117 - 46s - loss: 0.1585 - auc: 0.9911 - val_loss: 0.2359 - val_auc: 0.9861 - 46s/epoch - 396ms/step\n",
      "Epoch 155/300\n",
      "117/117 - 46s - loss: 0.1611 - auc: 0.9909 - val_loss: 0.2055 - val_auc: 0.9872 - 46s/epoch - 395ms/step\n",
      "Epoch 156/300\n",
      "117/117 - 46s - loss: 0.1591 - auc: 0.9911 - val_loss: 0.1825 - val_auc: 0.9892 - 46s/epoch - 395ms/step\n",
      "Epoch 157/300\n",
      "117/117 - 46s - loss: 0.1631 - auc: 0.9905 - val_loss: 0.2295 - val_auc: 0.9878 - 46s/epoch - 395ms/step\n",
      "Epoch 158/300\n",
      "117/117 - 46s - loss: 0.1550 - auc: 0.9917 - val_loss: 0.4428 - val_auc: 0.9746 - 46s/epoch - 395ms/step\n",
      "Epoch 159/300\n",
      "117/117 - 46s - loss: 0.1609 - auc: 0.9911 - val_loss: 0.1672 - val_auc: 0.9905 - 46s/epoch - 396ms/step\n",
      "Epoch 160/300\n",
      "117/117 - 46s - loss: 0.1516 - auc: 0.9918 - val_loss: 0.2484 - val_auc: 0.9859 - 46s/epoch - 395ms/step\n",
      "Epoch 161/300\n",
      "117/117 - 46s - loss: 0.1623 - auc: 0.9908 - val_loss: 0.1916 - val_auc: 0.9884 - 46s/epoch - 395ms/step\n",
      "Epoch 162/300\n",
      "117/117 - 46s - loss: 0.1599 - auc: 0.9912 - val_loss: 0.2851 - val_auc: 0.9843 - 46s/epoch - 394ms/step\n",
      "Epoch 163/300\n",
      "117/117 - 46s - loss: 0.1597 - auc: 0.9911 - val_loss: 0.1629 - val_auc: 0.9900 - 46s/epoch - 395ms/step\n",
      "Epoch 164/300\n",
      "117/117 - 46s - loss: 0.1511 - auc: 0.9920 - val_loss: 0.2810 - val_auc: 0.9846 - 46s/epoch - 396ms/step\n",
      "Epoch 165/300\n",
      "117/117 - 46s - loss: 0.1567 - auc: 0.9912 - val_loss: 0.6195 - val_auc: 0.9694 - 46s/epoch - 396ms/step\n",
      "Epoch 166/300\n",
      "117/117 - 46s - loss: 0.1559 - auc: 0.9917 - val_loss: 0.1961 - val_auc: 0.9892 - 46s/epoch - 397ms/step\n",
      "Epoch 167/300\n",
      "117/117 - 46s - loss: 0.1552 - auc: 0.9916 - val_loss: 0.3143 - val_auc: 0.9827 - 46s/epoch - 395ms/step\n",
      "Epoch 168/300\n",
      "117/117 - 46s - loss: 0.1559 - auc: 0.9915 - val_loss: 0.1894 - val_auc: 0.9887 - 46s/epoch - 395ms/step\n",
      "Epoch 169/300\n",
      "117/117 - 46s - loss: 0.1493 - auc: 0.9922 - val_loss: 0.1933 - val_auc: 0.9888 - 46s/epoch - 395ms/step\n",
      "Epoch 170/300\n",
      "117/117 - 46s - loss: 0.1536 - auc: 0.9918 - val_loss: 0.1860 - val_auc: 0.9904 - 46s/epoch - 395ms/step\n",
      "Epoch 171/300\n",
      "117/117 - 46s - loss: 0.1566 - auc: 0.9914 - val_loss: 0.3378 - val_auc: 0.9819 - 46s/epoch - 395ms/step\n",
      "Epoch 172/300\n",
      "117/117 - 46s - loss: 0.1557 - auc: 0.9913 - val_loss: 0.2893 - val_auc: 0.9834 - 46s/epoch - 395ms/step\n",
      "Epoch 173/300\n",
      "117/117 - 46s - loss: 0.1550 - auc: 0.9915 - val_loss: 0.2516 - val_auc: 0.9865 - 46s/epoch - 395ms/step\n",
      "Epoch 174/300\n",
      "117/117 - 46s - loss: 0.1500 - auc: 0.9920 - val_loss: 0.4776 - val_auc: 0.9747 - 46s/epoch - 395ms/step\n",
      "Epoch 175/300\n",
      "117/117 - 46s - loss: 0.1524 - auc: 0.9918 - val_loss: 0.5865 - val_auc: 0.9664 - 46s/epoch - 395ms/step\n",
      "Epoch 176/300\n",
      "117/117 - 46s - loss: 0.1515 - auc: 0.9917 - val_loss: 0.2710 - val_auc: 0.9852 - 46s/epoch - 395ms/step\n",
      "Epoch 177/300\n",
      "117/117 - 46s - loss: 0.1515 - auc: 0.9918 - val_loss: 0.1772 - val_auc: 0.9886 - 46s/epoch - 395ms/step\n",
      "Epoch 178/300\n",
      "117/117 - 46s - loss: 0.1447 - auc: 0.9925 - val_loss: 0.3084 - val_auc: 0.9828 - 46s/epoch - 395ms/step\n",
      "Epoch 179/300\n",
      "117/117 - 46s - loss: 0.1526 - auc: 0.9919 - val_loss: 0.2244 - val_auc: 0.9879 - 46s/epoch - 395ms/step\n",
      "Epoch 180/300\n",
      "117/117 - 46s - loss: 0.1500 - auc: 0.9920 - val_loss: 0.2954 - val_auc: 0.9810 - 46s/epoch - 395ms/step\n",
      "Epoch 181/300\n",
      "117/117 - 46s - loss: 0.1459 - auc: 0.9925 - val_loss: 0.1946 - val_auc: 0.9903 - 46s/epoch - 397ms/step\n",
      "Epoch 182/300\n",
      "117/117 - 46s - loss: 0.1471 - auc: 0.9921 - val_loss: 0.3685 - val_auc: 0.9793 - 46s/epoch - 395ms/step\n",
      "Epoch 183/300\n",
      "117/117 - 46s - loss: 0.1507 - auc: 0.9921 - val_loss: 0.3495 - val_auc: 0.9787 - 46s/epoch - 395ms/step\n",
      "Epoch 184/300\n",
      "117/117 - 46s - loss: 0.1487 - auc: 0.9922 - val_loss: 0.1691 - val_auc: 0.9903 - 46s/epoch - 395ms/step\n",
      "Epoch 185/300\n",
      "117/117 - 46s - loss: 0.1507 - auc: 0.9919 - val_loss: 0.2318 - val_auc: 0.9866 - 46s/epoch - 395ms/step\n",
      "Epoch 186/300\n",
      "117/117 - 46s - loss: 0.1460 - auc: 0.9925 - val_loss: 0.3813 - val_auc: 0.9825 - 46s/epoch - 395ms/step\n",
      "Epoch 187/300\n",
      "117/117 - 46s - loss: 0.1523 - auc: 0.9916 - val_loss: 0.3597 - val_auc: 0.9776 - 46s/epoch - 395ms/step\n",
      "Epoch 188/300\n",
      "117/117 - 46s - loss: 0.1445 - auc: 0.9924 - val_loss: 0.3471 - val_auc: 0.9837 - 46s/epoch - 395ms/step\n",
      "Epoch 189/300\n",
      "117/117 - 46s - loss: 0.1447 - auc: 0.9926 - val_loss: 0.2747 - val_auc: 0.9835 - 46s/epoch - 395ms/step\n",
      "Epoch 190/300\n",
      "117/117 - 46s - loss: 0.1539 - auc: 0.9917 - val_loss: 0.1680 - val_auc: 0.9904 - 46s/epoch - 395ms/step\n",
      "Epoch 191/300\n",
      "117/117 - 46s - loss: 0.1485 - auc: 0.9921 - val_loss: 0.2821 - val_auc: 0.9849 - 46s/epoch - 395ms/step\n",
      "Epoch 192/300\n",
      "117/117 - 46s - loss: 0.1436 - auc: 0.9927 - val_loss: 0.4661 - val_auc: 0.9779 - 46s/epoch - 395ms/step\n",
      "Epoch 193/300\n",
      "117/117 - 46s - loss: 0.1477 - auc: 0.9923 - val_loss: 0.3674 - val_auc: 0.9810 - 46s/epoch - 395ms/step\n",
      "Epoch 194/300\n",
      "117/117 - 46s - loss: 0.1508 - auc: 0.9919 - val_loss: 0.1663 - val_auc: 0.9904 - 46s/epoch - 394ms/step\n",
      "Epoch 195/300\n",
      "117/117 - 46s - loss: 0.1518 - auc: 0.9919 - val_loss: 0.2843 - val_auc: 0.9867 - 46s/epoch - 395ms/step\n",
      "Epoch 196/300\n",
      "117/117 - 46s - loss: 0.1443 - auc: 0.9925 - val_loss: 0.2097 - val_auc: 0.9885 - 46s/epoch - 397ms/step\n",
      "Epoch 197/300\n",
      "117/117 - 46s - loss: 0.1484 - auc: 0.9921 - val_loss: 0.1925 - val_auc: 0.9904 - 46s/epoch - 394ms/step\n",
      "Epoch 198/300\n",
      "117/117 - 46s - loss: 0.1399 - auc: 0.9929 - val_loss: 0.1962 - val_auc: 0.9881 - 46s/epoch - 395ms/step\n",
      "Epoch 199/300\n",
      "117/117 - 46s - loss: 0.1428 - auc: 0.9929 - val_loss: 0.5880 - val_auc: 0.9689 - 46s/epoch - 395ms/step\n",
      "Epoch 200/300\n",
      "117/117 - 46s - loss: 0.1423 - auc: 0.9930 - val_loss: 0.2182 - val_auc: 0.9871 - 46s/epoch - 395ms/step\n",
      "Epoch 201/300\n",
      "117/117 - 46s - loss: 0.1468 - auc: 0.9923 - val_loss: 0.4237 - val_auc: 0.9799 - 46s/epoch - 395ms/step\n",
      "Epoch 202/300\n",
      "117/117 - 46s - loss: 0.1455 - auc: 0.9924 - val_loss: 0.1847 - val_auc: 0.9889 - 46s/epoch - 395ms/step\n",
      "Epoch 203/300\n",
      "117/117 - 46s - loss: 0.1398 - auc: 0.9930 - val_loss: 0.2706 - val_auc: 0.9868 - 46s/epoch - 395ms/step\n",
      "Epoch 204/300\n",
      "117/117 - 46s - loss: 0.1438 - auc: 0.9927 - val_loss: 0.3133 - val_auc: 0.9835 - 46s/epoch - 395ms/step\n",
      "Epoch 205/300\n",
      "117/117 - 46s - loss: 0.1366 - auc: 0.9931 - val_loss: 0.2497 - val_auc: 0.9888 - 46s/epoch - 395ms/step\n",
      "Epoch 206/300\n",
      "117/117 - 46s - loss: 0.1414 - auc: 0.9929 - val_loss: 0.2888 - val_auc: 0.9868 - 46s/epoch - 395ms/step\n",
      "Epoch 207/300\n",
      "117/117 - 46s - loss: 0.1439 - auc: 0.9926 - val_loss: 0.1749 - val_auc: 0.9890 - 46s/epoch - 395ms/step\n",
      "Epoch 208/300\n",
      "117/117 - 46s - loss: 0.1495 - auc: 0.9921 - val_loss: 0.2281 - val_auc: 0.9872 - 46s/epoch - 395ms/step\n",
      "Epoch 209/300\n",
      "117/117 - 46s - loss: 0.1418 - auc: 0.9928 - val_loss: 0.1800 - val_auc: 0.9895 - 46s/epoch - 395ms/step\n",
      "Epoch 210/300\n",
      "117/117 - 46s - loss: 0.1440 - auc: 0.9923 - val_loss: 0.3718 - val_auc: 0.9822 - 46s/epoch - 395ms/step\n",
      "Epoch 211/300\n",
      "117/117 - 46s - loss: 0.1452 - auc: 0.9925 - val_loss: 0.2852 - val_auc: 0.9837 - 46s/epoch - 397ms/step\n",
      "Epoch 212/300\n",
      "117/117 - 46s - loss: 0.1426 - auc: 0.9926 - val_loss: 0.2466 - val_auc: 0.9862 - 46s/epoch - 395ms/step\n",
      "Epoch 213/300\n",
      "117/117 - 46s - loss: 0.1374 - auc: 0.9931 - val_loss: 0.1904 - val_auc: 0.9890 - 46s/epoch - 395ms/step\n",
      "Epoch 214/300\n",
      "117/117 - 46s - loss: 0.1391 - auc: 0.9930 - val_loss: 0.2179 - val_auc: 0.9889 - 46s/epoch - 395ms/step\n",
      "Epoch 215/300\n",
      "117/117 - 46s - loss: 0.1482 - auc: 0.9921 - val_loss: 0.2125 - val_auc: 0.9893 - 46s/epoch - 394ms/step\n",
      "Epoch 216/300\n",
      "117/117 - 46s - loss: 0.1396 - auc: 0.9929 - val_loss: 0.1942 - val_auc: 0.9898 - 46s/epoch - 395ms/step\n",
      "Epoch 217/300\n",
      "117/117 - 46s - loss: 0.1397 - auc: 0.9927 - val_loss: 0.1532 - val_auc: 0.9915 - 46s/epoch - 395ms/step\n",
      "Epoch 218/300\n",
      "117/117 - 46s - loss: 0.1403 - auc: 0.9932 - val_loss: 0.2103 - val_auc: 0.9875 - 46s/epoch - 395ms/step\n",
      "Epoch 219/300\n",
      "117/117 - 46s - loss: 0.1372 - auc: 0.9934 - val_loss: 0.3065 - val_auc: 0.9848 - 46s/epoch - 396ms/step\n",
      "Epoch 220/300\n",
      "117/117 - 46s - loss: 0.1358 - auc: 0.9932 - val_loss: 0.1683 - val_auc: 0.9907 - 46s/epoch - 395ms/step\n",
      "Epoch 221/300\n",
      "117/117 - 46s - loss: 0.1362 - auc: 0.9935 - val_loss: 0.4898 - val_auc: 0.9757 - 46s/epoch - 395ms/step\n",
      "Epoch 222/300\n",
      "117/117 - 46s - loss: 0.1331 - auc: 0.9934 - val_loss: 0.2679 - val_auc: 0.9819 - 46s/epoch - 395ms/step\n",
      "Epoch 223/300\n",
      "117/117 - 46s - loss: 0.1445 - auc: 0.9922 - val_loss: 0.3637 - val_auc: 0.9853 - 46s/epoch - 395ms/step\n",
      "Epoch 224/300\n",
      "117/117 - 46s - loss: 0.1423 - auc: 0.9928 - val_loss: 0.2278 - val_auc: 0.9876 - 46s/epoch - 395ms/step\n",
      "Epoch 225/300\n",
      "117/117 - 46s - loss: 0.1396 - auc: 0.9929 - val_loss: 0.2564 - val_auc: 0.9880 - 46s/epoch - 395ms/step\n",
      "Epoch 226/300\n",
      "117/117 - 46s - loss: 0.1362 - auc: 0.9930 - val_loss: 0.3951 - val_auc: 0.9828 - 46s/epoch - 397ms/step\n",
      "Epoch 227/300\n",
      "117/117 - 46s - loss: 0.1412 - auc: 0.9927 - val_loss: 0.1556 - val_auc: 0.9910 - 46s/epoch - 395ms/step\n",
      "Epoch 228/300\n",
      "117/117 - 46s - loss: 0.1372 - auc: 0.9932 - val_loss: 0.2174 - val_auc: 0.9876 - 46s/epoch - 395ms/step\n",
      "Epoch 229/300\n",
      "117/117 - 46s - loss: 0.1395 - auc: 0.9930 - val_loss: 0.1813 - val_auc: 0.9892 - 46s/epoch - 395ms/step\n",
      "Epoch 230/300\n",
      "117/117 - 46s - loss: 0.1354 - auc: 0.9934 - val_loss: 0.1563 - val_auc: 0.9906 - 46s/epoch - 395ms/step\n",
      "Epoch 231/300\n",
      "117/117 - 46s - loss: 0.1391 - auc: 0.9927 - val_loss: 0.3567 - val_auc: 0.9828 - 46s/epoch - 395ms/step\n",
      "Epoch 232/300\n",
      "117/117 - 46s - loss: 0.1403 - auc: 0.9929 - val_loss: 0.2127 - val_auc: 0.9864 - 46s/epoch - 395ms/step\n",
      "Epoch 233/300\n",
      "117/117 - 46s - loss: 0.1395 - auc: 0.9931 - val_loss: 0.5709 - val_auc: 0.9698 - 46s/epoch - 395ms/step\n",
      "Epoch 234/300\n",
      "117/117 - 46s - loss: 0.1311 - auc: 0.9937 - val_loss: 0.1597 - val_auc: 0.9906 - 46s/epoch - 395ms/step\n",
      "Epoch 235/300\n",
      "117/117 - 46s - loss: 0.1329 - auc: 0.9934 - val_loss: 0.1709 - val_auc: 0.9904 - 46s/epoch - 395ms/step\n",
      "Epoch 236/300\n",
      "117/117 - 46s - loss: 0.1304 - auc: 0.9938 - val_loss: 0.1577 - val_auc: 0.9910 - 46s/epoch - 395ms/step\n",
      "Epoch 237/300\n",
      "117/117 - 46s - loss: 0.1269 - auc: 0.9939 - val_loss: 0.1769 - val_auc: 0.9907 - 46s/epoch - 395ms/step\n",
      "Epoch 238/300\n",
      "117/117 - 46s - loss: 0.1349 - auc: 0.9932 - val_loss: 0.2634 - val_auc: 0.9863 - 46s/epoch - 395ms/step\n",
      "Epoch 239/300\n",
      "117/117 - 46s - loss: 0.1306 - auc: 0.9936 - val_loss: 0.2097 - val_auc: 0.9872 - 46s/epoch - 395ms/step\n",
      "Epoch 240/300\n",
      "117/117 - 46s - loss: 0.1346 - auc: 0.9933 - val_loss: 0.1620 - val_auc: 0.9901 - 46s/epoch - 395ms/step\n",
      "Epoch 241/300\n",
      "117/117 - 46s - loss: 0.1368 - auc: 0.9932 - val_loss: 0.2470 - val_auc: 0.9892 - 46s/epoch - 397ms/step\n",
      "Epoch 242/300\n",
      "117/117 - 46s - loss: 0.1344 - auc: 0.9934 - val_loss: 0.1661 - val_auc: 0.9910 - 46s/epoch - 395ms/step\n",
      "Epoch 243/300\n",
      "117/117 - 46s - loss: 0.1373 - auc: 0.9931 - val_loss: 0.1994 - val_auc: 0.9897 - 46s/epoch - 396ms/step\n",
      "Epoch 244/300\n",
      "117/117 - 46s - loss: 0.1298 - auc: 0.9939 - val_loss: 0.1847 - val_auc: 0.9896 - 46s/epoch - 395ms/step\n",
      "Epoch 245/300\n",
      "117/117 - 46s - loss: 0.1301 - auc: 0.9936 - val_loss: 0.3079 - val_auc: 0.9867 - 46s/epoch - 395ms/step\n",
      "Epoch 246/300\n",
      "117/117 - 46s - loss: 0.1400 - auc: 0.9928 - val_loss: 0.2072 - val_auc: 0.9877 - 46s/epoch - 395ms/step\n",
      "Epoch 247/300\n",
      "117/117 - 46s - loss: 0.1315 - auc: 0.9936 - val_loss: 0.2209 - val_auc: 0.9860 - 46s/epoch - 395ms/step\n",
      "Epoch 248/300\n",
      "117/117 - 46s - loss: 0.1402 - auc: 0.9928 - val_loss: 0.1743 - val_auc: 0.9900 - 46s/epoch - 395ms/step\n",
      "Epoch 249/300\n",
      "117/117 - 46s - loss: 0.1345 - auc: 0.9934 - val_loss: 0.1582 - val_auc: 0.9923 - 46s/epoch - 396ms/step\n",
      "Epoch 250/300\n",
      "117/117 - 46s - loss: 0.1340 - auc: 0.9935 - val_loss: 0.2948 - val_auc: 0.9875 - 46s/epoch - 395ms/step\n",
      "Epoch 251/300\n",
      "117/117 - 46s - loss: 0.1312 - auc: 0.9937 - val_loss: 0.3750 - val_auc: 0.9808 - 46s/epoch - 396ms/step\n",
      "Epoch 252/300\n",
      "117/117 - 46s - loss: 0.1284 - auc: 0.9938 - val_loss: 0.2642 - val_auc: 0.9829 - 46s/epoch - 394ms/step\n",
      "Epoch 253/300\n",
      "117/117 - 46s - loss: 0.1333 - auc: 0.9934 - val_loss: 0.1611 - val_auc: 0.9915 - 46s/epoch - 395ms/step\n",
      "Epoch 254/300\n",
      "117/117 - 46s - loss: 0.1346 - auc: 0.9935 - val_loss: 0.7167 - val_auc: 0.9662 - 46s/epoch - 395ms/step\n",
      "Epoch 255/300\n",
      "117/117 - 46s - loss: 0.1343 - auc: 0.9933 - val_loss: 0.5337 - val_auc: 0.9751 - 46s/epoch - 395ms/step\n",
      "Epoch 256/300\n",
      "117/117 - 46s - loss: 0.1318 - auc: 0.9937 - val_loss: 0.1992 - val_auc: 0.9895 - 46s/epoch - 397ms/step\n",
      "Epoch 257/300\n",
      "117/117 - 46s - loss: 0.1366 - auc: 0.9933 - val_loss: 0.5433 - val_auc: 0.9775 - 46s/epoch - 395ms/step\n",
      "Epoch 258/300\n",
      "117/117 - 46s - loss: 0.1287 - auc: 0.9938 - val_loss: 0.1991 - val_auc: 0.9884 - 46s/epoch - 395ms/step\n",
      "Epoch 259/300\n",
      "117/117 - 46s - loss: 0.1335 - auc: 0.9934 - val_loss: 0.1383 - val_auc: 0.9921 - 46s/epoch - 394ms/step\n",
      "Epoch 260/300\n",
      "117/117 - 46s - loss: 0.1319 - auc: 0.9935 - val_loss: 0.7503 - val_auc: 0.9651 - 46s/epoch - 395ms/step\n",
      "Epoch 261/300\n",
      "117/117 - 46s - loss: 0.1313 - auc: 0.9938 - val_loss: 0.2655 - val_auc: 0.9872 - 46s/epoch - 395ms/step\n",
      "Epoch 262/300\n",
      "117/117 - 46s - loss: 0.1281 - auc: 0.9939 - val_loss: 0.2125 - val_auc: 0.9882 - 46s/epoch - 395ms/step\n",
      "Epoch 263/300\n",
      "117/117 - 46s - loss: 0.1282 - auc: 0.9939 - val_loss: 0.8589 - val_auc: 0.9575 - 46s/epoch - 395ms/step\n",
      "Epoch 264/300\n",
      "117/117 - 46s - loss: 0.1336 - auc: 0.9936 - val_loss: 0.4484 - val_auc: 0.9828 - 46s/epoch - 394ms/step\n",
      "Epoch 265/300\n",
      "117/117 - 46s - loss: 0.1269 - auc: 0.9941 - val_loss: 0.3059 - val_auc: 0.9829 - 46s/epoch - 394ms/step\n",
      "Epoch 266/300\n",
      "117/117 - 46s - loss: 0.1282 - auc: 0.9937 - val_loss: 0.4477 - val_auc: 0.9759 - 46s/epoch - 394ms/step\n",
      "Epoch 267/300\n",
      "117/117 - 46s - loss: 0.1261 - auc: 0.9942 - val_loss: 0.2376 - val_auc: 0.9887 - 46s/epoch - 394ms/step\n",
      "Epoch 268/300\n",
      "117/117 - 46s - loss: 0.1265 - auc: 0.9940 - val_loss: 0.2691 - val_auc: 0.9855 - 46s/epoch - 394ms/step\n",
      "Epoch 269/300\n",
      "117/117 - 46s - loss: 0.1278 - auc: 0.9939 - val_loss: 0.1424 - val_auc: 0.9924 - 46s/epoch - 395ms/step\n",
      "Epoch 270/300\n",
      "117/117 - 46s - loss: 0.1333 - auc: 0.9935 - val_loss: 0.1569 - val_auc: 0.9913 - 46s/epoch - 395ms/step\n",
      "Epoch 271/300\n",
      "117/117 - 46s - loss: 0.1272 - auc: 0.9941 - val_loss: 0.4406 - val_auc: 0.9792 - 46s/epoch - 396ms/step\n",
      "Epoch 272/300\n",
      "117/117 - 46s - loss: 0.1285 - auc: 0.9940 - val_loss: 0.1477 - val_auc: 0.9927 - 46s/epoch - 395ms/step\n",
      "Epoch 273/300\n",
      "117/117 - 46s - loss: 0.1255 - auc: 0.9943 - val_loss: 0.1766 - val_auc: 0.9898 - 46s/epoch - 395ms/step\n",
      "Epoch 274/300\n",
      "117/117 - 46s - loss: 0.1278 - auc: 0.9940 - val_loss: 0.1806 - val_auc: 0.9911 - 46s/epoch - 394ms/step\n",
      "Epoch 275/300\n",
      "117/117 - 46s - loss: 0.1264 - auc: 0.9942 - val_loss: 0.3640 - val_auc: 0.9799 - 46s/epoch - 394ms/step\n",
      "Epoch 276/300\n",
      "117/117 - 46s - loss: 0.1291 - auc: 0.9938 - val_loss: 0.2775 - val_auc: 0.9870 - 46s/epoch - 394ms/step\n",
      "Epoch 277/300\n",
      "117/117 - 46s - loss: 0.1285 - auc: 0.9941 - val_loss: 0.1462 - val_auc: 0.9922 - 46s/epoch - 394ms/step\n",
      "Epoch 278/300\n",
      "117/117 - 46s - loss: 0.1299 - auc: 0.9937 - val_loss: 0.1611 - val_auc: 0.9906 - 46s/epoch - 394ms/step\n",
      "Epoch 279/300\n",
      "117/117 - 46s - loss: 0.1262 - auc: 0.9941 - val_loss: 0.2516 - val_auc: 0.9870 - 46s/epoch - 395ms/step\n",
      "Epoch 280/300\n",
      "117/117 - 46s - loss: 0.1266 - auc: 0.9940 - val_loss: 0.2690 - val_auc: 0.9860 - 46s/epoch - 394ms/step\n",
      "Epoch 281/300\n",
      "117/117 - 46s - loss: 0.1232 - auc: 0.9944 - val_loss: 0.8810 - val_auc: 0.9442 - 46s/epoch - 394ms/step\n",
      "Epoch 282/300\n",
      "117/117 - 46s - loss: 0.1241 - auc: 0.9943 - val_loss: 0.2128 - val_auc: 0.9901 - 46s/epoch - 394ms/step\n",
      "Epoch 283/300\n",
      "117/117 - 46s - loss: 0.1307 - auc: 0.9935 - val_loss: 0.2809 - val_auc: 0.9868 - 46s/epoch - 394ms/step\n",
      "Epoch 284/300\n",
      "117/117 - 46s - loss: 0.1348 - auc: 0.9936 - val_loss: 0.1380 - val_auc: 0.9929 - 46s/epoch - 395ms/step\n",
      "Epoch 285/300\n",
      "117/117 - 46s - loss: 0.1224 - auc: 0.9944 - val_loss: 1.1545 - val_auc: 0.9320 - 46s/epoch - 395ms/step\n",
      "Epoch 286/300\n",
      "117/117 - 46s - loss: 0.1239 - auc: 0.9942 - val_loss: 0.2431 - val_auc: 0.9887 - 46s/epoch - 396ms/step\n",
      "Epoch 287/300\n",
      "117/117 - 46s - loss: 0.1269 - auc: 0.9939 - val_loss: 0.4025 - val_auc: 0.9818 - 46s/epoch - 395ms/step\n",
      "Epoch 288/300\n",
      "117/117 - 46s - loss: 0.1247 - auc: 0.9942 - val_loss: 0.1902 - val_auc: 0.9911 - 46s/epoch - 394ms/step\n",
      "Epoch 289/300\n",
      "117/117 - 46s - loss: 0.1267 - auc: 0.9942 - val_loss: 0.2076 - val_auc: 0.9890 - 46s/epoch - 394ms/step\n",
      "Epoch 290/300\n",
      "117/117 - 46s - loss: 0.1227 - auc: 0.9942 - val_loss: 0.4865 - val_auc: 0.9725 - 46s/epoch - 395ms/step\n",
      "Epoch 291/300\n",
      "117/117 - 46s - loss: 0.1249 - auc: 0.9940 - val_loss: 0.4251 - val_auc: 0.9814 - 46s/epoch - 394ms/step\n",
      "Epoch 292/300\n",
      "117/117 - 46s - loss: 0.1263 - auc: 0.9941 - val_loss: 1.3008 - val_auc: 0.9193 - 46s/epoch - 395ms/step\n",
      "Epoch 293/300\n",
      "117/117 - 46s - loss: 0.1179 - auc: 0.9948 - val_loss: 0.1467 - val_auc: 0.9920 - 46s/epoch - 394ms/step\n",
      "Epoch 294/300\n",
      "117/117 - 46s - loss: 0.1229 - auc: 0.9943 - val_loss: 0.1672 - val_auc: 0.9918 - 46s/epoch - 394ms/step\n",
      "Epoch 295/300\n",
      "117/117 - 46s - loss: 0.1208 - auc: 0.9946 - val_loss: 0.2758 - val_auc: 0.9803 - 46s/epoch - 395ms/step\n",
      "Epoch 296/300\n",
      "117/117 - 46s - loss: 0.1223 - auc: 0.9943 - val_loss: 0.1600 - val_auc: 0.9918 - 46s/epoch - 395ms/step\n",
      "Epoch 297/300\n",
      "117/117 - 46s - loss: 0.1271 - auc: 0.9940 - val_loss: 0.1512 - val_auc: 0.9923 - 46s/epoch - 395ms/step\n",
      "Epoch 298/300\n",
      "117/117 - 46s - loss: 0.1230 - auc: 0.9942 - val_loss: 0.1556 - val_auc: 0.9909 - 46s/epoch - 394ms/step\n",
      "Epoch 299/300\n",
      "117/117 - 46s - loss: 0.1256 - auc: 0.9942 - val_loss: 0.1457 - val_auc: 0.9922 - 46s/epoch - 394ms/step\n",
      "Epoch 300/300\n",
      "117/117 - 46s - loss: 0.1238 - auc: 0.9942 - val_loss: 0.1560 - val_auc: 0.9917 - 46s/epoch - 394ms/step\n",
      "\n",
      "Best validation AUC is 0.992931604385376 on epoch #284\n"
     ]
    }
   ],
   "source": [
    "if PERFORM_TRAINING:\n",
    "    data_generator = RandomSampleGenerator(X_TRAIN, Y_TRAIN,\n",
    "                                        batch_size=BATCH_SIZE, seed=SEED)\n",
    "    callbacks = [TrackBestPerformance(CKP_PATH)]\n",
    "\n",
    "    history = model.fit(data_generator, validation_data=(X_VAL, Y_VAL),\n",
    "                        epochs=EPOCHS, callbacks=callbacks, verbose=2)\n",
    "else:\n",
    "    model.load_weights(CKP_PATH)"
   ]
  },
  {
   "cell_type": "code",
   "execution_count": 22,
   "metadata": {
    "colab": {
     "base_uri": "https://localhost:8080/"
    },
    "id": "_1hOl9f6l94W",
    "outputId": "b3525e13-121e-4cce-e759-40c55d65518e"
   },
   "outputs": [
    {
     "name": "stdout",
     "output_type": "stream",
     "text": [
      "Best validation AUC: 99.29%\n",
      "Corresponding train AUC: 99.36%\n"
     ]
    }
   ],
   "source": [
    "if PERFORM_TRAINING:\n",
    "    best_epoch_idx = np.argmax(history.history['val_auc'])\n",
    "\n",
    "    print('Best validation AUC: {:.2%}'.format(history.history['val_auc'][best_epoch_idx]))\n",
    "    print('Corresponding train AUC: {:.2%}'.format(history.history['auc'][best_epoch_idx]))"
   ]
  },
  {
   "cell_type": "code",
   "execution_count": 23,
   "metadata": {
    "colab": {
     "base_uri": "https://localhost:8080/",
     "height": 350
    },
    "id": "mNQrMIEcJzZ3",
    "outputId": "1516df0f-da22-49dd-899e-403d42ca33b8"
   },
   "outputs": [
    {
     "data": {
      "image/png": "[encoded data removed]",
      "text/plain": [
       "<Figure size 1080x360 with 2 Axes>"
      ]
     },
     "metadata": {
      "needs_background": "light"
     },
     "output_type": "display_data"
    }
   ],
   "source": [
    "if PERFORM_TRAINING:\n",
    "    _, axes = plot.subplots(nrows=1, ncols=2, figsize=(15, 5))\n",
    "\n",
    "    # Loss vs Epoch plot\n",
    "    _ = axes[0].plot(range(1, best_epoch_idx + 2),\n",
    "                     history.history['loss'][:best_epoch_idx + 1],\n",
    "                     label='Train data')\n",
    "    _ = axes[0].plot(range(1, best_epoch_idx + 2),\n",
    "                     history.history['val_loss'][:best_epoch_idx + 1],\n",
    "                     label='Validation data')\n",
    "    _ = axes[0].set(xlabel='Epoch', ylabel='Loss', title='Loss vs Epoch')\n",
    "\n",
    "    # AUC vs Epoch plot\n",
    "    _ = axes[1].plot(range(1, best_epoch_idx + 2),\n",
    "                     history.history['auc'][:best_epoch_idx + 1],\n",
    "                     label='Train data')\n",
    "    _ = axes[1].plot(range(1, best_epoch_idx + 2),\n",
    "                     history.history['val_auc'][:best_epoch_idx + 1],\n",
    "                     label='Validation data')\n",
    "    _ = axes[1].set(xlabel='Epoch', ylabel='AUC', title='AUC vs Epoch')\n",
    "\n",
    "    _ = plot.legend()"
   ]
  },
  {
   "cell_type": "code",
   "execution_count": 24,
   "metadata": {
    "colab": {
     "base_uri": "https://localhost:8080/"
    },
    "id": "sPa3aINrxUcM",
    "outputId": "06cb893f-249c-4180-901c-007edc1b6cad"
   },
   "outputs": [
    {
     "name": "stdout",
     "output_type": "stream",
     "text": [
      "/content/output /content\n",
      "/content\n"
     ]
    }
   ],
   "source": [
    "# Zip model weights for download\n",
    "!pushd {OUTPATH}; zip -rq test_1_weights.zip weights; popd"
   ]
  },
  {
   "cell_type": "markdown",
   "metadata": {
    "id": "W-HCQX7UxmIn"
   },
   "source": [
    "<a name=\"evaluation\"><a/>\n",
    "# Evaluation"
   ]
  },
  {
   "cell_type": "code",
   "execution_count": 25,
   "metadata": {
    "id": "reJl2awBfXub"
   },
   "outputs": [],
   "source": [
    "def split_and_predict(x, num_batches=50):\n",
    "    '''\n",
    "    Utility function to do a forward pass with large data\n",
    "    Splits data into batches and does forward pass through the model\n",
    "    '''\n",
    "    x_batches = np.array_split(x, num_batches)\n",
    "    y_pred = np.concatenate([model(x_batch).numpy() for x_batch in x_batches], axis=0)\n",
    "    return y_pred"
   ]
  },
  {
   "cell_type": "code",
   "execution_count": 26,
   "metadata": {
    "id": "QcLZ7tA-QyyV"
   },
   "outputs": [],
   "source": [
    "# Get predictions (needed for plotting ROC curve)\n",
    "Y_PRED_TRAIN = split_and_predict(X_TRAIN)\n",
    "Y_PRED_VAL = split_and_predict(X_VAL)"
   ]
  },
  {
   "cell_type": "code",
   "execution_count": 27,
   "metadata": {
    "id": "eNHZ3CRy0V4X"
   },
   "outputs": [],
   "source": [
    "def plot_roc_curve(y, y_pred, categories, axis, num_thresholds=200):\n",
    "    thresholds = np.linspace(0., 1., num_thresholds)\n",
    "\n",
    "    tp, fp, tn, fn = [], [], [], []\n",
    "\n",
    "    for threshold in thresholds:\n",
    "        y_pred_label = (y_pred > threshold).astype(int)\n",
    "        tp.append(np.count_nonzero(((y_pred_label == 1) & (y == 1)), axis=0))\n",
    "        fp.append(np.count_nonzero(((y_pred_label == 1) & (y == 0)), axis=0))\n",
    "        tn.append(np.count_nonzero(((y_pred_label == 0) & (y == 0)), axis=0))\n",
    "        fn.append(np.count_nonzero(((y_pred_label == 0) & (y == 1)), axis=0))\n",
    "\n",
    "    tp, fp, tn, fn = np.array(tp), np.array(fp), np.array(tn), np.array(fn)\n",
    "\n",
    "    tp_rate = tp / (tp + fn)\n",
    "    fp_rate = fp / (fp + tn)\n",
    "\n",
    "    for idx, category in enumerate(categories):\n",
    "        _ = axis.plot(fp_rate[:, idx], tp_rate[:, idx], label=category)"
   ]
  },
  {
   "cell_type": "code",
   "execution_count": 28,
   "metadata": {
    "colab": {
     "base_uri": "https://localhost:8080/",
     "height": 336
    },
    "id": "n93z-Nnock1c",
    "outputId": "1cda1489-117b-49d1-e39a-ab51ba49b5a4"
   },
   "outputs": [
    {
     "data": {
      "image/png": "[encoded data removed]",
      "text/plain": [
       "<Figure size 1080x360 with 2 Axes>"
      ]
     },
     "metadata": {
      "needs_background": "light"
     },
     "output_type": "display_data"
    }
   ],
   "source": [
    "fig, axes = plot.subplots(nrows=1, ncols=2, figsize=(15, 5))\n",
    "\n",
    "plot_roc_curve(Y_TRAIN, Y_PRED_TRAIN, CATEGORIES, axes[0])\n",
    "_ = axes[0].set(title='ROC curve for training data')\n",
    "\n",
    "plot_roc_curve(Y_VAL, Y_PRED_VAL, CATEGORIES, axes[1])\n",
    "_ = axes[1].set(title='ROC curve for test data')\n",
    "\n",
    "_ = plot.legend()"
   ]
  },
  {
   "cell_type": "markdown",
   "metadata": {
    "id": "d_f-orerx2W7"
   },
   "source": [
    "<a name=\"external-evaluation\"><a/>\n",
    "### External Evaluation"
   ]
  },
  {
   "cell_type": "code",
   "execution_count": null,
   "metadata": {
    "id": "yHrzCzJW0ixn"
   },
   "outputs": [],
   "source": [
    "# Load test data | Shape: (None, 150, 150, 1)\n",
    "X_TEST, Y_TEST = None, None"
   ]
  },
  {
   "cell_type": "code",
   "execution_count": null,
   "metadata": {
    "id": "s7hRM3SayKiD"
   },
   "outputs": [],
   "source": [
    "# Standardize test data\n",
    "X_TEST = standardize(X_TEST, 'test', OUTPATH)\n",
    "\n",
    "# Calculate AUC\n",
    "test_auc = model.evaluate(X_TEST, Y_TEST, verbose=0)[1]\n",
    "\n",
    "print(f'AUC on test data is {test_auc}')"
   ]
  },
  {
   "cell_type": "code",
   "execution_count": null,
   "metadata": {
    "id": "yKijaKDzyMpg"
   },
   "outputs": [],
   "source": [
    "# Get predictions (needed to plot ROC curve)\n",
    "Y_PRED_TEST = split_and_predict(X_TEST)"
   ]
  },
  {
   "cell_type": "code",
   "execution_count": null,
   "metadata": {
    "id": "3aVoR5WR3Aek"
   },
   "outputs": [],
   "source": [
    "# Plot ROC curve\n",
    "fig, axis = plot.subplots(figsize=(15, 5))\n",
    "\n",
    "# ROC curve on train data\n",
    "plot_roc_curve(Y_TEST, Y_PRED_TEST, CATEGORIES, axis)\n",
    "_ = axis.set(title='ROC curve for test data')\n",
    "\n",
    "_ = plot.legend()"
   ]
  },
  {
   "cell_type": "markdown",
   "metadata": {
    "id": "havk8lnjySNC"
   },
   "source": [
    "<a name=\"acknowledgements\"></a>\n",
    "\n",
    "# Acknowledgements\n",
    "\n",
    "The structure of the model used was partially inspired from the paper titled:\n",
    "\n",
    "[Deep Convolutional Neural Networks as strong gravitational lens detectors](https://arxiv.org/pdf/1705.07132.pdf) by C. Schaefer, M. Geiger, T. Kuntzer, J-P. Kneib"
   ]
  }
 ],
 "metadata": {
  "accelerator": "GPU",
  "colab": {
   "collapsed_sections": [],
   "machine_shape": "hm",
   "name": "gsoc_deeplense_test_1.ipynb",
   "provenance": []
  },
  "kernelspec": {
   "display_name": "Python 3 (ipykernel)",
   "language": "python",
   "name": "python3"
  },
  "language_info": {
   "codemirror_mode": {
    "name": "ipython",
    "version": 3
   },
   "file_extension": ".py",
   "mimetype": "text/x-python",
   "name": "python",
   "nbconvert_exporter": "python",
   "pygments_lexer": "ipython3",
   "version": "3.8.12"
  }
 },
 "nbformat": 4,
 "nbformat_minor": 1
}
