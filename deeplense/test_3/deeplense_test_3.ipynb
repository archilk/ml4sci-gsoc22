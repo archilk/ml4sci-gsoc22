{
 "cells": [
  {
   "cell_type": "markdown",
   "metadata": {
    "id": "s0v6TQRG-WXz"
   },
   "source": [
    "### Table of Contents\n",
    "* [Imports](#imports)\n",
    "* [Prepare Dataset](#prepare-dataset)\n",
    "    * [Load Dataset](#load-dataset)\n",
    "    * [Analyse Dataset](#analyse-dataset)\n",
    "    * [Preprocess Dataset](#preprocess-dataset)\n",
    "* [Training Pipeline](#train-pipeline)\n",
    "* [Training](#training)\n",
    "* [Evaluation](#evaluation)\n",
    "    * [External Evaluation](#external-evaluation)\n",
    "* [Acknowledgements](#acknowledgements)"
   ]
  },
  {
   "cell_type": "markdown",
   "metadata": {
    "id": "e8cTIKnRU1U0"
   },
   "source": [
    "<a name=\"imports\"></a>\n",
    "# Imports"
   ]
  },
  {
   "cell_type": "code",
   "execution_count": 3,
   "metadata": {
    "id": "R9ziD9a1hR75"
   },
   "outputs": [],
   "source": [
    "import tensorflow as tf\n",
    "from tensorflow import keras\n",
    "from keras.layers import (Layer, Input, Flatten,\n",
    "                          Conv2D, MaxPool2D,\n",
    "                          BatchNormalization, Dense, Dropout,\n",
    "                          RandomFlip, RandomRotation, RandomZoom)\n",
    "from keras import layers\n",
    "\n",
    "import numpy as np\n",
    "import matplotlib.pyplot as plot\n",
    "import csv\n",
    "import pandas as pd\n",
    "from astropy.io import fits\n",
    "\n",
    "import os\n",
    "import warnings\n",
    "import pdb"
   ]
  },
  {
   "cell_type": "code",
   "execution_count": 4,
   "metadata": {
    "id": "Xnkd2uy4V1fc"
   },
   "outputs": [],
   "source": [
    "### Set Numpy Print Options ###\n",
    "np.set_printoptions(precision=3)\n",
    "np.set_printoptions(suppress=True)"
   ]
  },
  {
   "cell_type": "code",
   "execution_count": 5,
   "metadata": {
    "id": "tgsED9JIV5Iz"
   },
   "outputs": [],
   "source": [
    "### Set random seed for reproducibility ###\n",
    "SEED = 1\n",
    "keras.utils.set_random_seed(SEED)\n",
    "tf.config.experimental.enable_op_determinism()"
   ]
  },
  {
   "cell_type": "code",
   "execution_count": 6,
   "metadata": {
    "id": "u6pwznuX00BP"
   },
   "outputs": [],
   "source": [
    "PERFORM_TRAINING = False # Set to False if only inference is to be done"
   ]
  },
  {
   "cell_type": "markdown",
   "metadata": {
    "id": "WA3WdEs8WBfb"
   },
   "source": [
    "<a name=\"prepare-dataset\"></a>\n",
    "# Prepare Dataset"
   ]
  },
  {
   "cell_type": "markdown",
   "metadata": {
    "id": "K_HHXqdqWCd7"
   },
   "source": [
    "<a name=\"load-dataset\"></a>\n",
    "### Load Dataset"
   ]
  },
  {
   "cell_type": "code",
   "execution_count": 7,
   "metadata": {
    "id": "PsH4u3bEQV80"
   },
   "outputs": [],
   "source": [
    "# Unzip data\n",
    "!tar zxf ./drive/MyDrive/test_3.tgz --transform s/lens_data/data/"
   ]
  },
  {
   "cell_type": "code",
   "execution_count": 8,
   "metadata": {
    "colab": {
     "base_uri": "https://localhost:8080/"
    },
    "id": "TUUyV6MkXfGh",
    "outputId": "3666e4bb-afa6-44f1-ee6e-e2937caa8aa6"
   },
   "outputs": [
    {
     "name": "stdout",
     "output_type": "stream",
     "text": [
      ".\n",
      "├── data [20000 entries exceeds filelimit, not opening dir]\n",
      "└── output\n",
      "    └── weights\n",
      "\n",
      "3 directories, 0 files\n"
     ]
    }
   ],
   "source": [
    "DATAPATH = './data' # Root path of data\n",
    "OUTPATH = './output' # Storing output\n",
    "os.makedirs(OUTPATH, exist_ok=True)\n",
    "SAVEPATH = os.path.join(OUTPATH, 'weights') # For storing model weights\n",
    "os.makedirs(SAVEPATH)\n",
    "CKP_PATH = os.path.join(SAVEPATH, 'ckp')\n",
    "\n",
    "# Print directory structure\n",
    "!tree --filelimit=10"
   ]
  },
  {
   "cell_type": "code",
   "execution_count": 9,
   "metadata": {
    "colab": {
     "base_uri": "https://localhost:8080/"
    },
    "id": "E0UlF9kP08Xh",
    "outputId": "529ff3ed-8508-4d5a-bcc1-572cfc20d751"
   },
   "outputs": [
    {
     "name": "stdout",
     "output_type": "stream",
     "text": [
      "unzip:  cannot find or open ./output/test_3_weights.zip, ./output/test_3_weights.zip.zip or ./output/test_3_weights.zip.ZIP.\n"
     ]
    }
   ],
   "source": [
    "# Unzip model weights (if available)\n",
    "!unzip -oq {os.path.join(OUTPATH, 'test_3_weights.zip')} -d {OUTPATH}"
   ]
  },
  {
   "cell_type": "code",
   "execution_count": 10,
   "metadata": {
    "id": "pWdkyMkRhhHk"
   },
   "outputs": [],
   "source": [
    "def load_data(root, use_cached=True):\n",
    "    if use_cached:\n",
    "        try:\n",
    "            x = np.load(os.path.join(root, 'X.npy'))\n",
    "            y = np.load(os.path.join(root, 'Y.npy'))\n",
    "            return x, y\n",
    "        except FileNotFoundError as _:\n",
    "            warnings.warn('Cached data does not exist! Loading from raw data.')\n",
    "    \n",
    "    x, y = [], []\n",
    "    for filename in os.scandir(root):\n",
    "        temp = np.load(filename.path, allow_pickle=True)\n",
    "        if len(temp) != 2:\n",
    "            continue\n",
    "        x_temp, y_temp = temp[0], temp[1]\n",
    "        x.append(x_temp)\n",
    "        y.append(y_temp)\n",
    "  \n",
    "    x = np.expand_dims(np.stack(x, axis=0), axis=-1) # Add channel axis\n",
    "    y = np.stack(y, axis=0)\n",
    "\n",
    "    np.save(os.path.join(root, 'X.npy'), x)\n",
    "    np.save(os.path.join(root, 'Y.npy'), y)\n",
    "\n",
    "    return x, y"
   ]
  },
  {
   "cell_type": "code",
   "execution_count": 11,
   "metadata": {
    "colab": {
     "base_uri": "https://localhost:8080/"
    },
    "id": "oCKOBWf3uoRo",
    "outputId": "2a30b8d9-bb6c-4442-86e4-9e415f29d6ae"
   },
   "outputs": [
    {
     "name": "stderr",
     "output_type": "stream",
     "text": [
      "/usr/local/lib/python3.7/dist-packages/ipykernel_launcher.py:8: UserWarning: Cached data does not exist! Loading from raw data.\n",
      "  \n"
     ]
    },
    {
     "name": "stdout",
     "output_type": "stream",
     "text": [
      "Shape of X: (20000, 150, 150, 1)\n",
      "Shape of Y: (20000,)\n"
     ]
    }
   ],
   "source": [
    "X, Y = load_data(DATAPATH, use_cached=True)\n",
    "\n",
    "print(f'Shape of X: {X.shape}')\n",
    "print(f'Shape of Y: {Y.shape}')"
   ]
  },
  {
   "cell_type": "code",
   "execution_count": 12,
   "metadata": {
    "colab": {
     "base_uri": "https://localhost:8080/"
    },
    "id": "ah33wPQOuoT5",
    "outputId": "a3317323-bca3-4668-e0ec-eea4b042a6a3"
   },
   "outputs": [
    {
     "name": "stdout",
     "output_type": "stream",
     "text": [
      "X_TRAIN shape: (18000, 150, 150, 1)\n",
      "X_VAL shape: (2000, 150, 150, 1)\n"
     ]
    }
   ],
   "source": [
    "# Shuffle train data\n",
    "perm = np.random.permutation(len(X))\n",
    "X, Y = X[perm], Y[perm]\n",
    "\n",
    "# Train / Val split\n",
    "val_size = len(X) // 10\n",
    "X_TRAIN, Y_TRAIN = X[val_size:], Y[val_size:]\n",
    "X_VAL, Y_VAL = X[:val_size], Y[:val_size]\n",
    "\n",
    "print(f'X_TRAIN shape: {X_TRAIN.shape}')\n",
    "print(f'X_VAL shape: {X_VAL.shape}')"
   ]
  },
  {
   "cell_type": "markdown",
   "metadata": {
    "id": "sEDImG-fivHC"
   },
   "source": [
    "<a name=\"analyse-dataset\"></a>\n",
    "### Analyse Dataset"
   ]
  },
  {
   "cell_type": "code",
   "execution_count": 13,
   "metadata": {
    "colab": {
     "base_uri": "https://localhost:8080/",
     "height": 281
    },
    "id": "RxowyAt2uoWZ",
    "outputId": "40250508-ff79-45fc-e1f6-0cb33a68a4d6"
   },
   "outputs": [
    {
     "data": {
      "image/png": "[encoded data removed]",
      "text/plain": [
       "<Figure size 432x288 with 1 Axes>"
      ]
     },
     "metadata": {
      "needs_background": "light"
     },
     "output_type": "display_data"
    }
   ],
   "source": [
    "# Display random instance of data (This won't affect original SEED progression)\n",
    "idx = np.random.default_rng().integers(0, len(X_TRAIN))\n",
    "_ = plot.imshow(X_TRAIN[idx].squeeze(), cmap='gray')\n",
    "_ = plot.title(f'Label: {Y_TRAIN[idx]}')"
   ]
  },
  {
   "cell_type": "markdown",
   "metadata": {
    "id": "z0VWTv-ui2cW"
   },
   "source": [
    "<a name=\"preprocess-dataset\"></a>\n",
    "### Preprocess Dataset"
   ]
  },
  {
   "cell_type": "code",
   "execution_count": 14,
   "metadata": {
    "id": "BwGohhmfwjEf"
   },
   "outputs": [],
   "source": [
    "def standardize(x, datatype, root):\n",
    "    '''Standardize image examples'''\n",
    "    # Make image contrast similar across all images\n",
    "    x = ((x - np.mean(x, axis=(1, 2), keepdims=True)) /\n",
    "         np.std(x, axis=(1, 2), keepdims=True))\n",
    "    return x"
   ]
  },
  {
   "cell_type": "code",
   "execution_count": 15,
   "metadata": {
    "id": "dshkzTq2wjGy"
   },
   "outputs": [],
   "source": [
    "### Preprocess data ###\n",
    "\n",
    "# Standardize data\n",
    "X_TRAIN = standardize(X_TRAIN, 'train', OUTPATH)\n",
    "X_VAL = standardize(X_VAL, 'val', OUTPATH)"
   ]
  },
  {
   "cell_type": "markdown",
   "metadata": {
    "id": "LxAtdqrMjAqV"
   },
   "source": [
    "<a name=\"train-pipeline\"></a>\n",
    "# Training Pipeline"
   ]
  },
  {
   "cell_type": "code",
   "execution_count": 16,
   "metadata": {
    "id": "TpmWZyTuwjI3"
   },
   "outputs": [],
   "source": [
    "def make_model(image_shape):\n",
    "    image_inputs = keras.Input(shape=image_shape)\n",
    "\n",
    "    # Augmentation\n",
    "    x = keras.Sequential([RandomFlip(),\n",
    "                          RandomRotation(0.5),\n",
    "                          RandomZoom(height_factor=0.2, width_factor=0.2)\n",
    "                         ], name='augment')(image_inputs)\n",
    "\n",
    "    # Conv Block 1\n",
    "    x = layers.Conv2D(16, 5)(x)\n",
    "    x = layers.BatchNormalization()(x)\n",
    "    x = layers.Activation('relu')(x)\n",
    "\n",
    "    # Conv Block 2, 3, 4\n",
    "    for _ in range(3):\n",
    "        x = layers.Conv2D(32, 3)(x)\n",
    "        x = layers.BatchNormalization()(x)\n",
    "        x = layers.Activation('relu')(x)\n",
    "        x = layers.MaxPool2D()(x)\n",
    "\n",
    "    # Conv Block 5, 6\n",
    "    for _ in range(2):\n",
    "        residual = layers.Conv2D(64, 1)(x)\n",
    "        x = layers.Conv2D(64, 3, padding='same')(x)\n",
    "        x = layers.BatchNormalization()(x)\n",
    "        x = layers.Activation('relu')(x)\n",
    "        x = layers.add([x, residual]) # Residual connection\n",
    "\n",
    "    # Conv Block 7\n",
    "    x = layers.Conv2D(128, 3)(x)\n",
    "    x = layers.BatchNormalization()(x)\n",
    "    x = layers.Activation('relu')(x)\n",
    "\n",
    "    x = layers.Flatten()(x)\n",
    "\n",
    "    # Feed Forward Network\n",
    "    x = layers.Dense(256, kernel_regularizer=keras.regularizers.l2(1e-3))(x)\n",
    "    x = layers.LeakyReLU()(x)\n",
    "    x = layers.Dense(64, kernel_regularizer=keras.regularizers.l2(1e-3))(x)\n",
    "    x = layers.LeakyReLU()(x)\n",
    "    x = layers.Dense(1)(x)\n",
    "    outputs = layers.LeakyReLU()(x)\n",
    "\n",
    "    return keras.Model(image_inputs, outputs)"
   ]
  },
  {
   "cell_type": "markdown",
   "metadata": {
    "id": "cptpm6SfrdfF"
   },
   "source": [
    "<a name=\"training\"></a>\n",
    "# Training"
   ]
  },
  {
   "cell_type": "code",
   "execution_count": 17,
   "metadata": {
    "id": "SU_bjUkNhoJz"
   },
   "outputs": [],
   "source": [
    "class TrackBestPerformance(keras.callbacks.Callback):\n",
    "    '''\n",
    "    Callback to keep track of model weights which give best val_mse\n",
    "    After training completes, the model is assigned with the best model weights\n",
    "    '''\n",
    "    def __init__(self, ckp_path, save_every=15, **kwargs):\n",
    "        super().__init__(**kwargs)\n",
    "        self.best_mse = 1\n",
    "        self.best_epoch = -1\n",
    "        self.best_weights = None\n",
    "        self.ckp_path = ckp_path\n",
    "        self.save_every = save_every\n",
    "  \n",
    "    def on_epoch_end(self, epoch, logs=None):\n",
    "        '''Track best val_mse and corresponding weights'''\n",
    "        current_mse = logs['val_mse']\n",
    "        if current_mse <= self.best_mse:\n",
    "            self.best_mse = current_mse\n",
    "            self.best_epoch = epoch\n",
    "            self.best_weights = self.model.get_weights()\n",
    "        if epoch % self.save_every == 0:\n",
    "            self.model.save_weights(self.ckp_path)\n",
    "  \n",
    "    def on_train_end(self, logs=None):\n",
    "        '''Reassign model weights to the one with the best val_mse'''\n",
    "        self.model.set_weights(self.best_weights)\n",
    "        self.model.save_weights(self.ckp_path)\n",
    "        print(f'\\nBest validation MSE is {self.best_mse} '\n",
    "              f'on epoch #{self.best_epoch + 1}')\n"
   ]
  },
  {
   "cell_type": "code",
   "execution_count": 18,
   "metadata": {
    "id": "phFt-5s0zJDE"
   },
   "outputs": [],
   "source": [
    "BATCH_SIZE = 128\n",
    "EPOCHS = 300\n",
    "LEARNING_RATE = 2e-5\n",
    "\n",
    "# Pick a pre-saved model to finetune further\n",
    "USE_SAVED_MODEL = False\n",
    "\n",
    "# Run eagerly for debugging\n",
    "RUN_EAGERLY = False"
   ]
  },
  {
   "cell_type": "code",
   "execution_count": 19,
   "metadata": {
    "id": "C6gGuESnzdjz"
   },
   "outputs": [],
   "source": [
    "# Instantiate new model\n",
    "model = make_model(X_TRAIN.shape[1:])\n",
    "\n",
    "model.compile(loss=keras.losses.MeanSquaredError(reduction=keras.losses.Reduction.SUM),\n",
    "              optimizer=keras.optimizers.Adam(learning_rate=LEARNING_RATE),\n",
    "              metrics=[keras.metrics.MeanSquaredError(name='mse'),\n",
    "                       keras.metrics.RootMeanSquaredError(name='rmse')],\n",
    "              run_eagerly=RUN_EAGERLY)\n",
    "\n",
    "if USE_SAVED_MODEL:\n",
    "    # Pick a pre-trained model to finetune\n",
    "    model.load_weights(CKP_PATH)"
   ]
  },
  {
   "cell_type": "code",
   "execution_count": 20,
   "metadata": {
    "colab": {
     "base_uri": "https://localhost:8080/"
    },
    "id": "xJx6pvOlztDP",
    "outputId": "612b1d55-4174-422a-d5d4-f086013f6eb6"
   },
   "outputs": [
    {
     "name": "stdout",
     "output_type": "stream",
     "text": [
      "Model: \"model\"\n",
      "__________________________________________________________________________________________________\n",
      " Layer (type)                   Output Shape         Param #     Connected to                     \n",
      "==================================================================================================\n",
      " input_1 (InputLayer)           [(None, 150, 150, 1  0           []                               \n",
      "                                )]                                                                \n",
      "                                                                                                  \n",
      " augment (Sequential)           (None, 150, 150, 1)  0           ['input_1[0][0]']                \n",
      "                                                                                                  \n",
      " conv2d (Conv2D)                (None, 146, 146, 16  416         ['augment[0][0]']                \n",
      "                                )                                                                 \n",
      "                                                                                                  \n",
      " batch_normalization (BatchNorm  (None, 146, 146, 16  64         ['conv2d[0][0]']                 \n",
      " alization)                     )                                                                 \n",
      "                                                                                                  \n",
      " activation (Activation)        (None, 146, 146, 16  0           ['batch_normalization[0][0]']    \n",
      "                                )                                                                 \n",
      "                                                                                                  \n",
      " conv2d_1 (Conv2D)              (None, 144, 144, 32  4640        ['activation[0][0]']             \n",
      "                                )                                                                 \n",
      "                                                                                                  \n",
      " batch_normalization_1 (BatchNo  (None, 144, 144, 32  128        ['conv2d_1[0][0]']               \n",
      " rmalization)                   )                                                                 \n",
      "                                                                                                  \n",
      " activation_1 (Activation)      (None, 144, 144, 32  0           ['batch_normalization_1[0][0]']  \n",
      "                                )                                                                 \n",
      "                                                                                                  \n",
      " max_pooling2d (MaxPooling2D)   (None, 72, 72, 32)   0           ['activation_1[0][0]']           \n",
      "                                                                                                  \n",
      " conv2d_2 (Conv2D)              (None, 70, 70, 32)   9248        ['max_pooling2d[0][0]']          \n",
      "                                                                                                  \n",
      " batch_normalization_2 (BatchNo  (None, 70, 70, 32)  128         ['conv2d_2[0][0]']               \n",
      " rmalization)                                                                                     \n",
      "                                                                                                  \n",
      " activation_2 (Activation)      (None, 70, 70, 32)   0           ['batch_normalization_2[0][0]']  \n",
      "                                                                                                  \n",
      " max_pooling2d_1 (MaxPooling2D)  (None, 35, 35, 32)  0           ['activation_2[0][0]']           \n",
      "                                                                                                  \n",
      " conv2d_3 (Conv2D)              (None, 33, 33, 32)   9248        ['max_pooling2d_1[0][0]']        \n",
      "                                                                                                  \n",
      " batch_normalization_3 (BatchNo  (None, 33, 33, 32)  128         ['conv2d_3[0][0]']               \n",
      " rmalization)                                                                                     \n",
      "                                                                                                  \n",
      " activation_3 (Activation)      (None, 33, 33, 32)   0           ['batch_normalization_3[0][0]']  \n",
      "                                                                                                  \n",
      " max_pooling2d_2 (MaxPooling2D)  (None, 16, 16, 32)  0           ['activation_3[0][0]']           \n",
      "                                                                                                  \n",
      " conv2d_5 (Conv2D)              (None, 16, 16, 64)   18496       ['max_pooling2d_2[0][0]']        \n",
      "                                                                                                  \n",
      " batch_normalization_4 (BatchNo  (None, 16, 16, 64)  256         ['conv2d_5[0][0]']               \n",
      " rmalization)                                                                                     \n",
      "                                                                                                  \n",
      " activation_4 (Activation)      (None, 16, 16, 64)   0           ['batch_normalization_4[0][0]']  \n",
      "                                                                                                  \n",
      " conv2d_4 (Conv2D)              (None, 16, 16, 64)   2112        ['max_pooling2d_2[0][0]']        \n",
      "                                                                                                  \n",
      " add (Add)                      (None, 16, 16, 64)   0           ['activation_4[0][0]',           \n",
      "                                                                  'conv2d_4[0][0]']               \n",
      "                                                                                                  \n",
      " conv2d_7 (Conv2D)              (None, 16, 16, 64)   36928       ['add[0][0]']                    \n",
      "                                                                                                  \n",
      " batch_normalization_5 (BatchNo  (None, 16, 16, 64)  256         ['conv2d_7[0][0]']               \n",
      " rmalization)                                                                                     \n",
      "                                                                                                  \n",
      " activation_5 (Activation)      (None, 16, 16, 64)   0           ['batch_normalization_5[0][0]']  \n",
      "                                                                                                  \n",
      " conv2d_6 (Conv2D)              (None, 16, 16, 64)   4160        ['add[0][0]']                    \n",
      "                                                                                                  \n",
      " add_1 (Add)                    (None, 16, 16, 64)   0           ['activation_5[0][0]',           \n",
      "                                                                  'conv2d_6[0][0]']               \n",
      "                                                                                                  \n",
      " conv2d_8 (Conv2D)              (None, 14, 14, 128)  73856       ['add_1[0][0]']                  \n",
      "                                                                                                  \n",
      " batch_normalization_6 (BatchNo  (None, 14, 14, 128)  512        ['conv2d_8[0][0]']               \n",
      " rmalization)                                                                                     \n",
      "                                                                                                  \n",
      " activation_6 (Activation)      (None, 14, 14, 128)  0           ['batch_normalization_6[0][0]']  \n",
      "                                                                                                  \n",
      " flatten (Flatten)              (None, 25088)        0           ['activation_6[0][0]']           \n",
      "                                                                                                  \n",
      " dense (Dense)                  (None, 256)          6422784     ['flatten[0][0]']                \n",
      "                                                                                                  \n",
      " leaky_re_lu (LeakyReLU)        (None, 256)          0           ['dense[0][0]']                  \n",
      "                                                                                                  \n",
      " dense_1 (Dense)                (None, 64)           16448       ['leaky_re_lu[0][0]']            \n",
      "                                                                                                  \n",
      " leaky_re_lu_1 (LeakyReLU)      (None, 64)           0           ['dense_1[0][0]']                \n",
      "                                                                                                  \n",
      " dense_2 (Dense)                (None, 1)            65          ['leaky_re_lu_1[0][0]']          \n",
      "                                                                                                  \n",
      " leaky_re_lu_2 (LeakyReLU)      (None, 1)            0           ['dense_2[0][0]']                \n",
      "                                                                                                  \n",
      "==================================================================================================\n",
      "Total params: 6,599,873\n",
      "Trainable params: 6,599,137\n",
      "Non-trainable params: 736\n",
      "__________________________________________________________________________________________________\n"
     ]
    }
   ],
   "source": [
    "model.summary()"
   ]
  },
  {
   "cell_type": "code",
   "execution_count": 21,
   "metadata": {
    "colab": {
     "base_uri": "https://localhost:8080/"
    },
    "id": "SN1Jz8hSztFx",
    "outputId": "47ab7f2b-ecf4-4738-e8a6-68a89a42c9b5"
   },
   "outputs": [
    {
     "name": "stdout",
     "output_type": "stream",
     "text": [
      "Epoch 1/300\n",
      "563/563 - 42s - loss: 0.9769 - mse: 0.0116 - rmse: 0.1075 - val_loss: 0.7789 - val_mse: 0.0055 - val_rmse: 0.0739 - 42s/epoch - 75ms/step\n",
      "Epoch 2/300\n",
      "563/563 - 30s - loss: 0.7047 - mse: 0.0032 - rmse: 0.0568 - val_loss: 0.9842 - val_mse: 0.0121 - val_rmse: 0.1101 - 30s/epoch - 53ms/step\n",
      "Epoch 3/300\n",
      "563/563 - 31s - loss: 0.6725 - mse: 0.0024 - rmse: 0.0493 - val_loss: 0.6796 - val_mse: 0.0028 - val_rmse: 0.0527 - 31s/epoch - 54ms/step\n",
      "Epoch 4/300\n",
      "563/563 - 31s - loss: 0.6457 - mse: 0.0018 - rmse: 0.0430 - val_loss: 0.6929 - val_mse: 0.0035 - val_rmse: 0.0590 - 31s/epoch - 55ms/step\n",
      "Epoch 5/300\n",
      "563/563 - 31s - loss: 0.6378 - mse: 0.0019 - rmse: 0.0435 - val_loss: 0.7033 - val_mse: 0.0041 - val_rmse: 0.0642 - 31s/epoch - 55ms/step\n",
      "Epoch 6/300\n",
      "563/563 - 31s - loss: 0.6224 - mse: 0.0017 - rmse: 0.0417 - val_loss: 0.6777 - val_mse: 0.0037 - val_rmse: 0.0605 - 31s/epoch - 55ms/step\n",
      "Epoch 7/300\n",
      "563/563 - 31s - loss: 0.6138 - mse: 0.0018 - rmse: 0.0427 - val_loss: 0.5973 - val_mse: 0.0015 - val_rmse: 0.0387 - 31s/epoch - 55ms/step\n",
      "Epoch 8/300\n",
      "563/563 - 31s - loss: 0.5947 - mse: 0.0016 - rmse: 0.0400 - val_loss: 0.5895 - val_mse: 0.0016 - val_rmse: 0.0405 - 31s/epoch - 55ms/step\n",
      "Epoch 9/300\n",
      "563/563 - 31s - loss: 0.5723 - mse: 0.0013 - rmse: 0.0360 - val_loss: 0.6325 - val_mse: 0.0034 - val_rmse: 0.0583 - 31s/epoch - 55ms/step\n",
      "Epoch 10/300\n",
      "563/563 - 31s - loss: 0.5679 - mse: 0.0016 - rmse: 0.0397 - val_loss: 0.5581 - val_mse: 0.0015 - val_rmse: 0.0386 - 31s/epoch - 55ms/step\n",
      "Epoch 11/300\n",
      "563/563 - 31s - loss: 0.5446 - mse: 0.0013 - rmse: 0.0357 - val_loss: 0.5265 - val_mse: 9.2594e-04 - val_rmse: 0.0304 - 31s/epoch - 55ms/step\n",
      "Epoch 12/300\n",
      "563/563 - 31s - loss: 0.5309 - mse: 0.0013 - rmse: 0.0357 - val_loss: 0.5514 - val_mse: 0.0021 - val_rmse: 0.0463 - 31s/epoch - 55ms/step\n",
      "Epoch 13/300\n",
      "563/563 - 31s - loss: 0.5127 - mse: 0.0011 - rmse: 0.0338 - val_loss: 0.5785 - val_mse: 0.0034 - val_rmse: 0.0586 - 31s/epoch - 55ms/step\n",
      "Epoch 14/300\n",
      "563/563 - 31s - loss: 0.4935 - mse: 9.8567e-04 - rmse: 0.0314 - val_loss: 0.4734 - val_mse: 5.8639e-04 - val_rmse: 0.0242 - 31s/epoch - 55ms/step\n",
      "Epoch 15/300\n",
      "563/563 - 31s - loss: 0.4781 - mse: 9.5243e-04 - rmse: 0.0309 - val_loss: 0.5252 - val_mse: 0.0027 - val_rmse: 0.0516 - 31s/epoch - 55ms/step\n",
      "Epoch 16/300\n",
      "563/563 - 31s - loss: 0.4602 - mse: 8.4007e-04 - rmse: 0.0290 - val_loss: 0.4529 - val_mse: 8.3464e-04 - val_rmse: 0.0289 - 31s/epoch - 56ms/step\n",
      "Epoch 17/300\n",
      "563/563 - 31s - loss: 0.4456 - mse: 8.1766e-04 - rmse: 0.0286 - val_loss: 0.4417 - val_mse: 9.1485e-04 - val_rmse: 0.0302 - 31s/epoch - 55ms/step\n",
      "Epoch 18/300\n",
      "563/563 - 31s - loss: 0.4381 - mse: 0.0010 - rmse: 0.0317 - val_loss: 0.5606 - val_mse: 0.0051 - val_rmse: 0.0711 - 31s/epoch - 55ms/step\n",
      "Epoch 19/300\n",
      "563/563 - 31s - loss: 0.4188 - mse: 7.9665e-04 - rmse: 0.0282 - val_loss: 0.4208 - val_mse: 0.0011 - val_rmse: 0.0325 - 31s/epoch - 55ms/step\n",
      "Epoch 20/300\n",
      "563/563 - 31s - loss: 0.4108 - mse: 9.1228e-04 - rmse: 0.0302 - val_loss: 0.4057 - val_mse: 9.2856e-04 - val_rmse: 0.0305 - 31s/epoch - 55ms/step\n",
      "Epoch 21/300\n",
      "563/563 - 31s - loss: 0.3937 - mse: 7.2096e-04 - rmse: 0.0269 - val_loss: 0.5110 - val_mse: 0.0046 - val_rmse: 0.0676 - 31s/epoch - 55ms/step\n",
      "Epoch 22/300\n",
      "563/563 - 31s - loss: 0.3787 - mse: 5.8397e-04 - rmse: 0.0242 - val_loss: 0.4422 - val_mse: 0.0027 - val_rmse: 0.0524 - 31s/epoch - 55ms/step\n",
      "Epoch 23/300\n",
      "563/563 - 31s - loss: 0.3687 - mse: 5.9443e-04 - rmse: 0.0244 - val_loss: 0.4244 - val_mse: 0.0025 - val_rmse: 0.0501 - 31s/epoch - 55ms/step\n",
      "Epoch 24/300\n",
      "563/563 - 31s - loss: 0.3585 - mse: 5.9269e-04 - rmse: 0.0243 - val_loss: 0.3532 - val_mse: 5.8337e-04 - val_rmse: 0.0242 - 31s/epoch - 55ms/step\n",
      "Epoch 25/300\n",
      "563/563 - 31s - loss: 0.3451 - mse: 4.7802e-04 - rmse: 0.0219 - val_loss: 0.3644 - val_mse: 0.0012 - val_rmse: 0.0352 - 31s/epoch - 55ms/step\n",
      "Epoch 26/300\n",
      "563/563 - 31s - loss: 0.3402 - mse: 6.1109e-04 - rmse: 0.0247 - val_loss: 0.3618 - val_mse: 0.0014 - val_rmse: 0.0378 - 31s/epoch - 55ms/step\n",
      "Epoch 27/300\n",
      "563/563 - 31s - loss: 0.3286 - mse: 5.1241e-04 - rmse: 0.0226 - val_loss: 0.3344 - val_mse: 8.2947e-04 - val_rmse: 0.0288 - 31s/epoch - 55ms/step\n",
      "Epoch 28/300\n",
      "563/563 - 31s - loss: 0.3192 - mse: 4.8183e-04 - rmse: 0.0220 - val_loss: 0.3273 - val_mse: 8.7265e-04 - val_rmse: 0.0295 - 31s/epoch - 55ms/step\n",
      "Epoch 29/300\n",
      "563/563 - 31s - loss: 0.3115 - mse: 5.0611e-04 - rmse: 0.0225 - val_loss: 0.3135 - val_mse: 7.0263e-04 - val_rmse: 0.0265 - 31s/epoch - 55ms/step\n",
      "Epoch 30/300\n",
      "563/563 - 31s - loss: 0.3013 - mse: 4.4858e-04 - rmse: 0.0212 - val_loss: 0.3047 - val_mse: 6.8859e-04 - val_rmse: 0.0262 - 31s/epoch - 55ms/step\n",
      "Epoch 31/300\n",
      "563/563 - 31s - loss: 0.2925 - mse: 4.2985e-04 - rmse: 0.0207 - val_loss: 0.3035 - val_mse: 9.0560e-04 - val_rmse: 0.0301 - 31s/epoch - 56ms/step\n",
      "Epoch 32/300\n",
      "563/563 - 31s - loss: 0.2837 - mse: 4.1233e-04 - rmse: 0.0203 - val_loss: 0.2856 - val_mse: 6.0164e-04 - val_rmse: 0.0245 - 31s/epoch - 55ms/step\n",
      "Epoch 33/300\n",
      "563/563 - 31s - loss: 0.2787 - mse: 5.0497e-04 - rmse: 0.0225 - val_loss: 0.2776 - val_mse: 5.9490e-04 - val_rmse: 0.0244 - 31s/epoch - 55ms/step\n",
      "Epoch 34/300\n",
      "563/563 - 31s - loss: 0.2695 - mse: 4.5118e-04 - rmse: 0.0212 - val_loss: 0.2750 - val_mse: 7.4192e-04 - val_rmse: 0.0272 - 31s/epoch - 55ms/step\n",
      "Epoch 35/300\n",
      "563/563 - 31s - loss: 0.2609 - mse: 4.1218e-04 - rmse: 0.0203 - val_loss: 0.3285 - val_mse: 0.0026 - val_rmse: 0.0515 - 31s/epoch - 55ms/step\n",
      "Epoch 36/300\n",
      "563/563 - 31s - loss: 0.2523 - mse: 3.7310e-04 - rmse: 0.0193 - val_loss: 0.2576 - val_mse: 6.5753e-04 - val_rmse: 0.0256 - 31s/epoch - 55ms/step\n",
      "Epoch 37/300\n",
      "563/563 - 31s - loss: 0.2452 - mse: 3.8215e-04 - rmse: 0.0195 - val_loss: 0.2494 - val_mse: 6.2945e-04 - val_rmse: 0.0251 - 31s/epoch - 55ms/step\n",
      "Epoch 38/300\n",
      "563/563 - 31s - loss: 0.2398 - mse: 4.3585e-04 - rmse: 0.0209 - val_loss: 0.2400 - val_mse: 5.4386e-04 - val_rmse: 0.0233 - 31s/epoch - 55ms/step\n",
      "Epoch 39/300\n",
      "563/563 - 31s - loss: 0.2324 - mse: 3.9862e-04 - rmse: 0.0200 - val_loss: 0.2879 - val_mse: 0.0022 - val_rmse: 0.0473 - 31s/epoch - 55ms/step\n",
      "Epoch 40/300\n",
      "563/563 - 31s - loss: 0.2245 - mse: 3.5051e-04 - rmse: 0.0187 - val_loss: 0.2354 - val_mse: 7.9543e-04 - val_rmse: 0.0282 - 31s/epoch - 55ms/step\n",
      "Epoch 41/300\n",
      "563/563 - 31s - loss: 0.2186 - mse: 3.6599e-04 - rmse: 0.0191 - val_loss: 0.2185 - val_mse: 4.6650e-04 - val_rmse: 0.0216 - 31s/epoch - 55ms/step\n",
      "Epoch 42/300\n",
      "563/563 - 31s - loss: 0.2120 - mse: 3.6011e-04 - rmse: 0.0190 - val_loss: 0.2194 - val_mse: 6.9306e-04 - val_rmse: 0.0263 - 31s/epoch - 55ms/step\n",
      "Epoch 43/300\n",
      "563/563 - 31s - loss: 0.2047 - mse: 3.2636e-04 - rmse: 0.0181 - val_loss: 0.2104 - val_mse: 6.0597e-04 - val_rmse: 0.0246 - 31s/epoch - 55ms/step\n",
      "Epoch 44/300\n",
      "563/563 - 31s - loss: 0.1982 - mse: 3.2135e-04 - rmse: 0.0179 - val_loss: 0.2206 - val_mse: 0.0011 - val_rmse: 0.0335 - 31s/epoch - 55ms/step\n",
      "Epoch 45/300\n",
      "563/563 - 31s - loss: 0.1919 - mse: 3.1835e-04 - rmse: 0.0178 - val_loss: 0.1971 - val_mse: 5.8035e-04 - val_rmse: 0.0241 - 31s/epoch - 55ms/step\n",
      "Epoch 46/300\n",
      "563/563 - 31s - loss: 0.1864 - mse: 3.3417e-04 - rmse: 0.0183 - val_loss: 0.1860 - val_mse: 4.1217e-04 - val_rmse: 0.0203 - 31s/epoch - 55ms/step\n",
      "Epoch 47/300\n",
      "563/563 - 31s - loss: 0.1800 - mse: 3.1334e-04 - rmse: 0.0177 - val_loss: 0.1781 - val_mse: 3.4113e-04 - val_rmse: 0.0185 - 31s/epoch - 55ms/step\n",
      "Epoch 48/300\n",
      "563/563 - 31s - loss: 0.1747 - mse: 3.2202e-04 - rmse: 0.0179 - val_loss: 0.1733 - val_mse: 3.6656e-04 - val_rmse: 0.0191 - 31s/epoch - 55ms/step\n",
      "Epoch 49/300\n",
      "563/563 - 31s - loss: 0.1678 - mse: 2.7947e-04 - rmse: 0.0167 - val_loss: 0.1665 - val_mse: 3.2910e-04 - val_rmse: 0.0181 - 31s/epoch - 55ms/step\n",
      "Epoch 50/300\n",
      "563/563 - 31s - loss: 0.1642 - mse: 3.3363e-04 - rmse: 0.0183 - val_loss: 0.1943 - val_mse: 0.0014 - val_rmse: 0.0369 - 31s/epoch - 55ms/step\n",
      "Epoch 51/300\n",
      "563/563 - 31s - loss: 0.1578 - mse: 2.9335e-04 - rmse: 0.0171 - val_loss: 0.1542 - val_mse: 2.5994e-04 - val_rmse: 0.0161 - 31s/epoch - 55ms/step\n",
      "Epoch 52/300\n",
      "563/563 - 31s - loss: 0.1528 - mse: 2.9102e-04 - rmse: 0.0171 - val_loss: 0.2255 - val_mse: 0.0027 - val_rmse: 0.0515 - 31s/epoch - 55ms/step\n",
      "Epoch 53/300\n",
      "563/563 - 31s - loss: 0.1483 - mse: 3.0194e-04 - rmse: 0.0174 - val_loss: 0.1477 - val_mse: 3.4131e-04 - val_rmse: 0.0185 - 31s/epoch - 55ms/step\n",
      "Epoch 54/300\n",
      "563/563 - 31s - loss: 0.1430 - mse: 2.6634e-04 - rmse: 0.0163 - val_loss: 0.1396 - val_mse: 2.3051e-04 - val_rmse: 0.0152 - 31s/epoch - 55ms/step\n",
      "Epoch 55/300\n",
      "563/563 - 31s - loss: 0.1385 - mse: 2.6548e-04 - rmse: 0.0163 - val_loss: 0.1416 - val_mse: 4.3436e-04 - val_rmse: 0.0208 - 31s/epoch - 55ms/step\n",
      "Epoch 56/300\n",
      "563/563 - 31s - loss: 0.1340 - mse: 2.6228e-04 - rmse: 0.0162 - val_loss: 0.1310 - val_mse: 2.3742e-04 - val_rmse: 0.0154 - 31s/epoch - 55ms/step\n",
      "Epoch 57/300\n",
      "563/563 - 31s - loss: 0.1299 - mse: 2.6261e-04 - rmse: 0.0162 - val_loss: 0.1312 - val_mse: 3.6870e-04 - val_rmse: 0.0192 - 31s/epoch - 55ms/step\n",
      "Epoch 58/300\n",
      "563/563 - 31s - loss: 0.1253 - mse: 2.4710e-04 - rmse: 0.0157 - val_loss: 0.1337 - val_mse: 5.7763e-04 - val_rmse: 0.0240 - 31s/epoch - 55ms/step\n",
      "Epoch 59/300\n",
      "563/563 - 31s - loss: 0.1224 - mse: 2.7189e-04 - rmse: 0.0165 - val_loss: 0.1200 - val_mse: 2.5040e-04 - val_rmse: 0.0158 - 31s/epoch - 55ms/step\n",
      "Epoch 60/300\n",
      "563/563 - 31s - loss: 0.1177 - mse: 2.3438e-04 - rmse: 0.0153 - val_loss: 0.1182 - val_mse: 3.0756e-04 - val_rmse: 0.0175 - 31s/epoch - 55ms/step\n",
      "Epoch 61/300\n",
      "563/563 - 31s - loss: 0.1139 - mse: 2.2867e-04 - rmse: 0.0151 - val_loss: 0.1177 - val_mse: 4.0139e-04 - val_rmse: 0.0200 - 31s/epoch - 56ms/step\n",
      "Epoch 62/300\n",
      "563/563 - 31s - loss: 0.1103 - mse: 2.2554e-04 - rmse: 0.0150 - val_loss: 0.1088 - val_mse: 2.3581e-04 - val_rmse: 0.0154 - 31s/epoch - 55ms/step\n",
      "Epoch 63/300\n",
      "563/563 - 31s - loss: 0.1071 - mse: 2.3128e-04 - rmse: 0.0152 - val_loss: 0.1046 - val_mse: 2.0784e-04 - val_rmse: 0.0144 - 31s/epoch - 55ms/step\n",
      "Epoch 64/300\n",
      "563/563 - 31s - loss: 0.1039 - mse: 2.3187e-04 - rmse: 0.0152 - val_loss: 0.1032 - val_mse: 2.3871e-04 - val_rmse: 0.0155 - 31s/epoch - 55ms/step\n",
      "Epoch 65/300\n",
      "563/563 - 31s - loss: 0.1009 - mse: 2.1716e-04 - rmse: 0.0147 - val_loss: 0.1011 - val_mse: 2.7631e-04 - val_rmse: 0.0166 - 31s/epoch - 55ms/step\n",
      "Epoch 66/300\n",
      "563/563 - 31s - loss: 0.0978 - mse: 2.1704e-04 - rmse: 0.0147 - val_loss: 0.1010 - val_mse: 3.6474e-04 - val_rmse: 0.0191 - 31s/epoch - 55ms/step\n",
      "Epoch 67/300\n",
      "563/563 - 31s - loss: 0.0947 - mse: 2.0762e-04 - rmse: 0.0144 - val_loss: 0.0970 - val_mse: 3.1999e-04 - val_rmse: 0.0179 - 31s/epoch - 55ms/step\n",
      "Epoch 68/300\n",
      "563/563 - 31s - loss: 0.0925 - mse: 2.1606e-04 - rmse: 0.0147 - val_loss: 0.0920 - val_mse: 2.4248e-04 - val_rmse: 0.0156 - 31s/epoch - 55ms/step\n",
      "Epoch 69/300\n",
      "563/563 - 31s - loss: 0.0901 - mse: 2.1532e-04 - rmse: 0.0147 - val_loss: 0.0906 - val_mse: 2.4957e-04 - val_rmse: 0.0158 - 31s/epoch - 55ms/step\n",
      "Epoch 70/300\n",
      "563/563 - 31s - loss: 0.0878 - mse: 2.0177e-04 - rmse: 0.0142 - val_loss: 0.0878 - val_mse: 2.4360e-04 - val_rmse: 0.0156 - 31s/epoch - 55ms/step\n",
      "Epoch 71/300\n",
      "563/563 - 31s - loss: 0.0855 - mse: 2.0315e-04 - rmse: 0.0143 - val_loss: 0.0887 - val_mse: 3.4195e-04 - val_rmse: 0.0185 - 31s/epoch - 55ms/step\n",
      "Epoch 72/300\n",
      "563/563 - 31s - loss: 0.0833 - mse: 2.0119e-04 - rmse: 0.0142 - val_loss: 0.0893 - val_mse: 4.2254e-04 - val_rmse: 0.0206 - 31s/epoch - 55ms/step\n",
      "Epoch 73/300\n",
      "563/563 - 31s - loss: 0.0812 - mse: 1.9623e-04 - rmse: 0.0140 - val_loss: 0.0819 - val_mse: 2.4822e-04 - val_rmse: 0.0158 - 31s/epoch - 55ms/step\n",
      "Epoch 74/300\n",
      "563/563 - 31s - loss: 0.0789 - mse: 1.8554e-04 - rmse: 0.0136 - val_loss: 0.0825 - val_mse: 3.3157e-04 - val_rmse: 0.0182 - 31s/epoch - 55ms/step\n",
      "Epoch 75/300\n",
      "563/563 - 31s - loss: 0.0775 - mse: 1.9977e-04 - rmse: 0.0141 - val_loss: 0.0762 - val_mse: 1.9108e-04 - val_rmse: 0.0138 - 31s/epoch - 55ms/step\n",
      "Epoch 76/300\n",
      "563/563 - 31s - loss: 0.0750 - mse: 1.8076e-04 - rmse: 0.0134 - val_loss: 0.0748 - val_mse: 2.0718e-04 - val_rmse: 0.0144 - 31s/epoch - 56ms/step\n",
      "Epoch 77/300\n",
      "563/563 - 31s - loss: 0.0739 - mse: 2.0068e-04 - rmse: 0.0142 - val_loss: 0.0742 - val_mse: 2.2520e-04 - val_rmse: 0.0150 - 31s/epoch - 55ms/step\n",
      "Epoch 78/300\n",
      "563/563 - 31s - loss: 0.0716 - mse: 1.7684e-04 - rmse: 0.0133 - val_loss: 0.0706 - val_mse: 1.7450e-04 - val_rmse: 0.0132 - 31s/epoch - 55ms/step\n",
      "Epoch 79/300\n",
      "563/563 - 31s - loss: 0.0698 - mse: 1.7426e-04 - rmse: 0.0132 - val_loss: 0.0695 - val_mse: 1.9053e-04 - val_rmse: 0.0138 - 31s/epoch - 55ms/step\n",
      "Epoch 80/300\n",
      "563/563 - 31s - loss: 0.0690 - mse: 1.8545e-04 - rmse: 0.0136 - val_loss: 0.0691 - val_mse: 2.0905e-04 - val_rmse: 0.0145 - 31s/epoch - 55ms/step\n",
      "Epoch 81/300\n",
      "563/563 - 31s - loss: 0.0670 - mse: 1.7145e-04 - rmse: 0.0131 - val_loss: 0.0728 - val_mse: 3.7858e-04 - val_rmse: 0.0195 - 31s/epoch - 55ms/step\n",
      "Epoch 82/300\n",
      "563/563 - 31s - loss: 0.0656 - mse: 1.7432e-04 - rmse: 0.0132 - val_loss: 0.0659 - val_mse: 2.0686e-04 - val_rmse: 0.0144 - 31s/epoch - 55ms/step\n",
      "Epoch 83/300\n",
      "563/563 - 31s - loss: 0.0641 - mse: 1.6964e-04 - rmse: 0.0130 - val_loss: 0.0634 - val_mse: 1.7403e-04 - val_rmse: 0.0132 - 31s/epoch - 55ms/step\n",
      "Epoch 84/300\n",
      "563/563 - 31s - loss: 0.0623 - mse: 1.6090e-04 - rmse: 0.0127 - val_loss: 0.0621 - val_mse: 1.7886e-04 - val_rmse: 0.0134 - 31s/epoch - 55ms/step\n",
      "Epoch 85/300\n",
      "563/563 - 31s - loss: 0.0614 - mse: 1.6961e-04 - rmse: 0.0130 - val_loss: 0.0612 - val_mse: 1.8212e-04 - val_rmse: 0.0135 - 31s/epoch - 55ms/step\n",
      "Epoch 86/300\n",
      "563/563 - 31s - loss: 0.0599 - mse: 1.6594e-04 - rmse: 0.0129 - val_loss: 0.0593 - val_mse: 1.7209e-04 - val_rmse: 0.0131 - 31s/epoch - 55ms/step\n",
      "Epoch 87/300\n",
      "563/563 - 31s - loss: 0.0582 - mse: 1.5754e-04 - rmse: 0.0126 - val_loss: 0.0593 - val_mse: 2.1310e-04 - val_rmse: 0.0146 - 31s/epoch - 55ms/step\n",
      "Epoch 88/300\n",
      "563/563 - 31s - loss: 0.0575 - mse: 1.6648e-04 - rmse: 0.0129 - val_loss: 0.0571 - val_mse: 1.7892e-04 - val_rmse: 0.0134 - 31s/epoch - 55ms/step\n",
      "Epoch 89/300\n",
      "563/563 - 31s - loss: 0.0558 - mse: 1.5589e-04 - rmse: 0.0125 - val_loss: 0.0562 - val_mse: 1.9072e-04 - val_rmse: 0.0138 - 31s/epoch - 55ms/step\n",
      "Epoch 90/300\n",
      "563/563 - 31s - loss: 0.0544 - mse: 1.5252e-04 - rmse: 0.0123 - val_loss: 0.0561 - val_mse: 2.1968e-04 - val_rmse: 0.0148 - 31s/epoch - 55ms/step\n",
      "Epoch 91/300\n",
      "563/563 - 31s - loss: 0.0536 - mse: 1.5738e-04 - rmse: 0.0125 - val_loss: 0.0535 - val_mse: 1.7949e-04 - val_rmse: 0.0134 - 31s/epoch - 56ms/step\n",
      "Epoch 92/300\n",
      "563/563 - 31s - loss: 0.0523 - mse: 1.6243e-04 - rmse: 0.0127 - val_loss: 0.0670 - val_mse: 6.2012e-04 - val_rmse: 0.0249 - 31s/epoch - 55ms/step\n",
      "Epoch 93/300\n",
      "563/563 - 31s - loss: 0.0517 - mse: 1.5918e-04 - rmse: 0.0126 - val_loss: 0.0513 - val_mse: 1.6793e-04 - val_rmse: 0.0130 - 31s/epoch - 55ms/step\n",
      "Epoch 94/300\n",
      "563/563 - 31s - loss: 0.0502 - mse: 1.5051e-04 - rmse: 0.0123 - val_loss: 0.0512 - val_mse: 2.0049e-04 - val_rmse: 0.0142 - 31s/epoch - 55ms/step\n",
      "Epoch 95/300\n",
      "563/563 - 31s - loss: 0.0488 - mse: 1.4280e-04 - rmse: 0.0119 - val_loss: 0.0489 - val_mse: 1.6117e-04 - val_rmse: 0.0127 - 31s/epoch - 55ms/step\n",
      "Epoch 96/300\n",
      "563/563 - 31s - loss: 0.0478 - mse: 1.4367e-04 - rmse: 0.0120 - val_loss: 0.0484 - val_mse: 1.8003e-04 - val_rmse: 0.0134 - 31s/epoch - 55ms/step\n",
      "Epoch 97/300\n",
      "563/563 - 31s - loss: 0.0484 - mse: 1.8919e-04 - rmse: 0.0138 - val_loss: 0.0562 - val_mse: 4.0233e-04 - val_rmse: 0.0201 - 31s/epoch - 55ms/step\n",
      "Epoch 98/300\n",
      "563/563 - 31s - loss: 0.0475 - mse: 1.5301e-04 - rmse: 0.0124 - val_loss: 0.0479 - val_mse: 1.8540e-04 - val_rmse: 0.0136 - 31s/epoch - 55ms/step\n",
      "Epoch 99/300\n",
      "563/563 - 31s - loss: 0.0462 - mse: 1.4849e-04 - rmse: 0.0122 - val_loss: 0.0473 - val_mse: 1.9695e-04 - val_rmse: 0.0140 - 31s/epoch - 55ms/step\n",
      "Epoch 100/300\n",
      "563/563 - 31s - loss: 0.0452 - mse: 1.4382e-04 - rmse: 0.0120 - val_loss: 0.0458 - val_mse: 1.7556e-04 - val_rmse: 0.0132 - 31s/epoch - 55ms/step\n",
      "Epoch 101/300\n",
      "563/563 - 31s - loss: 0.0443 - mse: 1.4119e-04 - rmse: 0.0119 - val_loss: 0.0443 - val_mse: 1.5474e-04 - val_rmse: 0.0124 - 31s/epoch - 55ms/step\n",
      "Epoch 102/300\n",
      "563/563 - 31s - loss: 0.0434 - mse: 1.3959e-04 - rmse: 0.0118 - val_loss: 0.0455 - val_mse: 2.1867e-04 - val_rmse: 0.0148 - 31s/epoch - 55ms/step\n",
      "Epoch 103/300\n",
      "563/563 - 31s - loss: 0.0423 - mse: 1.3444e-04 - rmse: 0.0116 - val_loss: 0.0426 - val_mse: 1.5795e-04 - val_rmse: 0.0126 - 31s/epoch - 55ms/step\n",
      "Epoch 104/300\n",
      "563/563 - 31s - loss: 0.0414 - mse: 1.3747e-04 - rmse: 0.0117 - val_loss: 0.0420 - val_mse: 1.7543e-04 - val_rmse: 0.0132 - 31s/epoch - 55ms/step\n",
      "Epoch 105/300\n",
      "563/563 - 31s - loss: 0.0408 - mse: 1.4357e-04 - rmse: 0.0120 - val_loss: 0.0424 - val_mse: 2.1160e-04 - val_rmse: 0.0145 - 31s/epoch - 55ms/step\n",
      "Epoch 106/300\n",
      "563/563 - 31s - loss: 0.0393 - mse: 1.3238e-04 - rmse: 0.0115 - val_loss: 0.0411 - val_mse: 2.0289e-04 - val_rmse: 0.0142 - 31s/epoch - 56ms/step\n",
      "Epoch 107/300\n",
      "563/563 - 31s - loss: 0.0386 - mse: 1.3739e-04 - rmse: 0.0117 - val_loss: 0.0401 - val_mse: 1.9860e-04 - val_rmse: 0.0141 - 31s/epoch - 55ms/step\n",
      "Epoch 108/300\n",
      "563/563 - 31s - loss: 0.0377 - mse: 1.3792e-04 - rmse: 0.0117 - val_loss: 0.0396 - val_mse: 2.0391e-04 - val_rmse: 0.0143 - 31s/epoch - 55ms/step\n",
      "Epoch 109/300\n",
      "563/563 - 31s - loss: 0.0368 - mse: 1.3492e-04 - rmse: 0.0116 - val_loss: 0.0375 - val_mse: 1.7613e-04 - val_rmse: 0.0133 - 31s/epoch - 55ms/step\n",
      "Epoch 110/300\n",
      "563/563 - 31s - loss: 0.0359 - mse: 1.3410e-04 - rmse: 0.0116 - val_loss: 0.0363 - val_mse: 1.5694e-04 - val_rmse: 0.0125 - 31s/epoch - 55ms/step\n",
      "Epoch 111/300\n",
      "563/563 - 31s - loss: 0.0350 - mse: 1.3170e-04 - rmse: 0.0115 - val_loss: 0.0354 - val_mse: 1.5915e-04 - val_rmse: 0.0126 - 31s/epoch - 55ms/step\n",
      "Epoch 112/300\n",
      "563/563 - 31s - loss: 0.0341 - mse: 1.2993e-04 - rmse: 0.0114 - val_loss: 0.0350 - val_mse: 1.7264e-04 - val_rmse: 0.0131 - 31s/epoch - 55ms/step\n",
      "Epoch 113/300\n",
      "563/563 - 31s - loss: 0.0331 - mse: 1.2837e-04 - rmse: 0.0113 - val_loss: 0.0373 - val_mse: 2.5560e-04 - val_rmse: 0.0160 - 31s/epoch - 55ms/step\n",
      "Epoch 114/300\n",
      "563/563 - 31s - loss: 0.0326 - mse: 1.3082e-04 - rmse: 0.0114 - val_loss: 0.0329 - val_mse: 1.5774e-04 - val_rmse: 0.0126 - 31s/epoch - 55ms/step\n",
      "Epoch 115/300\n",
      "563/563 - 31s - loss: 0.0316 - mse: 1.2967e-04 - rmse: 0.0114 - val_loss: 0.0710 - val_mse: 0.0014 - val_rmse: 0.0371 - 31s/epoch - 55ms/step\n",
      "Epoch 116/300\n",
      "563/563 - 31s - loss: 0.0372 - mse: 2.7917e-04 - rmse: 0.0167 - val_loss: 0.0376 - val_mse: 3.0449e-04 - val_rmse: 0.0174 - 31s/epoch - 55ms/step\n",
      "Epoch 117/300\n",
      "563/563 - 31s - loss: 0.0329 - mse: 1.6515e-04 - rmse: 0.0129 - val_loss: 0.0450 - val_mse: 5.5637e-04 - val_rmse: 0.0236 - 31s/epoch - 55ms/step\n",
      "Epoch 118/300\n",
      "563/563 - 31s - loss: 0.0325 - mse: 1.6998e-04 - rmse: 0.0130 - val_loss: 0.0317 - val_mse: 1.5297e-04 - val_rmse: 0.0124 - 31s/epoch - 55ms/step\n",
      "Epoch 119/300\n",
      "563/563 - 31s - loss: 0.0315 - mse: 1.5188e-04 - rmse: 0.0123 - val_loss: 0.0318 - val_mse: 1.7216e-04 - val_rmse: 0.0131 - 31s/epoch - 55ms/step\n",
      "Epoch 120/300\n",
      "563/563 - 31s - loss: 0.0311 - mse: 1.5450e-04 - rmse: 0.0124 - val_loss: 0.0338 - val_mse: 2.4834e-04 - val_rmse: 0.0158 - 31s/epoch - 55ms/step\n",
      "Epoch 121/300\n",
      "563/563 - 31s - loss: 0.0302 - mse: 1.4231e-04 - rmse: 0.0119 - val_loss: 0.0336 - val_mse: 2.5918e-04 - val_rmse: 0.0161 - 31s/epoch - 56ms/step\n",
      "Epoch 122/300\n",
      "563/563 - 31s - loss: 0.0300 - mse: 1.5323e-04 - rmse: 0.0124 - val_loss: 0.0329 - val_mse: 2.5316e-04 - val_rmse: 0.0159 - 31s/epoch - 55ms/step\n",
      "Epoch 123/300\n",
      "563/563 - 31s - loss: 0.0292 - mse: 1.4594e-04 - rmse: 0.0121 - val_loss: 0.0321 - val_mse: 2.4831e-04 - val_rmse: 0.0158 - 31s/epoch - 55ms/step\n",
      "Epoch 124/300\n",
      "563/563 - 31s - loss: 0.0284 - mse: 1.3979e-04 - rmse: 0.0118 - val_loss: 0.0310 - val_mse: 2.3294e-04 - val_rmse: 0.0153 - 31s/epoch - 55ms/step\n",
      "Epoch 125/300\n",
      "563/563 - 31s - loss: 0.0284 - mse: 1.5687e-04 - rmse: 0.0125 - val_loss: 0.0278 - val_mse: 1.4375e-04 - val_rmse: 0.0120 - 31s/epoch - 55ms/step\n",
      "Epoch 126/300\n",
      "563/563 - 31s - loss: 0.0270 - mse: 1.3121e-04 - rmse: 0.0115 - val_loss: 0.0274 - val_mse: 1.5611e-04 - val_rmse: 0.0125 - 31s/epoch - 55ms/step\n",
      "Epoch 127/300\n",
      "563/563 - 31s - loss: 0.0267 - mse: 1.4171e-04 - rmse: 0.0119 - val_loss: 0.0267 - val_mse: 1.4733e-04 - val_rmse: 0.0121 - 31s/epoch - 55ms/step\n",
      "Epoch 128/300\n",
      "563/563 - 31s - loss: 0.0257 - mse: 1.2820e-04 - rmse: 0.0113 - val_loss: 0.0259 - val_mse: 1.4592e-04 - val_rmse: 0.0121 - 31s/epoch - 55ms/step\n",
      "Epoch 129/300\n",
      "563/563 - 31s - loss: 0.0250 - mse: 1.2809e-04 - rmse: 0.0113 - val_loss: 0.0250 - val_mse: 1.4144e-04 - val_rmse: 0.0119 - 31s/epoch - 55ms/step\n",
      "Epoch 130/300\n",
      "563/563 - 31s - loss: 0.0242 - mse: 1.2504e-04 - rmse: 0.0112 - val_loss: 0.0243 - val_mse: 1.4314e-04 - val_rmse: 0.0120 - 31s/epoch - 55ms/step\n",
      "Epoch 131/300\n",
      "563/563 - 31s - loss: 0.0234 - mse: 1.2482e-04 - rmse: 0.0112 - val_loss: 0.0235 - val_mse: 1.4237e-04 - val_rmse: 0.0119 - 31s/epoch - 55ms/step\n",
      "Epoch 132/300\n",
      "563/563 - 31s - loss: 0.0225 - mse: 1.2453e-04 - rmse: 0.0112 - val_loss: 0.0223 - val_mse: 1.3513e-04 - val_rmse: 0.0116 - 31s/epoch - 55ms/step\n",
      "Epoch 133/300\n",
      "563/563 - 31s - loss: 0.0217 - mse: 1.2920e-04 - rmse: 0.0114 - val_loss: 0.0223 - val_mse: 1.6142e-04 - val_rmse: 0.0127 - 31s/epoch - 55ms/step\n",
      "Epoch 134/300\n",
      "563/563 - 31s - loss: 0.0208 - mse: 1.2777e-04 - rmse: 0.0113 - val_loss: 0.0209 - val_mse: 1.4467e-04 - val_rmse: 0.0120 - 31s/epoch - 55ms/step\n",
      "Epoch 135/300\n",
      "563/563 - 31s - loss: 0.0198 - mse: 1.2172e-04 - rmse: 0.0110 - val_loss: 0.0220 - val_mse: 2.0499e-04 - val_rmse: 0.0143 - 31s/epoch - 55ms/step\n",
      "Epoch 136/300\n",
      "563/563 - 31s - loss: 0.0190 - mse: 1.2024e-04 - rmse: 0.0110 - val_loss: 0.0221 - val_mse: 2.3193e-04 - val_rmse: 0.0152 - 31s/epoch - 56ms/step\n",
      "Epoch 137/300\n",
      "563/563 - 31s - loss: 0.0181 - mse: 1.1868e-04 - rmse: 0.0109 - val_loss: 0.0185 - val_mse: 1.4806e-04 - val_rmse: 0.0122 - 31s/epoch - 55ms/step\n",
      "Epoch 138/300\n",
      "563/563 - 31s - loss: 0.0172 - mse: 1.1773e-04 - rmse: 0.0109 - val_loss: 0.0189 - val_mse: 1.8704e-04 - val_rmse: 0.0137 - 31s/epoch - 55ms/step\n",
      "Epoch 139/300\n",
      "563/563 - 31s - loss: 0.0164 - mse: 1.1923e-04 - rmse: 0.0109 - val_loss: 0.0168 - val_mse: 1.4347e-04 - val_rmse: 0.0120 - 31s/epoch - 55ms/step\n",
      "Epoch 140/300\n",
      "563/563 - 31s - loss: 0.0156 - mse: 1.1853e-04 - rmse: 0.0109 - val_loss: 0.0158 - val_mse: 1.3639e-04 - val_rmse: 0.0117 - 31s/epoch - 55ms/step\n",
      "Epoch 141/300\n",
      "563/563 - 31s - loss: 0.0149 - mse: 1.1764e-04 - rmse: 0.0108 - val_loss: 0.0234 - val_mse: 3.9770e-04 - val_rmse: 0.0199 - 31s/epoch - 55ms/step\n",
      "Epoch 142/300\n",
      "563/563 - 31s - loss: 0.0143 - mse: 1.1791e-04 - rmse: 0.0109 - val_loss: 0.0148 - val_mse: 1.4827e-04 - val_rmse: 0.0122 - 31s/epoch - 55ms/step\n",
      "Epoch 143/300\n",
      "563/563 - 31s - loss: 0.0136 - mse: 1.1797e-04 - rmse: 0.0109 - val_loss: 0.0161 - val_mse: 2.0613e-04 - val_rmse: 0.0144 - 31s/epoch - 55ms/step\n",
      "Epoch 144/300\n",
      "563/563 - 31s - loss: 0.0134 - mse: 1.2319e-04 - rmse: 0.0111 - val_loss: 0.0140 - val_mse: 1.5310e-04 - val_rmse: 0.0124 - 31s/epoch - 55ms/step\n",
      "Epoch 145/300\n",
      "563/563 - 31s - loss: 0.0126 - mse: 1.1348e-04 - rmse: 0.0107 - val_loss: 0.0133 - val_mse: 1.4518e-04 - val_rmse: 0.0120 - 31s/epoch - 55ms/step\n",
      "Epoch 146/300\n",
      "563/563 - 31s - loss: 0.0123 - mse: 1.1638e-04 - rmse: 0.0108 - val_loss: 0.0124 - val_mse: 1.2448e-04 - val_rmse: 0.0112 - 31s/epoch - 55ms/step\n",
      "Epoch 147/300\n",
      "563/563 - 31s - loss: 0.0117 - mse: 1.1186e-04 - rmse: 0.0106 - val_loss: 0.0186 - val_mse: 3.3469e-04 - val_rmse: 0.0183 - 31s/epoch - 55ms/step\n",
      "Epoch 148/300\n",
      "563/563 - 31s - loss: 0.0114 - mse: 1.1330e-04 - rmse: 0.0106 - val_loss: 0.0129 - val_mse: 1.6741e-04 - val_rmse: 0.0129 - 31s/epoch - 55ms/step\n",
      "Epoch 149/300\n",
      "563/563 - 31s - loss: 0.0112 - mse: 1.1549e-04 - rmse: 0.0107 - val_loss: 0.0114 - val_mse: 1.2571e-04 - val_rmse: 0.0112 - 31s/epoch - 55ms/step\n",
      "Epoch 150/300\n",
      "563/563 - 31s - loss: 0.0106 - mse: 1.1002e-04 - rmse: 0.0105 - val_loss: 0.0114 - val_mse: 1.4153e-04 - val_rmse: 0.0119 - 31s/epoch - 55ms/step\n",
      "Epoch 151/300\n",
      "563/563 - 31s - loss: 0.0104 - mse: 1.1262e-04 - rmse: 0.0106 - val_loss: 0.0151 - val_mse: 2.6249e-04 - val_rmse: 0.0162 - 31s/epoch - 56ms/step\n",
      "Epoch 152/300\n",
      "563/563 - 31s - loss: 0.0100 - mse: 1.0992e-04 - rmse: 0.0105 - val_loss: 0.0102 - val_mse: 1.2412e-04 - val_rmse: 0.0111 - 31s/epoch - 55ms/step\n",
      "Epoch 153/300\n",
      "563/563 - 31s - loss: 0.0097 - mse: 1.1050e-04 - rmse: 0.0105 - val_loss: 0.0108 - val_mse: 1.5014e-04 - val_rmse: 0.0123 - 31s/epoch - 55ms/step\n",
      "Epoch 154/300\n",
      "563/563 - 31s - loss: 0.0094 - mse: 1.1103e-04 - rmse: 0.0105 - val_loss: 0.0108 - val_mse: 1.6176e-04 - val_rmse: 0.0127 - 31s/epoch - 55ms/step\n",
      "Epoch 155/300\n",
      "563/563 - 31s - loss: 0.0090 - mse: 1.0844e-04 - rmse: 0.0104 - val_loss: 0.0110 - val_mse: 1.7702e-04 - val_rmse: 0.0133 - 31s/epoch - 55ms/step\n",
      "Epoch 156/300\n",
      "563/563 - 31s - loss: 0.0089 - mse: 1.1143e-04 - rmse: 0.0106 - val_loss: 0.0096 - val_mse: 1.4114e-04 - val_rmse: 0.0119 - 31s/epoch - 55ms/step\n",
      "Epoch 157/300\n",
      "563/563 - 31s - loss: 0.0085 - mse: 1.0730e-04 - rmse: 0.0104 - val_loss: 0.0118 - val_mse: 2.1947e-04 - val_rmse: 0.0148 - 31s/epoch - 55ms/step\n",
      "Epoch 158/300\n",
      "563/563 - 31s - loss: 0.0084 - mse: 1.1017e-04 - rmse: 0.0105 - val_loss: 0.0089 - val_mse: 1.3472e-04 - val_rmse: 0.0116 - 31s/epoch - 55ms/step\n",
      "Epoch 159/300\n",
      "563/563 - 31s - loss: 0.0082 - mse: 1.0903e-04 - rmse: 0.0104 - val_loss: 0.0155 - val_mse: 3.4523e-04 - val_rmse: 0.0186 - 31s/epoch - 55ms/step\n",
      "Epoch 160/300\n",
      "563/563 - 31s - loss: 0.0079 - mse: 1.0767e-04 - rmse: 0.0104 - val_loss: 0.0093 - val_mse: 1.5604e-04 - val_rmse: 0.0125 - 31s/epoch - 55ms/step\n",
      "Epoch 161/300\n",
      "563/563 - 31s - loss: 0.0077 - mse: 1.0732e-04 - rmse: 0.0104 - val_loss: 0.0185 - val_mse: 4.4963e-04 - val_rmse: 0.0212 - 31s/epoch - 55ms/step\n",
      "Epoch 162/300\n",
      "563/563 - 31s - loss: 0.0075 - mse: 1.0608e-04 - rmse: 0.0103 - val_loss: 0.0088 - val_mse: 1.5176e-04 - val_rmse: 0.0123 - 31s/epoch - 55ms/step\n",
      "Epoch 163/300\n",
      "563/563 - 31s - loss: 0.0073 - mse: 1.0603e-04 - rmse: 0.0103 - val_loss: 0.0087 - val_mse: 1.5192e-04 - val_rmse: 0.0123 - 31s/epoch - 55ms/step\n",
      "Epoch 164/300\n",
      "563/563 - 31s - loss: 0.0072 - mse: 1.0514e-04 - rmse: 0.0103 - val_loss: 0.0159 - val_mse: 3.8052e-04 - val_rmse: 0.0195 - 31s/epoch - 55ms/step\n",
      "Epoch 165/300\n",
      "563/563 - 31s - loss: 0.0072 - mse: 1.0875e-04 - rmse: 0.0104 - val_loss: 0.0105 - val_mse: 2.1663e-04 - val_rmse: 0.0147 - 31s/epoch - 55ms/step\n",
      "Epoch 166/300\n",
      "563/563 - 31s - loss: 0.0069 - mse: 1.0637e-04 - rmse: 0.0103 - val_loss: 0.0073 - val_mse: 1.2016e-04 - val_rmse: 0.0110 - 31s/epoch - 56ms/step\n",
      "Epoch 167/300\n",
      "563/563 - 32s - loss: 0.0067 - mse: 1.0414e-04 - rmse: 0.0102 - val_loss: 0.0075 - val_mse: 1.3202e-04 - val_rmse: 0.0115 - 32s/epoch - 56ms/step\n",
      "Epoch 168/300\n",
      "563/563 - 32s - loss: 0.0067 - mse: 1.0449e-04 - rmse: 0.0102 - val_loss: 0.0072 - val_mse: 1.2231e-04 - val_rmse: 0.0111 - 32s/epoch - 56ms/step\n",
      "Epoch 169/300\n",
      "563/563 - 31s - loss: 0.0065 - mse: 1.0278e-04 - rmse: 0.0101 - val_loss: 0.0084 - val_mse: 1.6758e-04 - val_rmse: 0.0129 - 31s/epoch - 56ms/step\n",
      "Epoch 170/300\n",
      "563/563 - 31s - loss: 0.0065 - mse: 1.0681e-04 - rmse: 0.0103 - val_loss: 0.0077 - val_mse: 1.4860e-04 - val_rmse: 0.0122 - 31s/epoch - 56ms/step\n",
      "Epoch 171/300\n",
      "563/563 - 31s - loss: 0.0063 - mse: 1.0375e-04 - rmse: 0.0102 - val_loss: 0.0077 - val_mse: 1.4668e-04 - val_rmse: 0.0121 - 31s/epoch - 56ms/step\n",
      "Epoch 172/300\n",
      "563/563 - 31s - loss: 0.0062 - mse: 1.0352e-04 - rmse: 0.0102 - val_loss: 0.0067 - val_mse: 1.2151e-04 - val_rmse: 0.0110 - 31s/epoch - 56ms/step\n",
      "Epoch 173/300\n",
      "563/563 - 31s - loss: 0.0061 - mse: 1.0408e-04 - rmse: 0.0102 - val_loss: 0.0082 - val_mse: 1.7227e-04 - val_rmse: 0.0131 - 31s/epoch - 56ms/step\n",
      "Epoch 174/300\n",
      "563/563 - 31s - loss: 0.0060 - mse: 1.0230e-04 - rmse: 0.0101 - val_loss: 0.0093 - val_mse: 2.1127e-04 - val_rmse: 0.0145 - 31s/epoch - 56ms/step\n",
      "Epoch 175/300\n",
      "563/563 - 31s - loss: 0.0060 - mse: 1.0366e-04 - rmse: 0.0102 - val_loss: 0.0063 - val_mse: 1.1927e-04 - val_rmse: 0.0109 - 31s/epoch - 56ms/step\n",
      "Epoch 176/300\n",
      "563/563 - 31s - loss: 0.0058 - mse: 1.0233e-04 - rmse: 0.0101 - val_loss: 0.0081 - val_mse: 1.7423e-04 - val_rmse: 0.0132 - 31s/epoch - 55ms/step\n",
      "Epoch 177/300\n",
      "563/563 - 31s - loss: 0.0057 - mse: 1.0068e-04 - rmse: 0.0100 - val_loss: 0.0063 - val_mse: 1.2183e-04 - val_rmse: 0.0110 - 31s/epoch - 55ms/step\n",
      "Epoch 178/300\n",
      "563/563 - 31s - loss: 0.0056 - mse: 1.0057e-04 - rmse: 0.0100 - val_loss: 0.0088 - val_mse: 2.0332e-04 - val_rmse: 0.0143 - 31s/epoch - 55ms/step\n",
      "Epoch 179/300\n",
      "563/563 - 31s - loss: 0.0055 - mse: 1.0121e-04 - rmse: 0.0101 - val_loss: 0.0070 - val_mse: 1.5045e-04 - val_rmse: 0.0123 - 31s/epoch - 55ms/step\n",
      "Epoch 180/300\n",
      "563/563 - 31s - loss: 0.0054 - mse: 9.9253e-05 - rmse: 0.0100 - val_loss: 0.0064 - val_mse: 1.3165e-04 - val_rmse: 0.0115 - 31s/epoch - 55ms/step\n",
      "Epoch 181/300\n",
      "563/563 - 31s - loss: 0.0053 - mse: 9.9710e-05 - rmse: 0.0100 - val_loss: 0.0078 - val_mse: 1.8106e-04 - val_rmse: 0.0135 - 31s/epoch - 56ms/step\n",
      "Epoch 182/300\n",
      "563/563 - 31s - loss: 0.0053 - mse: 1.0093e-04 - rmse: 0.0100 - val_loss: 0.0058 - val_mse: 1.1841e-04 - val_rmse: 0.0109 - 31s/epoch - 55ms/step\n",
      "Epoch 183/300\n",
      "563/563 - 31s - loss: 0.0053 - mse: 1.0065e-04 - rmse: 0.0100 - val_loss: 0.0059 - val_mse: 1.2323e-04 - val_rmse: 0.0111 - 31s/epoch - 55ms/step\n",
      "Epoch 184/300\n",
      "563/563 - 31s - loss: 0.0051 - mse: 9.8737e-05 - rmse: 0.0099 - val_loss: 0.0077 - val_mse: 1.8057e-04 - val_rmse: 0.0134 - 31s/epoch - 55ms/step\n",
      "Epoch 185/300\n",
      "563/563 - 31s - loss: 0.0050 - mse: 9.7956e-05 - rmse: 0.0099 - val_loss: 0.0064 - val_mse: 1.4427e-04 - val_rmse: 0.0120 - 31s/epoch - 55ms/step\n",
      "Epoch 186/300\n",
      "563/563 - 31s - loss: 0.0050 - mse: 9.8983e-05 - rmse: 0.0099 - val_loss: 0.0078 - val_mse: 1.8715e-04 - val_rmse: 0.0137 - 31s/epoch - 55ms/step\n",
      "Epoch 187/300\n",
      "563/563 - 31s - loss: 0.0049 - mse: 9.8000e-05 - rmse: 0.0099 - val_loss: 0.0124 - val_mse: 3.3487e-04 - val_rmse: 0.0183 - 31s/epoch - 55ms/step\n",
      "Epoch 188/300\n",
      "563/563 - 31s - loss: 0.0049 - mse: 9.8830e-05 - rmse: 0.0099 - val_loss: 0.0056 - val_mse: 1.2048e-04 - val_rmse: 0.0110 - 31s/epoch - 55ms/step\n",
      "Epoch 189/300\n",
      "563/563 - 31s - loss: 0.0048 - mse: 9.7078e-05 - rmse: 0.0099 - val_loss: 0.0074 - val_mse: 1.8100e-04 - val_rmse: 0.0135 - 31s/epoch - 55ms/step\n",
      "Epoch 190/300\n",
      "563/563 - 31s - loss: 0.0048 - mse: 9.9593e-05 - rmse: 0.0100 - val_loss: 0.0054 - val_mse: 1.1431e-04 - val_rmse: 0.0107 - 31s/epoch - 55ms/step\n",
      "Epoch 191/300\n",
      "563/563 - 31s - loss: 0.0047 - mse: 9.6955e-05 - rmse: 0.0098 - val_loss: 0.0061 - val_mse: 1.4255e-04 - val_rmse: 0.0119 - 31s/epoch - 55ms/step\n",
      "Epoch 192/300\n",
      "563/563 - 31s - loss: 0.0047 - mse: 9.8374e-05 - rmse: 0.0099 - val_loss: 0.0052 - val_mse: 1.1321e-04 - val_rmse: 0.0106 - 31s/epoch - 55ms/step\n",
      "Epoch 193/300\n",
      "563/563 - 31s - loss: 0.0046 - mse: 9.6949e-05 - rmse: 0.0098 - val_loss: 0.0099 - val_mse: 2.6514e-04 - val_rmse: 0.0163 - 31s/epoch - 55ms/step\n",
      "Epoch 194/300\n",
      "563/563 - 31s - loss: 0.0046 - mse: 9.7823e-05 - rmse: 0.0099 - val_loss: 0.0049 - val_mse: 1.0648e-04 - val_rmse: 0.0103 - 31s/epoch - 55ms/step\n",
      "Epoch 195/300\n",
      "563/563 - 31s - loss: 0.0045 - mse: 9.5469e-05 - rmse: 0.0098 - val_loss: 0.0059 - val_mse: 1.4303e-04 - val_rmse: 0.0120 - 31s/epoch - 55ms/step\n",
      "Epoch 196/300\n",
      "563/563 - 31s - loss: 0.0045 - mse: 9.5508e-05 - rmse: 0.0098 - val_loss: 0.0053 - val_mse: 1.2345e-04 - val_rmse: 0.0111 - 31s/epoch - 56ms/step\n",
      "Epoch 197/300\n",
      "563/563 - 31s - loss: 0.0046 - mse: 9.8302e-05 - rmse: 0.0099 - val_loss: 0.0054 - val_mse: 1.2576e-04 - val_rmse: 0.0112 - 31s/epoch - 55ms/step\n",
      "Epoch 198/300\n",
      "563/563 - 31s - loss: 0.0044 - mse: 9.5865e-05 - rmse: 0.0098 - val_loss: 0.0049 - val_mse: 1.1149e-04 - val_rmse: 0.0106 - 31s/epoch - 55ms/step\n",
      "Epoch 199/300\n",
      "563/563 - 31s - loss: 0.0043 - mse: 9.4605e-05 - rmse: 0.0097 - val_loss: 0.0057 - val_mse: 1.3816e-04 - val_rmse: 0.0118 - 31s/epoch - 55ms/step\n",
      "Epoch 200/300\n",
      "563/563 - 31s - loss: 0.0043 - mse: 9.4642e-05 - rmse: 0.0097 - val_loss: 0.0060 - val_mse: 1.4941e-04 - val_rmse: 0.0122 - 31s/epoch - 55ms/step\n",
      "Epoch 201/300\n",
      "563/563 - 31s - loss: 0.0043 - mse: 9.5393e-05 - rmse: 0.0098 - val_loss: 0.0048 - val_mse: 1.1233e-04 - val_rmse: 0.0106 - 31s/epoch - 55ms/step\n",
      "Epoch 202/300\n",
      "563/563 - 31s - loss: 0.0043 - mse: 9.6092e-05 - rmse: 0.0098 - val_loss: 0.0072 - val_mse: 1.8790e-04 - val_rmse: 0.0137 - 31s/epoch - 55ms/step\n",
      "Epoch 203/300\n",
      "563/563 - 31s - loss: 0.0042 - mse: 9.3904e-05 - rmse: 0.0097 - val_loss: 0.0076 - val_mse: 2.0013e-04 - val_rmse: 0.0141 - 31s/epoch - 55ms/step\n",
      "Epoch 204/300\n",
      "563/563 - 31s - loss: 0.0042 - mse: 9.4338e-05 - rmse: 0.0097 - val_loss: 0.0055 - val_mse: 1.3550e-04 - val_rmse: 0.0116 - 31s/epoch - 55ms/step\n",
      "Epoch 205/300\n",
      "563/563 - 31s - loss: 0.0042 - mse: 9.4554e-05 - rmse: 0.0097 - val_loss: 0.0057 - val_mse: 1.4341e-04 - val_rmse: 0.0120 - 31s/epoch - 55ms/step\n",
      "Epoch 206/300\n",
      "563/563 - 31s - loss: 0.0041 - mse: 9.4586e-05 - rmse: 0.0097 - val_loss: 0.0048 - val_mse: 1.1595e-04 - val_rmse: 0.0108 - 31s/epoch - 55ms/step\n",
      "Epoch 207/300\n",
      "563/563 - 31s - loss: 0.0041 - mse: 9.3853e-05 - rmse: 0.0097 - val_loss: 0.0065 - val_mse: 1.7282e-04 - val_rmse: 0.0131 - 31s/epoch - 55ms/step\n",
      "Epoch 208/300\n",
      "563/563 - 31s - loss: 0.0040 - mse: 9.2568e-05 - rmse: 0.0096 - val_loss: 0.0047 - val_mse: 1.1490e-04 - val_rmse: 0.0107 - 31s/epoch - 55ms/step\n",
      "Epoch 209/300\n",
      "563/563 - 31s - loss: 0.0040 - mse: 9.2552e-05 - rmse: 0.0096 - val_loss: 0.0068 - val_mse: 1.8087e-04 - val_rmse: 0.0134 - 31s/epoch - 55ms/step\n",
      "Epoch 210/300\n",
      "563/563 - 31s - loss: 0.0040 - mse: 9.2960e-05 - rmse: 0.0096 - val_loss: 0.0044 - val_mse: 1.0587e-04 - val_rmse: 0.0103 - 31s/epoch - 55ms/step\n",
      "Epoch 211/300\n",
      "563/563 - 31s - loss: 0.0040 - mse: 9.4068e-05 - rmse: 0.0097 - val_loss: 0.0059 - val_mse: 1.5495e-04 - val_rmse: 0.0124 - 31s/epoch - 56ms/step\n",
      "Epoch 212/300\n",
      "563/563 - 31s - loss: 0.0039 - mse: 9.1723e-05 - rmse: 0.0096 - val_loss: 0.0049 - val_mse: 1.2539e-04 - val_rmse: 0.0112 - 31s/epoch - 55ms/step\n",
      "Epoch 213/300\n",
      "563/563 - 31s - loss: 0.0039 - mse: 9.2371e-05 - rmse: 0.0096 - val_loss: 0.0045 - val_mse: 1.1013e-04 - val_rmse: 0.0105 - 31s/epoch - 55ms/step\n",
      "Epoch 214/300\n",
      "563/563 - 31s - loss: 0.0039 - mse: 9.3111e-05 - rmse: 0.0096 - val_loss: 0.0073 - val_mse: 2.0023e-04 - val_rmse: 0.0142 - 31s/epoch - 55ms/step\n",
      "Epoch 215/300\n",
      "563/563 - 31s - loss: 0.0038 - mse: 9.1584e-05 - rmse: 0.0096 - val_loss: 0.0081 - val_mse: 2.2768e-04 - val_rmse: 0.0151 - 31s/epoch - 55ms/step\n",
      "Epoch 216/300\n",
      "563/563 - 31s - loss: 0.0038 - mse: 9.2568e-05 - rmse: 0.0096 - val_loss: 0.0042 - val_mse: 1.0325e-04 - val_rmse: 0.0102 - 31s/epoch - 55ms/step\n",
      "Epoch 217/300\n",
      "563/563 - 31s - loss: 0.0038 - mse: 9.2723e-05 - rmse: 0.0096 - val_loss: 0.0082 - val_mse: 2.2912e-04 - val_rmse: 0.0151 - 31s/epoch - 55ms/step\n",
      "Epoch 218/300\n",
      "563/563 - 31s - loss: 0.0038 - mse: 9.2384e-05 - rmse: 0.0096 - val_loss: 0.0044 - val_mse: 1.1167e-04 - val_rmse: 0.0106 - 31s/epoch - 55ms/step\n",
      "Epoch 219/300\n",
      "563/563 - 31s - loss: 0.0037 - mse: 9.0040e-05 - rmse: 0.0095 - val_loss: 0.0055 - val_mse: 1.4619e-04 - val_rmse: 0.0121 - 31s/epoch - 55ms/step\n",
      "Epoch 220/300\n",
      "563/563 - 31s - loss: 0.0037 - mse: 9.1559e-05 - rmse: 0.0096 - val_loss: 0.0054 - val_mse: 1.4626e-04 - val_rmse: 0.0121 - 31s/epoch - 55ms/step\n",
      "Epoch 221/300\n",
      "563/563 - 31s - loss: 0.0037 - mse: 9.0311e-05 - rmse: 0.0095 - val_loss: 0.0095 - val_mse: 2.7295e-04 - val_rmse: 0.0165 - 31s/epoch - 55ms/step\n",
      "Epoch 222/300\n",
      "563/563 - 31s - loss: 0.0037 - mse: 9.0033e-05 - rmse: 0.0095 - val_loss: 0.0045 - val_mse: 1.1811e-04 - val_rmse: 0.0109 - 31s/epoch - 55ms/step\n",
      "Epoch 223/300\n",
      "563/563 - 31s - loss: 0.0037 - mse: 9.1166e-05 - rmse: 0.0095 - val_loss: 0.0041 - val_mse: 1.0562e-04 - val_rmse: 0.0103 - 31s/epoch - 55ms/step\n",
      "Epoch 224/300\n",
      "563/563 - 31s - loss: 0.0037 - mse: 9.1417e-05 - rmse: 0.0096 - val_loss: 0.0056 - val_mse: 1.5236e-04 - val_rmse: 0.0123 - 31s/epoch - 55ms/step\n",
      "Epoch 225/300\n",
      "563/563 - 31s - loss: 0.0036 - mse: 8.9907e-05 - rmse: 0.0095 - val_loss: 0.0047 - val_mse: 1.2631e-04 - val_rmse: 0.0112 - 31s/epoch - 55ms/step\n",
      "Epoch 226/300\n",
      "563/563 - 31s - loss: 0.0036 - mse: 8.9351e-05 - rmse: 0.0095 - val_loss: 0.0054 - val_mse: 1.4556e-04 - val_rmse: 0.0121 - 31s/epoch - 56ms/step\n",
      "Epoch 227/300\n",
      "563/563 - 31s - loss: 0.0036 - mse: 8.9226e-05 - rmse: 0.0094 - val_loss: 0.0053 - val_mse: 1.4557e-04 - val_rmse: 0.0121 - 31s/epoch - 55ms/step\n",
      "Epoch 228/300\n",
      "563/563 - 31s - loss: 0.0036 - mse: 9.0250e-05 - rmse: 0.0095 - val_loss: 0.0054 - val_mse: 1.4869e-04 - val_rmse: 0.0122 - 31s/epoch - 55ms/step\n",
      "Epoch 229/300\n",
      "563/563 - 31s - loss: 0.0036 - mse: 9.0039e-05 - rmse: 0.0095 - val_loss: 0.0051 - val_mse: 1.3957e-04 - val_rmse: 0.0118 - 31s/epoch - 55ms/step\n",
      "Epoch 230/300\n",
      "563/563 - 31s - loss: 0.0035 - mse: 8.9728e-05 - rmse: 0.0095 - val_loss: 0.0044 - val_mse: 1.1595e-04 - val_rmse: 0.0108 - 31s/epoch - 55ms/step\n",
      "Epoch 231/300\n",
      "563/563 - 31s - loss: 0.0035 - mse: 8.9520e-05 - rmse: 0.0095 - val_loss: 0.0054 - val_mse: 1.4918e-04 - val_rmse: 0.0122 - 31s/epoch - 55ms/step\n",
      "Epoch 232/300\n",
      "563/563 - 31s - loss: 0.0035 - mse: 8.9629e-05 - rmse: 0.0095 - val_loss: 0.0043 - val_mse: 1.1357e-04 - val_rmse: 0.0107 - 31s/epoch - 55ms/step\n",
      "Epoch 233/300\n",
      "563/563 - 31s - loss: 0.0035 - mse: 8.9476e-05 - rmse: 0.0095 - val_loss: 0.0044 - val_mse: 1.1678e-04 - val_rmse: 0.0108 - 31s/epoch - 55ms/step\n",
      "Epoch 234/300\n",
      "563/563 - 31s - loss: 0.0035 - mse: 8.8981e-05 - rmse: 0.0094 - val_loss: 0.0041 - val_mse: 1.0812e-04 - val_rmse: 0.0104 - 31s/epoch - 55ms/step\n",
      "Epoch 235/300\n",
      "563/563 - 31s - loss: 0.0035 - mse: 8.8541e-05 - rmse: 0.0094 - val_loss: 0.0042 - val_mse: 1.1284e-04 - val_rmse: 0.0106 - 31s/epoch - 55ms/step\n",
      "Epoch 236/300\n",
      "563/563 - 31s - loss: 0.0034 - mse: 8.7166e-05 - rmse: 0.0093 - val_loss: 0.0038 - val_mse: 9.8777e-05 - val_rmse: 0.0099 - 31s/epoch - 55ms/step\n",
      "Epoch 237/300\n",
      "563/563 - 31s - loss: 0.0035 - mse: 8.9307e-05 - rmse: 0.0095 - val_loss: 0.0047 - val_mse: 1.2987e-04 - val_rmse: 0.0114 - 31s/epoch - 55ms/step\n",
      "Epoch 238/300\n",
      "563/563 - 31s - loss: 0.0034 - mse: 8.8565e-05 - rmse: 0.0094 - val_loss: 0.0042 - val_mse: 1.1524e-04 - val_rmse: 0.0107 - 31s/epoch - 55ms/step\n",
      "Epoch 239/300\n",
      "563/563 - 31s - loss: 0.0034 - mse: 8.7909e-05 - rmse: 0.0094 - val_loss: 0.0042 - val_mse: 1.1527e-04 - val_rmse: 0.0107 - 31s/epoch - 55ms/step\n",
      "Epoch 240/300\n",
      "563/563 - 31s - loss: 0.0033 - mse: 8.6623e-05 - rmse: 0.0093 - val_loss: 0.0036 - val_mse: 9.4395e-05 - val_rmse: 0.0097 - 31s/epoch - 55ms/step\n",
      "Epoch 241/300\n",
      "563/563 - 31s - loss: 0.0033 - mse: 8.6927e-05 - rmse: 0.0093 - val_loss: 0.0041 - val_mse: 1.1134e-04 - val_rmse: 0.0106 - 31s/epoch - 56ms/step\n",
      "Epoch 242/300\n",
      "563/563 - 31s - loss: 0.0033 - mse: 8.6820e-05 - rmse: 0.0093 - val_loss: 0.0043 - val_mse: 1.1758e-04 - val_rmse: 0.0108 - 31s/epoch - 55ms/step\n",
      "Epoch 243/300\n",
      "563/563 - 31s - loss: 0.0033 - mse: 8.6782e-05 - rmse: 0.0093 - val_loss: 0.0050 - val_mse: 1.4128e-04 - val_rmse: 0.0119 - 31s/epoch - 55ms/step\n",
      "Epoch 244/300\n",
      "563/563 - 31s - loss: 0.0034 - mse: 8.8027e-05 - rmse: 0.0094 - val_loss: 0.0050 - val_mse: 1.3906e-04 - val_rmse: 0.0118 - 31s/epoch - 55ms/step\n",
      "Epoch 245/300\n",
      "563/563 - 31s - loss: 0.0033 - mse: 8.6428e-05 - rmse: 0.0093 - val_loss: 0.0046 - val_mse: 1.2947e-04 - val_rmse: 0.0114 - 31s/epoch - 55ms/step\n",
      "Epoch 246/300\n",
      "563/563 - 31s - loss: 0.0033 - mse: 8.7724e-05 - rmse: 0.0094 - val_loss: 0.0054 - val_mse: 1.5427e-04 - val_rmse: 0.0124 - 31s/epoch - 55ms/step\n",
      "Epoch 247/300\n",
      "563/563 - 31s - loss: 0.0033 - mse: 8.6116e-05 - rmse: 0.0093 - val_loss: 0.0036 - val_mse: 9.6905e-05 - val_rmse: 0.0098 - 31s/epoch - 55ms/step\n",
      "Epoch 248/300\n",
      "563/563 - 31s - loss: 0.0032 - mse: 8.6048e-05 - rmse: 0.0093 - val_loss: 0.0035 - val_mse: 9.4349e-05 - val_rmse: 0.0097 - 31s/epoch - 55ms/step\n",
      "Epoch 249/300\n",
      "563/563 - 31s - loss: 0.0032 - mse: 8.5946e-05 - rmse: 0.0093 - val_loss: 0.0043 - val_mse: 1.1970e-04 - val_rmse: 0.0109 - 31s/epoch - 55ms/step\n",
      "Epoch 250/300\n",
      "563/563 - 31s - loss: 0.0032 - mse: 8.5536e-05 - rmse: 0.0092 - val_loss: 0.0054 - val_mse: 1.5599e-04 - val_rmse: 0.0125 - 31s/epoch - 55ms/step\n",
      "Epoch 251/300\n",
      "563/563 - 31s - loss: 0.0032 - mse: 8.5306e-05 - rmse: 0.0092 - val_loss: 0.0042 - val_mse: 1.1784e-04 - val_rmse: 0.0109 - 31s/epoch - 55ms/step\n",
      "Epoch 252/300\n",
      "563/563 - 31s - loss: 0.0032 - mse: 8.6479e-05 - rmse: 0.0093 - val_loss: 0.0065 - val_mse: 1.8977e-04 - val_rmse: 0.0138 - 31s/epoch - 55ms/step\n",
      "Epoch 253/300\n",
      "563/563 - 31s - loss: 0.0032 - mse: 8.6305e-05 - rmse: 0.0093 - val_loss: 0.0046 - val_mse: 1.3010e-04 - val_rmse: 0.0114 - 31s/epoch - 55ms/step\n",
      "Epoch 254/300\n",
      "563/563 - 31s - loss: 0.0032 - mse: 8.5271e-05 - rmse: 0.0092 - val_loss: 0.0034 - val_mse: 9.4258e-05 - val_rmse: 0.0097 - 31s/epoch - 55ms/step\n",
      "Epoch 255/300\n",
      "563/563 - 31s - loss: 0.0032 - mse: 8.5147e-05 - rmse: 0.0092 - val_loss: 0.0033 - val_mse: 9.1306e-05 - val_rmse: 0.0096 - 31s/epoch - 55ms/step\n",
      "Epoch 256/300\n",
      "563/563 - 31s - loss: 0.0031 - mse: 8.5007e-05 - rmse: 0.0092 - val_loss: 0.0038 - val_mse: 1.0743e-04 - val_rmse: 0.0104 - 31s/epoch - 56ms/step\n",
      "Epoch 257/300\n",
      "563/563 - 31s - loss: 0.0031 - mse: 8.4239e-05 - rmse: 0.0092 - val_loss: 0.0056 - val_mse: 1.6389e-04 - val_rmse: 0.0128 - 31s/epoch - 55ms/step\n",
      "Epoch 258/300\n",
      "563/563 - 31s - loss: 0.0031 - mse: 8.5003e-05 - rmse: 0.0092 - val_loss: 0.0047 - val_mse: 1.3315e-04 - val_rmse: 0.0115 - 31s/epoch - 55ms/step\n",
      "Epoch 259/300\n",
      "563/563 - 31s - loss: 0.0031 - mse: 8.4333e-05 - rmse: 0.0092 - val_loss: 0.0037 - val_mse: 1.0431e-04 - val_rmse: 0.0102 - 31s/epoch - 55ms/step\n",
      "Epoch 260/300\n",
      "563/563 - 31s - loss: 0.0031 - mse: 8.5584e-05 - rmse: 0.0093 - val_loss: 0.0082 - val_mse: 2.4551e-04 - val_rmse: 0.0157 - 31s/epoch - 55ms/step\n",
      "Epoch 261/300\n",
      "563/563 - 31s - loss: 0.0031 - mse: 8.4550e-05 - rmse: 0.0092 - val_loss: 0.0051 - val_mse: 1.4819e-04 - val_rmse: 0.0122 - 31s/epoch - 55ms/step\n",
      "Epoch 262/300\n",
      "563/563 - 31s - loss: 0.0031 - mse: 8.4833e-05 - rmse: 0.0092 - val_loss: 0.0038 - val_mse: 1.0815e-04 - val_rmse: 0.0104 - 31s/epoch - 55ms/step\n",
      "Epoch 263/300\n",
      "563/563 - 31s - loss: 0.0031 - mse: 8.4899e-05 - rmse: 0.0092 - val_loss: 0.0040 - val_mse: 1.1295e-04 - val_rmse: 0.0106 - 31s/epoch - 55ms/step\n",
      "Epoch 264/300\n",
      "563/563 - 31s - loss: 0.0030 - mse: 8.3290e-05 - rmse: 0.0091 - val_loss: 0.0033 - val_mse: 9.1976e-05 - val_rmse: 0.0096 - 31s/epoch - 55ms/step\n",
      "Epoch 265/300\n",
      "563/563 - 31s - loss: 0.0030 - mse: 8.3631e-05 - rmse: 0.0091 - val_loss: 0.0066 - val_mse: 1.9541e-04 - val_rmse: 0.0140 - 31s/epoch - 55ms/step\n",
      "Epoch 266/300\n",
      "563/563 - 31s - loss: 0.0031 - mse: 8.4562e-05 - rmse: 0.0092 - val_loss: 0.0032 - val_mse: 8.9373e-05 - val_rmse: 0.0095 - 31s/epoch - 56ms/step\n",
      "Epoch 267/300\n",
      "563/563 - 31s - loss: 0.0031 - mse: 8.4653e-05 - rmse: 0.0092 - val_loss: 0.0049 - val_mse: 1.4046e-04 - val_rmse: 0.0119 - 31s/epoch - 55ms/step\n",
      "Epoch 268/300\n",
      "563/563 - 32s - loss: 0.0030 - mse: 8.3299e-05 - rmse: 0.0091 - val_loss: 0.0046 - val_mse: 1.3218e-04 - val_rmse: 0.0115 - 32s/epoch - 56ms/step\n",
      "Epoch 269/300\n",
      "563/563 - 31s - loss: 0.0030 - mse: 8.3975e-05 - rmse: 0.0092 - val_loss: 0.0037 - val_mse: 1.0599e-04 - val_rmse: 0.0103 - 31s/epoch - 55ms/step\n",
      "Epoch 270/300\n",
      "563/563 - 31s - loss: 0.0030 - mse: 8.3629e-05 - rmse: 0.0091 - val_loss: 0.0036 - val_mse: 1.0247e-04 - val_rmse: 0.0101 - 31s/epoch - 55ms/step\n",
      "Epoch 271/300\n",
      "563/563 - 31s - loss: 0.0030 - mse: 8.3260e-05 - rmse: 0.0091 - val_loss: 0.0040 - val_mse: 1.1534e-04 - val_rmse: 0.0107 - 31s/epoch - 56ms/step\n",
      "Epoch 272/300\n",
      "563/563 - 31s - loss: 0.0030 - mse: 8.3766e-05 - rmse: 0.0092 - val_loss: 0.0041 - val_mse: 1.1672e-04 - val_rmse: 0.0108 - 31s/epoch - 55ms/step\n",
      "Epoch 273/300\n",
      "563/563 - 31s - loss: 0.0030 - mse: 8.4836e-05 - rmse: 0.0092 - val_loss: 0.0052 - val_mse: 1.5400e-04 - val_rmse: 0.0124 - 31s/epoch - 55ms/step\n",
      "Epoch 274/300\n",
      "563/563 - 31s - loss: 0.0030 - mse: 8.3970e-05 - rmse: 0.0092 - val_loss: 0.0048 - val_mse: 1.4032e-04 - val_rmse: 0.0118 - 31s/epoch - 55ms/step\n",
      "Epoch 275/300\n",
      "563/563 - 31s - loss: 0.0029 - mse: 8.2101e-05 - rmse: 0.0091 - val_loss: 0.0041 - val_mse: 1.1939e-04 - val_rmse: 0.0109 - 31s/epoch - 55ms/step\n",
      "Epoch 276/300\n",
      "563/563 - 31s - loss: 0.0030 - mse: 8.2623e-05 - rmse: 0.0091 - val_loss: 0.0030 - val_mse: 8.5219e-05 - val_rmse: 0.0092 - 31s/epoch - 55ms/step\n",
      "Epoch 277/300\n",
      "563/563 - 31s - loss: 0.0030 - mse: 8.2700e-05 - rmse: 0.0091 - val_loss: 0.0031 - val_mse: 8.6547e-05 - val_rmse: 0.0093 - 31s/epoch - 55ms/step\n",
      "Epoch 278/300\n",
      "563/563 - 31s - loss: 0.0030 - mse: 8.2589e-05 - rmse: 0.0091 - val_loss: 0.0032 - val_mse: 9.1786e-05 - val_rmse: 0.0096 - 31s/epoch - 56ms/step\n",
      "Epoch 279/300\n",
      "563/563 - 31s - loss: 0.0029 - mse: 8.2674e-05 - rmse: 0.0091 - val_loss: 0.0044 - val_mse: 1.3020e-04 - val_rmse: 0.0114 - 31s/epoch - 55ms/step\n",
      "Epoch 280/300\n",
      "563/563 - 31s - loss: 0.0029 - mse: 8.1991e-05 - rmse: 0.0091 - val_loss: 0.0034 - val_mse: 9.7730e-05 - val_rmse: 0.0099 - 31s/epoch - 55ms/step\n",
      "Epoch 281/300\n",
      "563/563 - 31s - loss: 0.0030 - mse: 8.3413e-05 - rmse: 0.0091 - val_loss: 0.0034 - val_mse: 9.7571e-05 - val_rmse: 0.0099 - 31s/epoch - 55ms/step\n",
      "Epoch 282/300\n",
      "563/563 - 31s - loss: 0.0029 - mse: 8.2225e-05 - rmse: 0.0091 - val_loss: 0.0035 - val_mse: 1.0195e-04 - val_rmse: 0.0101 - 31s/epoch - 55ms/step\n",
      "Epoch 283/300\n",
      "563/563 - 31s - loss: 0.0029 - mse: 8.1515e-05 - rmse: 0.0090 - val_loss: 0.0034 - val_mse: 9.9061e-05 - val_rmse: 0.0100 - 31s/epoch - 55ms/step\n",
      "Epoch 284/300\n",
      "563/563 - 31s - loss: 0.0029 - mse: 8.1697e-05 - rmse: 0.0090 - val_loss: 0.0038 - val_mse: 1.0974e-04 - val_rmse: 0.0105 - 31s/epoch - 55ms/step\n",
      "Epoch 285/300\n",
      "563/563 - 31s - loss: 0.0029 - mse: 8.1641e-05 - rmse: 0.0090 - val_loss: 0.0039 - val_mse: 1.1323e-04 - val_rmse: 0.0106 - 31s/epoch - 56ms/step\n",
      "Epoch 286/300\n",
      "563/563 - 32s - loss: 0.0029 - mse: 8.2970e-05 - rmse: 0.0091 - val_loss: 0.0031 - val_mse: 9.0277e-05 - val_rmse: 0.0095 - 32s/epoch - 56ms/step\n",
      "Epoch 287/300\n",
      "563/563 - 31s - loss: 0.0029 - mse: 8.1711e-05 - rmse: 0.0090 - val_loss: 0.0030 - val_mse: 8.3978e-05 - val_rmse: 0.0092 - 31s/epoch - 56ms/step\n",
      "Epoch 288/300\n",
      "563/563 - 31s - loss: 0.0029 - mse: 8.1114e-05 - rmse: 0.0090 - val_loss: 0.0035 - val_mse: 1.0266e-04 - val_rmse: 0.0101 - 31s/epoch - 55ms/step\n",
      "Epoch 289/300\n",
      "563/563 - 31s - loss: 0.0029 - mse: 8.1063e-05 - rmse: 0.0090 - val_loss: 0.0031 - val_mse: 8.9901e-05 - val_rmse: 0.0095 - 31s/epoch - 55ms/step\n",
      "Epoch 290/300\n",
      "563/563 - 31s - loss: 0.0029 - mse: 8.0983e-05 - rmse: 0.0090 - val_loss: 0.0035 - val_mse: 1.0321e-04 - val_rmse: 0.0102 - 31s/epoch - 55ms/step\n",
      "Epoch 291/300\n",
      "563/563 - 31s - loss: 0.0028 - mse: 8.1043e-05 - rmse: 0.0090 - val_loss: 0.0041 - val_mse: 1.2145e-04 - val_rmse: 0.0110 - 31s/epoch - 55ms/step\n",
      "Epoch 292/300\n",
      "563/563 - 31s - loss: 0.0028 - mse: 8.0617e-05 - rmse: 0.0090 - val_loss: 0.0029 - val_mse: 8.1832e-05 - val_rmse: 0.0090 - 31s/epoch - 55ms/step\n",
      "Epoch 293/300\n",
      "563/563 - 31s - loss: 0.0028 - mse: 7.9973e-05 - rmse: 0.0089 - val_loss: 0.0047 - val_mse: 1.3876e-04 - val_rmse: 0.0118 - 31s/epoch - 56ms/step\n",
      "Epoch 294/300\n",
      "563/563 - 31s - loss: 0.0028 - mse: 8.0814e-05 - rmse: 0.0090 - val_loss: 0.0035 - val_mse: 1.0180e-04 - val_rmse: 0.0101 - 31s/epoch - 56ms/step\n",
      "Epoch 295/300\n",
      "563/563 - 31s - loss: 0.0028 - mse: 7.9971e-05 - rmse: 0.0089 - val_loss: 0.0042 - val_mse: 1.2244e-04 - val_rmse: 0.0111 - 31s/epoch - 55ms/step\n",
      "Epoch 296/300\n",
      "563/563 - 31s - loss: 0.0028 - mse: 8.0976e-05 - rmse: 0.0090 - val_loss: 0.0036 - val_mse: 1.0676e-04 - val_rmse: 0.0103 - 31s/epoch - 55ms/step\n",
      "Epoch 297/300\n",
      "563/563 - 31s - loss: 0.0028 - mse: 8.0636e-05 - rmse: 0.0090 - val_loss: 0.0035 - val_mse: 1.0456e-04 - val_rmse: 0.0102 - 31s/epoch - 55ms/step\n",
      "Epoch 298/300\n",
      "563/563 - 31s - loss: 0.0028 - mse: 8.0629e-05 - rmse: 0.0090 - val_loss: 0.0030 - val_mse: 8.7597e-05 - val_rmse: 0.0094 - 31s/epoch - 55ms/step\n",
      "Epoch 299/300\n",
      "563/563 - 31s - loss: 0.0028 - mse: 7.9836e-05 - rmse: 0.0089 - val_loss: 0.0047 - val_mse: 1.4082e-04 - val_rmse: 0.0119 - 31s/epoch - 55ms/step\n",
      "Epoch 300/300\n",
      "563/563 - 31s - loss: 0.0028 - mse: 7.9867e-05 - rmse: 0.0089 - val_loss: 0.0036 - val_mse: 1.0651e-04 - val_rmse: 0.0103 - 31s/epoch - 55ms/step\n",
      "\n",
      "Best validation MSE is 8.183212776202708e-05 on epoch #292\n"
     ]
    }
   ],
   "source": [
    "if PERFORM_TRAINING:\n",
    "    callbacks = [TrackBestPerformance(CKP_PATH)]\n",
    "\n",
    "    history = model.fit(X_TRAIN, Y_TRAIN, validation_data=(X_VAL, Y_VAL),\n",
    "                        epochs=EPOCHS, callbacks=callbacks, verbose=2)\n",
    "else:\n",
    "    model.load_weights(CKP_PATH)"
   ]
  },
  {
   "cell_type": "code",
   "execution_count": 27,
   "metadata": {
    "colab": {
     "base_uri": "https://localhost:8080/"
    },
    "id": "urw4DWagztHw",
    "outputId": "27ffc32d-8515-45fc-8fa3-d63cec9c830b"
   },
   "outputs": [
    {
     "name": "stdout",
     "output_type": "stream",
     "text": [
      "Best validation MSE: 8.18321e-05\n",
      "Corresponding train MSE: 8.06173e-05\n"
     ]
    }
   ],
   "source": [
    "if PERFORM_TRAINING:\n",
    "    best_epoch_idx = np.argmin(history.history['val_mse'])\n",
    "\n",
    "    print('Best validation MSE: {:.6}'.format(history.history['val_mse'][best_epoch_idx]))\n",
    "    print('Corresponding train MSE: {:.6}'.format(history.history['mse'][best_epoch_idx]))"
   ]
  },
  {
   "cell_type": "code",
   "execution_count": 23,
   "metadata": {
    "colab": {
     "base_uri": "https://localhost:8080/",
     "height": 350
    },
    "id": "r58bh8CDztKP",
    "outputId": "49ab36c3-7247-4ce1-9960-642d787ff882"
   },
   "outputs": [
    {
     "data": {
      "image/png": "[encoded data removed]",
      "text/plain": [
       "<Figure size 1080x360 with 2 Axes>"
      ]
     },
     "metadata": {
      "needs_background": "light"
     },
     "output_type": "display_data"
    }
   ],
   "source": [
    "if PERFORM_TRAINING:\n",
    "    _, axes = plot.subplots(nrows=1, ncols=2, figsize=(15, 5))\n",
    "\n",
    "    # Loss vs Epoch plot\n",
    "    _ = axes[0].plot(range(1, best_epoch_idx + 2),\n",
    "                     history.history['loss'][:best_epoch_idx + 1],\n",
    "                     label='Train data')\n",
    "    _ = axes[0].plot(range(1, best_epoch_idx + 2),\n",
    "                     history.history['val_loss'][:best_epoch_idx + 1],\n",
    "                     label='Validation data')\n",
    "    _ = axes[0].set(xlabel='Epoch', ylabel='Loss', title='Loss vs Epoch')\n",
    "\n",
    "    # MSE vs Epoch plot\n",
    "    _ = axes[1].plot(range(1, best_epoch_idx + 2),\n",
    "                     history.history['mse'][:best_epoch_idx + 1],\n",
    "                     label='Train data')\n",
    "    _ = axes[1].plot(range(1, best_epoch_idx + 2),\n",
    "                     history.history['val_mse'][:best_epoch_idx + 1],\n",
    "                     label='Validation data')\n",
    "    _ = axes[1].set(xlabel='Epoch', ylabel='MSE', title='MSE vs Epoch')\n",
    "\n",
    "    _ = plot.legend()"
   ]
  },
  {
   "cell_type": "code",
   "execution_count": 24,
   "metadata": {
    "colab": {
     "base_uri": "https://localhost:8080/"
    },
    "id": "IN1P0Ose0gI-",
    "outputId": "1d00a5b6-6da8-4893-9219-9a7e7f0dd955"
   },
   "outputs": [
    {
     "name": "stdout",
     "output_type": "stream",
     "text": [
      "/content/output /content\n",
      "/content\n"
     ]
    }
   ],
   "source": [
    "# Zip model weights for download\n",
    "!pushd {OUTPATH}; zip -rq test_3_weights.zip weights; popd"
   ]
  },
  {
   "cell_type": "markdown",
   "metadata": {
    "id": "W-HCQX7UxmIn"
   },
   "source": [
    "<a name=\"evaluation\"><a/>\n",
    "# Evaluation"
   ]
  },
  {
   "cell_type": "code",
   "execution_count": 25,
   "metadata": {
    "id": "reJl2awBfXub"
   },
   "outputs": [],
   "source": [
    "def split_and_predict(x, num_batches=50):\n",
    "    '''\n",
    "    Utility function to do a forward pass with large data\n",
    "    Splits data into batches and does forward pass through the model\n",
    "    '''\n",
    "    x_batches = np.array_split(x, num_batches)\n",
    "    y_pred = np.concatenate([model(x_batch).numpy() for x_batch in x_batches], axis=0)[:, 0]\n",
    "    return y_pred"
   ]
  },
  {
   "cell_type": "code",
   "execution_count": 26,
   "metadata": {
    "id": "ZXw0SmgB0gNS"
   },
   "outputs": [],
   "source": [
    "# Get predictions\n",
    "Y_PRED_TRAIN = split_and_predict(X_TRAIN)\n",
    "Y_PRED_VAL = split_and_predict(X_VAL)"
   ]
  },
  {
   "cell_type": "markdown",
   "metadata": {
    "id": "d_f-orerx2W7"
   },
   "source": [
    "<a name=\"external-evaluation\"><a/>\n",
    "### External Evaluation"
   ]
  },
  {
   "cell_type": "code",
   "execution_count": null,
   "metadata": {
    "id": "yTsLsDHT1B2o"
   },
   "outputs": [],
   "source": [
    "# Load test data | Shape: (None, 101, 101, 1)\n",
    "X_TEST, Y_TEST = None, None"
   ]
  },
  {
   "cell_type": "code",
   "execution_count": null,
   "metadata": {
    "id": "tLVMnSuQ1eJC"
   },
   "outputs": [],
   "source": [
    "# Standardize test data\n",
    "X_TEST = standardize(X_TEST, 'test', OUTPATH)\n",
    "\n",
    "# Calculate MSE\n",
    "test_mse = model.evaluate(X_TEST, Y_TEST, verbose=0)[1]\n",
    "\n",
    "print(f'MSE on test data is {test_mse}')"
   ]
  },
  {
   "cell_type": "code",
   "execution_count": null,
   "metadata": {
    "id": "ioc66LK90gPl"
   },
   "outputs": [],
   "source": [
    "# Get predictions (needed to plot ROC curve)\n",
    "Y_PRED_TEST = split_and_predict(X_TEST)"
   ]
  },
  {
   "cell_type": "markdown",
   "metadata": {
    "id": "havk8lnjySNC"
   },
   "source": [
    "<a name=\"acknowledgements\"></a>\n",
    "\n",
    "# Acknowledgements\n",
    "\n",
    "The structure of the model used was partially inspired from the paper titled:\n",
    "\n",
    "[Deep Convolutional Neural Networks as strong gravitational lens detectors](https://arxiv.org/pdf/1705.07132.pdf) by C. Schaefer, M. Geiger, T. Kuntzer, J-P. Kneib"
   ]
  }
 ],
 "metadata": {
  "accelerator": "GPU",
  "colab": {
   "collapsed_sections": [],
   "machine_shape": "hm",
   "name": "gsoc_deeplense_test_3.ipynb",
   "provenance": []
  },
  "kernelspec": {
   "display_name": "Python 3 (ipykernel)",
   "language": "python",
   "name": "python3"
  },
  "language_info": {
   "codemirror_mode": {
    "name": "ipython",
    "version": 3
   },
   "file_extension": ".py",
   "mimetype": "text/x-python",
   "name": "python",
   "nbconvert_exporter": "python",
   "pygments_lexer": "ipython3",
   "version": "3.8.12"
  }
 },
 "nbformat": 4,
 "nbformat_minor": 1
}
